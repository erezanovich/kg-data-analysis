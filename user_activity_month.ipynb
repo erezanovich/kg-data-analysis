{
 "cells": [
  {
   "cell_type": "code",
   "execution_count": 0,
   "metadata": {},
   "outputs": [
    {
     "name": "stderr",
     "output_type": "stream",
     "text": [
      "/var/folders/t5/84slq0fn2gx51rghrcgxpjt80000gn/T/ipykernel_86034/1792471945.py:14: MatplotlibDeprecationWarning: The seaborn styles shipped by Matplotlib are deprecated since 3.6, as they no longer correspond to the styles shipped by seaborn. However, they will remain available as 'seaborn-v0_8-<style>'. Alternatively, directly use the seaborn API instead.\n",
      "  plt.style.use('seaborn-pastel')\n",
      "/var/folders/t5/84slq0fn2gx51rghrcgxpjt80000gn/T/ipykernel_86034/1792471945.py:15: MatplotlibDeprecationWarning: The seaborn styles shipped by Matplotlib are deprecated since 3.6, as they no longer correspond to the styles shipped by seaborn. However, they will remain available as 'seaborn-v0_8-<style>'. Alternatively, directly use the seaborn API instead.\n",
      "  plt.style.use('seaborn-dark')\n"
     ]
    }
   ],
   "source": [
    "import pandas as pd\n",
    "import numpy as np\n",
    "import matplotlib.pyplot as plt\n",
    "import seaborn as sns\n",
    "import datetime as dt\n",
    "import itertools\n",
    "import re\n",
    "from itertools import product\n",
    "import operator\n",
    "from functools import reduce\n",
    "#from pandas import option_context\n",
    "#%pip install openpyxl\n",
    "%config InlineBackend.figure_format = 'retina'\n",
    "plt.style.use('seaborn-pastel')\n",
    "plt.style.use('seaborn-dark')"
   ]
  },
  {
   "cell_type": "code",
   "execution_count": 1,
   "metadata": {},
   "outputs": [],
   "source": [
    "import matplotlib\n",
    "from matplotlib.colors import ListedColormap\n",
    "from matplotlib.colors import LinearSegmentedColormap\n",
    "matplotlib.style.use('seaborn-v0_8')\n",
    "color_list = ['white','skyblue','pink', 'tomato', 'slateblue', 'wheat', 'lightgrey', 'limegreen', 'royalblue', 'yellowgreen', 'lightseagreen', 'orchid', 'orange']\n",
    "cmap = LinearSegmentedColormap.from_list(\"\",color_list)\n",
    "from matplotlib.widgets import Cursor \n",
    "import mplcursors"
   ]
  },
  {
   "cell_type": "code",
   "execution_count": 2,
   "metadata": {},
   "outputs": [],
   "source": [
    "# Import all the google connexion packages\n",
    "import os\n",
    "import google.auth\n",
    "from google.cloud import bigquery\n",
    "from google.auth import impersonated_credentials\n",
    "\n",
    "os.environ['GOOGLE_APPLICATION_CREDENTIALS'] = \"/Users/a20015173/.config/gcloud/legacy_credentials/ekaterina.rezanovich@adeo.com/adc.json\"\n",
    "client_1 = bigquery.Client(project = 'ccdp-transverse-data-dev')"
   ]
  },
  {
   "cell_type": "code",
   "execution_count": 3,
   "metadata": {},
   "outputs": [],
   "source": [
    "project_id = \"ccdp-transverse-data-dev\"\n",
    "dataset_id = \"ccdp_kg_project\"\n",
    "table_target = \"kg_concept_metrics_jan_24\"\n",
    "table_target_2 = \"\""
   ]
  },
  {
   "cell_type": "raw",
   "metadata": {},
   "source": [
    "# product + concept + concept branch\n",
    "query = \"\"\"\n",
    "select \tproduct_code, concept_code, concept_level\n",
    "from `ccdp-transverse-data-dev.ccdp_kg_project.kg_product_concept_branch`\n",
    "    \"\"\"\n",
    "dl_data = pd.read_gbq(query=query, project_id=\"ccdp-transverse-data-dev\")\n",
    "df_product_rel_branch = dl_data"
   ]
  },
  {
   "cell_type": "code",
   "execution_count": 4,
   "metadata": {},
   "outputs": [
    {
     "data": {
      "text/html": [
       "<div>\n",
       "<style scoped>\n",
       "    .dataframe tbody tr th:only-of-type {\n",
       "        vertical-align: middle;\n",
       "    }\n",
       "\n",
       "    .dataframe tbody tr th {\n",
       "        vertical-align: top;\n",
       "    }\n",
       "\n",
       "    .dataframe thead th {\n",
       "        text-align: right;\n",
       "    }\n",
       "</style>\n",
       "<table border=\"1\" class=\"dataframe\">\n",
       "  <thead>\n",
       "    <tr style=\"text-align: right;\">\n",
       "      <th></th>\n",
       "      <th>productCode</th>\n",
       "      <th>date</th>\n",
       "      <th>concept_code</th>\n",
       "      <th>rn_0</th>\n",
       "    </tr>\n",
       "  </thead>\n",
       "  <tbody>\n",
       "    <tr>\n",
       "      <th>0</th>\n",
       "      <td>89959659</td>\n",
       "      <td>2024-01-12 21:48:19.027</td>\n",
       "      <td>https://opus-adeo.poolparty.biz/COMMONTAXO/3387</td>\n",
       "      <td>1</td>\n",
       "    </tr>\n",
       "    <tr>\n",
       "      <th>1</th>\n",
       "      <td>89963789</td>\n",
       "      <td>2024-01-10 04:24:06.630</td>\n",
       "      <td>https://opus-adeo.poolparty.biz/COMMONTAXO/3387</td>\n",
       "      <td>1</td>\n",
       "    </tr>\n",
       "    <tr>\n",
       "      <th>2</th>\n",
       "      <td>90082049</td>\n",
       "      <td>2023-11-21 03:19:03.715</td>\n",
       "      <td>https://opus-adeo.poolparty.biz/COMMONTAXO/3557</td>\n",
       "      <td>1</td>\n",
       "    </tr>\n",
       "  </tbody>\n",
       "</table>\n",
       "</div>"
      ],
      "text/plain": [
       "  productCode                    date  \\\n",
       "0    89959659 2024-01-12 21:48:19.027   \n",
       "1    89963789 2024-01-10 04:24:06.630   \n",
       "2    90082049 2023-11-21 03:19:03.715   \n",
       "\n",
       "                                      concept_code  rn_0  \n",
       "0  https://opus-adeo.poolparty.biz/COMMONTAXO/3387     1  \n",
       "1  https://opus-adeo.poolparty.biz/COMMONTAXO/3387     1  \n",
       "2  https://opus-adeo.poolparty.biz/COMMONTAXO/3557     1  "
      ]
     },
     "execution_count": 4,
     "metadata": {},
     "output_type": "execute_result"
    }
   ],
   "source": [
    "filepath_0 = \"./datasets/product_concept.parquet\"\n",
    "df_product_rel_branch = pd.read_parquet(filepath_0)\n",
    "df_product_rel_branch.head(3)"
   ]
  },
  {
   "attachments": {},
   "cell_type": "markdown",
   "metadata": {},
   "source": [
    "### User Activity and query  \n",
    "Data for January 2024"
   ]
  },
  {
   "cell_type": "raw",
   "metadata": {},
   "source": [
    "# user query data taring\n",
    "# date = 2024-01-01 - 2024-01-31\n",
    "filepath_1 = \"./datasets/uq_concept_1_24.parquet\"\n",
    "if not os.path.isfile(filepath_1):\n",
    "\n",
    "    query = \"\"\"\n",
    "    select product_code, concept_code, count(*)\n",
    "    from\n",
    "    (SELECT timestamp, searchId,firstNature as concept_code, products.code as product_code\n",
    "    FROM `opus-prod.frlm_opus_search.PRODUCT_SEARCHES`,\n",
    "    unnest (products) as products, \n",
    "    unnest (firstNAture.codes) as firstNature\n",
    "    WHERE TIMESTAMP_TRUNC(timestamp, DAY) between TIMESTAMP(\"2024-01-01\") and TIMESTAMP(\"2024-01-31\")\n",
    "    and firstNature is not null)\n",
    "    group by 1,2\n",
    "        \"\"\"\n",
    "\n",
    "dl_data = pd.read_gbq(query=query, project_id=\"ccdp-transverse-data-dev\")\n",
    "dl_data.to_parquet(filepath_1)\n",
    "df_uq_r = pd.read_parquet(filepath_1)"
   ]
  },
  {
   "cell_type": "code",
   "execution_count": 5,
   "metadata": {},
   "outputs": [
    {
     "data": {
      "text/html": [
       "<div>\n",
       "<style scoped>\n",
       "    .dataframe tbody tr th:only-of-type {\n",
       "        vertical-align: middle;\n",
       "    }\n",
       "\n",
       "    .dataframe tbody tr th {\n",
       "        vertical-align: top;\n",
       "    }\n",
       "\n",
       "    .dataframe thead th {\n",
       "        text-align: right;\n",
       "    }\n",
       "</style>\n",
       "<table border=\"1\" class=\"dataframe\">\n",
       "  <thead>\n",
       "    <tr style=\"text-align: right;\">\n",
       "      <th></th>\n",
       "      <th>product_code</th>\n",
       "      <th>concept_code</th>\n",
       "      <th>f0_</th>\n",
       "    </tr>\n",
       "  </thead>\n",
       "  <tbody>\n",
       "    <tr>\n",
       "      <th>0</th>\n",
       "      <td>70719971</td>\n",
       "      <td>https://opus-adeo.poolparty.biz/COMMONTAXO/5086</td>\n",
       "      <td>251</td>\n",
       "    </tr>\n",
       "    <tr>\n",
       "      <th>1</th>\n",
       "      <td>83407496</td>\n",
       "      <td>https://opus-adeo.poolparty.biz/COMMONTAXO/3700</td>\n",
       "      <td>63</td>\n",
       "    </tr>\n",
       "    <tr>\n",
       "      <th>2</th>\n",
       "      <td>86143953</td>\n",
       "      <td>https://opus-adeo.poolparty.biz/COMMONTAXO/8492</td>\n",
       "      <td>50</td>\n",
       "    </tr>\n",
       "  </tbody>\n",
       "</table>\n",
       "</div>"
      ],
      "text/plain": [
       "  product_code                                     concept_code  f0_\n",
       "0     70719971  https://opus-adeo.poolparty.biz/COMMONTAXO/5086  251\n",
       "1     83407496  https://opus-adeo.poolparty.biz/COMMONTAXO/3700   63\n",
       "2     86143953  https://opus-adeo.poolparty.biz/COMMONTAXO/8492   50"
      ]
     },
     "execution_count": 5,
     "metadata": {},
     "output_type": "execute_result"
    }
   ],
   "source": [
    "filepath_1 = \"./datasets/uq_concept_1_24.parquet\"\n",
    "df_uq_r = pd.read_parquet(filepath_1)\n",
    "df_uq_r.head(3)"
   ]
  },
  {
   "cell_type": "code",
   "execution_count": 6,
   "metadata": {},
   "outputs": [],
   "source": [
    "df_uq_r.columns = ['product_code', 'concept_code', 'nb_q']"
   ]
  },
  {
   "cell_type": "code",
   "execution_count": 7,
   "metadata": {},
   "outputs": [],
   "source": [
    "query = \"\"\"\n",
    "    SELECT *\n",
    "    from `ccdp-transverse-data-dev.ccdp_kg_project.piano_data_jan24_p1`\n",
    "    \"\"\"\n",
    "df_p_1 = pd.read_gbq(query=query, project_id=\"ccdp-transverse-data-dev\")"
   ]
  },
  {
   "cell_type": "code",
   "execution_count": 8,
   "metadata": {},
   "outputs": [],
   "source": [
    "query = \"\"\"\n",
    "    SELECT *\n",
    "    from `ccdp-transverse-data-dev.ccdp_kg_project.piano_data_jan24_p2`\n",
    "    \"\"\"\n",
    "df_p_2 = pd.read_gbq(query=query, project_id=\"ccdp-transverse-data-dev\")"
   ]
  },
  {
   "cell_type": "code",
   "execution_count": 9,
   "metadata": {},
   "outputs": [],
   "source": [
    "query = \"\"\"\n",
    "    SELECT *\n",
    "    from `ccdp-transverse-data-dev.ccdp_kg_project.piano_data_jan24_p3`\n",
    "    \"\"\"\n",
    "df_p_3 = pd.read_gbq(query=query, project_id=\"ccdp-transverse-data-dev\")"
   ]
  },
  {
   "cell_type": "code",
   "execution_count": 10,
   "metadata": {},
   "outputs": [],
   "source": [
    "query = \"\"\"\n",
    "    SELECT *\n",
    "    from `ccdp-transverse-data-dev.ccdp_kg_project.piano_data_jan24_p4`\n",
    "    \"\"\"\n",
    "df_p_4 = pd.read_gbq(query=query, project_id=\"ccdp-transverse-data-dev\")"
   ]
  },
  {
   "cell_type": "raw",
   "metadata": {},
   "source": [
    "# user query data taring + relationship catalog level data\n",
    "# date = 2024-01-01 - 2024-01-07\n",
    "filepath_2 = \"./datasets/piano_data_1_24_1.parquet\"\n",
    "if not os.path.isfile(filepath_2):\n",
    "\n",
    "    query = \"\"\"\n",
    "    SELECT visit_date, visit_id,ISE_KEYWORD, product_id as productCode,\n",
    "    SUM(IF(event_name = 'product.display', 1, 0)) as nbDisplays,\n",
    "    SUM(IF(event_name = 'product.click', 1, 0)) as NbClicks\n",
    "    FROM `dfdp-customer-experience-prod.PianoAnalytics_BU001.events`\n",
    "    WHERE VISIT_DATE between \"2024-01-01\" and  \"2024-01-04\"\n",
    "    AND event_name IN ('product.display', 'product.click')\n",
    "    AND ise_keyword IS NOT NULL\n",
    "    GROUP BY 1, 2, 3, 4\n",
    "    \"\"\"\n",
    "\n",
    "    dl_data = pd.read_gbq(query=query, project_id=\"ccdp-transverse-data-dev\")\n",
    "    dl_data.to_parquet(filepath_2)\n",
    "\n",
    "df_piano_1 = pd.read_parquet(filepath_2)"
   ]
  },
  {
   "cell_type": "raw",
   "metadata": {},
   "source": [
    "# user query data taring + relationship catalog level data\n",
    "# date = 2024-01-08 - 2024-01-14\n",
    "filepath_3 = \"./datasets/piano_data_1_24_2.parquet\"\n",
    "if not os.path.isfile(filepath_3):\n",
    "\n",
    "    query = \"\"\"\n",
    "    SELECT visit_date, visit_id,ISE_KEYWORD, product_id as productCode,\n",
    "    SUM(IF(event_name = 'product.display', 1, 0)) as nbDisplays,\n",
    "    SUM(IF(event_name = 'product.click', 1, 0)) as NbClicks\n",
    "    FROM `dfdp-customer-experience-prod.PianoAnalytics_BU001.events`\n",
    "    WHERE VISIT_DATE between \"2024-01-08\" and  \"2024-01-14\"\n",
    "    AND event_name IN ('product.display', 'product.click')\n",
    "    AND ise_keyword IS NOT NULL\n",
    "    GROUP BY 1, 2, 3, 4\n",
    "    \"\"\"\n",
    "\n",
    "    dl_data = pd.read_gbq(query=query, project_id=\"ccdp-transverse-data-dev\")\n",
    "    dl_data.to_parquet(filepath_3)\n",
    "\n",
    "df_piano_2 = pd.read_parquet(filepath_3)"
   ]
  },
  {
   "cell_type": "raw",
   "metadata": {},
   "source": [
    "# user query data taring + relationship catalog level data\n",
    "# date = 2024-01-15 - 2024-01-21\n",
    "filepath_4 = \"./datasets/piano_data_1_24_3.parquet\"\n",
    "if not os.path.isfile(filepath_4):\n",
    "\n",
    "    query = \"\"\"\n",
    "    SELECT visit_date, visit_id,ISE_KEYWORD, product_id as productCode,\n",
    "    SUM(IF(event_name = 'product.display', 1, 0)) as nbDisplays,\n",
    "    SUM(IF(event_name = 'product.click', 1, 0)) as NbClicks\n",
    "    FROM `dfdp-customer-experience-prod.PianoAnalytics_BU001.events`\n",
    "    WHERE VISIT_DATE between \"2024-01-15\" and  \"2024-01-21\"\n",
    "    AND event_name IN ('product.display', 'product.click')\n",
    "    AND ise_keyword IS NOT NULL\n",
    "    GROUP BY 1, 2, 3, 4\n",
    "    \"\"\"\n",
    "\n",
    "    dl_data = pd.read_gbq(query=query, project_id=\"ccdp-transverse-data-dev\")\n",
    "    dl_data.to_parquet(filepath_4)\n",
    "\n",
    "df_piano_3 = pd.read_parquet(filepath_4)"
   ]
  },
  {
   "cell_type": "raw",
   "metadata": {},
   "source": [
    "# user query data taring + relationship catalog level data\n",
    "# date = 2024-01-22 - 2024-01-31\n",
    "filepath_5 = \"./datasets/piano_data_1_24_4.parquet\"\n",
    "if not os.path.isfile(filepath_5):\n",
    "\n",
    "    query = \"\"\"\n",
    "    SELECT visit_date, visit_id,ISE_KEYWORD, product_id as productCode,\n",
    "    SUM(IF(event_name = 'product.display', 1, 0)) as nbDisplays,\n",
    "    SUM(IF(event_name = 'product.click', 1, 0)) as NbClicks\n",
    "    FROM `dfdp-customer-experience-prod.PianoAnalytics_BU001.events`\n",
    "    WHERE VISIT_DATE between \"2024-01-22\" and  \"2024-01-31\"\n",
    "    AND event_name IN ('product.display', 'product.click')\n",
    "    AND ise_keyword IS NOT NULL\n",
    "    GROUP BY 1, 2, 3, 4\n",
    "    \"\"\"\n",
    "\n",
    "    dl_data = pd.read_gbq(query=query, project_id=\"ccdp-transverse-data-dev\")\n",
    "    dl_data.to_parquet(filepath_5)\n",
    "\n",
    "df_piano_4 = pd.read_parquet(filepath_5)"
   ]
  },
  {
   "cell_type": "raw",
   "metadata": {},
   "source": [
    "filepath_2 = \"./datasets/piano_data_1_24_1.parquet\"\n",
    "df_p_1 = pd.read_parquet(filepath_2)\n",
    "\n",
    "filepath_3 = \"./datasets/piano_data_1_24_2.parquet\"\n",
    "df_p_2 = pd.read_parquet(filepath_3)\n",
    "\n",
    "filepath_4 = \"./datasets/piano_data_1_24_3.parquet\"\n",
    "df_p_3 = pd.read_parquet(filepath_4)\n",
    "\n",
    "filepath_5 = \"./datasets/piano_data_1_24_4.parquet\"\n",
    "df_p_4 = pd.read_parquet(filepath_5)"
   ]
  },
  {
   "cell_type": "code",
   "execution_count": 11,
   "metadata": {},
   "outputs": [],
   "source": [
    "frames = [df_p_1, df_p_2, df_p_3, df_p_4]\n",
    "df_piano_0 = pd.concat(frames)"
   ]
  },
  {
   "cell_type": "code",
   "execution_count": 12,
   "metadata": {},
   "outputs": [
    {
     "data": {
      "text/html": [
       "<div>\n",
       "<style scoped>\n",
       "    .dataframe tbody tr th:only-of-type {\n",
       "        vertical-align: middle;\n",
       "    }\n",
       "\n",
       "    .dataframe tbody tr th {\n",
       "        vertical-align: top;\n",
       "    }\n",
       "\n",
       "    .dataframe thead th {\n",
       "        text-align: right;\n",
       "    }\n",
       "</style>\n",
       "<table border=\"1\" class=\"dataframe\">\n",
       "  <thead>\n",
       "    <tr style=\"text-align: right;\">\n",
       "      <th></th>\n",
       "      <th>productCode</th>\n",
       "      <th>nb_display</th>\n",
       "      <th>nb_click</th>\n",
       "      <th>nb_visit</th>\n",
       "    </tr>\n",
       "  </thead>\n",
       "  <tbody>\n",
       "    <tr>\n",
       "      <th>0</th>\n",
       "      <td>82389392</td>\n",
       "      <td>270</td>\n",
       "      <td>3</td>\n",
       "      <td>256</td>\n",
       "    </tr>\n",
       "    <tr>\n",
       "      <th>1</th>\n",
       "      <td>87540805</td>\n",
       "      <td>280</td>\n",
       "      <td>5</td>\n",
       "      <td>256</td>\n",
       "    </tr>\n",
       "    <tr>\n",
       "      <th>2</th>\n",
       "      <td>84648983</td>\n",
       "      <td>282</td>\n",
       "      <td>4</td>\n",
       "      <td>256</td>\n",
       "    </tr>\n",
       "    <tr>\n",
       "      <th>3</th>\n",
       "      <td>62583493</td>\n",
       "      <td>283</td>\n",
       "      <td>11</td>\n",
       "      <td>256</td>\n",
       "    </tr>\n",
       "    <tr>\n",
       "      <th>4</th>\n",
       "      <td>88680382</td>\n",
       "      <td>285</td>\n",
       "      <td>3</td>\n",
       "      <td>256</td>\n",
       "    </tr>\n",
       "  </tbody>\n",
       "</table>\n",
       "</div>"
      ],
      "text/plain": [
       "  productCode  nb_display  nb_click  nb_visit\n",
       "0    82389392         270         3       256\n",
       "1    87540805         280         5       256\n",
       "2    84648983         282         4       256\n",
       "3    62583493         283        11       256\n",
       "4    88680382         285         3       256"
      ]
     },
     "execution_count": 12,
     "metadata": {},
     "output_type": "execute_result"
    }
   ],
   "source": [
    "df_piano_0.head()"
   ]
  },
  {
   "cell_type": "code",
   "execution_count": 13,
   "metadata": {},
   "outputs": [
    {
     "data": {
      "text/html": [
       "<div>\n",
       "<style scoped>\n",
       "    .dataframe tbody tr th:only-of-type {\n",
       "        vertical-align: middle;\n",
       "    }\n",
       "\n",
       "    .dataframe tbody tr th {\n",
       "        vertical-align: top;\n",
       "    }\n",
       "\n",
       "    .dataframe thead th {\n",
       "        text-align: right;\n",
       "    }\n",
       "</style>\n",
       "<table border=\"1\" class=\"dataframe\">\n",
       "  <thead>\n",
       "    <tr style=\"text-align: right;\">\n",
       "      <th></th>\n",
       "      <th>productCode</th>\n",
       "      <th>nb_display</th>\n",
       "      <th>nb_click</th>\n",
       "      <th>nb_visit</th>\n",
       "    </tr>\n",
       "  </thead>\n",
       "  <tbody>\n",
       "    <tr>\n",
       "      <th>0</th>\n",
       "      <td>10004981</td>\n",
       "      <td>3</td>\n",
       "      <td>0</td>\n",
       "      <td>3</td>\n",
       "    </tr>\n",
       "    <tr>\n",
       "      <th>1</th>\n",
       "      <td>10012</td>\n",
       "      <td>3</td>\n",
       "      <td>0</td>\n",
       "      <td>3</td>\n",
       "    </tr>\n",
       "    <tr>\n",
       "      <th>2</th>\n",
       "      <td>10015831</td>\n",
       "      <td>26</td>\n",
       "      <td>0</td>\n",
       "      <td>25</td>\n",
       "    </tr>\n",
       "    <tr>\n",
       "      <th>3</th>\n",
       "      <td>10021445</td>\n",
       "      <td>857</td>\n",
       "      <td>33</td>\n",
       "      <td>762</td>\n",
       "    </tr>\n",
       "    <tr>\n",
       "      <th>4</th>\n",
       "      <td>10021515</td>\n",
       "      <td>141</td>\n",
       "      <td>1</td>\n",
       "      <td>138</td>\n",
       "    </tr>\n",
       "  </tbody>\n",
       "</table>\n",
       "</div>"
      ],
      "text/plain": [
       "  productCode  nb_display  nb_click  nb_visit\n",
       "0    10004981           3         0         3\n",
       "1       10012           3         0         3\n",
       "2    10015831          26         0        25\n",
       "3    10021445         857        33       762\n",
       "4    10021515         141         1       138"
      ]
     },
     "execution_count": 13,
     "metadata": {},
     "output_type": "execute_result"
    }
   ],
   "source": [
    "df_piano = df_piano_0.groupby('productCode').agg({'nb_display':'sum', 'nb_click':'sum', 'nb_visit':'sum'}).reset_index()\n",
    "df_piano.head()"
   ]
  },
  {
   "cell_type": "code",
   "execution_count": 14,
   "metadata": {},
   "outputs": [],
   "source": [
    "df_piano.columns = [ 'product_code', 'nb_display', 'nb_click', 'nb_visit']\n",
    "df_piano_gr = df_piano.copy()"
   ]
  },
  {
   "cell_type": "code",
   "execution_count": 15,
   "metadata": {},
   "outputs": [
    {
     "data": {
      "text/html": [
       "<div>\n",
       "<style scoped>\n",
       "    .dataframe tbody tr th:only-of-type {\n",
       "        vertical-align: middle;\n",
       "    }\n",
       "\n",
       "    .dataframe tbody tr th {\n",
       "        vertical-align: top;\n",
       "    }\n",
       "\n",
       "    .dataframe thead th {\n",
       "        text-align: right;\n",
       "    }\n",
       "</style>\n",
       "<table border=\"1\" class=\"dataframe\">\n",
       "  <thead>\n",
       "    <tr style=\"text-align: right;\">\n",
       "      <th></th>\n",
       "      <th>product_code</th>\n",
       "      <th>concept_code</th>\n",
       "      <th>nb_q</th>\n",
       "      <th>nb_display</th>\n",
       "      <th>nb_click</th>\n",
       "      <th>nb_visit</th>\n",
       "    </tr>\n",
       "  </thead>\n",
       "  <tbody>\n",
       "    <tr>\n",
       "      <th>0</th>\n",
       "      <td>70719971</td>\n",
       "      <td>https://opus-adeo.poolparty.biz/COMMONTAXO/5086</td>\n",
       "      <td>251</td>\n",
       "      <td>1552</td>\n",
       "      <td>65</td>\n",
       "      <td>1307</td>\n",
       "    </tr>\n",
       "    <tr>\n",
       "      <th>1</th>\n",
       "      <td>83407496</td>\n",
       "      <td>https://opus-adeo.poolparty.biz/COMMONTAXO/3700</td>\n",
       "      <td>63</td>\n",
       "      <td>248</td>\n",
       "      <td>4</td>\n",
       "      <td>222</td>\n",
       "    </tr>\n",
       "    <tr>\n",
       "      <th>2</th>\n",
       "      <td>86143953</td>\n",
       "      <td>https://opus-adeo.poolparty.biz/COMMONTAXO/8492</td>\n",
       "      <td>50</td>\n",
       "      <td>55</td>\n",
       "      <td>1</td>\n",
       "      <td>45</td>\n",
       "    </tr>\n",
       "  </tbody>\n",
       "</table>\n",
       "</div>"
      ],
      "text/plain": [
       "  product_code                                     concept_code  nb_q  \\\n",
       "0     70719971  https://opus-adeo.poolparty.biz/COMMONTAXO/5086   251   \n",
       "1     83407496  https://opus-adeo.poolparty.biz/COMMONTAXO/3700    63   \n",
       "2     86143953  https://opus-adeo.poolparty.biz/COMMONTAXO/8492    50   \n",
       "\n",
       "   nb_display  nb_click  nb_visit  \n",
       "0        1552        65      1307  \n",
       "1         248         4       222  \n",
       "2          55         1        45  "
      ]
     },
     "execution_count": 15,
     "metadata": {},
     "output_type": "execute_result"
    }
   ],
   "source": [
    "df_uq_pr_act = df_uq_r.merge(df_piano_gr, left_on = 'product_code', right_on='product_code', how='left')\n",
    "df_uq_pr_act.head(3)"
   ]
  },
  {
   "cell_type": "code",
   "execution_count": 16,
   "metadata": {},
   "outputs": [
    {
     "data": {
      "text/html": [
       "<div>\n",
       "<style scoped>\n",
       "    .dataframe tbody tr th:only-of-type {\n",
       "        vertical-align: middle;\n",
       "    }\n",
       "\n",
       "    .dataframe tbody tr th {\n",
       "        vertical-align: top;\n",
       "    }\n",
       "\n",
       "    .dataframe thead th {\n",
       "        text-align: right;\n",
       "    }\n",
       "</style>\n",
       "<table border=\"1\" class=\"dataframe\">\n",
       "  <thead>\n",
       "    <tr style=\"text-align: right;\">\n",
       "      <th></th>\n",
       "      <th>product_code</th>\n",
       "      <th>concept_code</th>\n",
       "      <th>nb_q</th>\n",
       "      <th>nb_display</th>\n",
       "      <th>nb_click</th>\n",
       "      <th>nb_visit</th>\n",
       "      <th>ctr</th>\n",
       "    </tr>\n",
       "  </thead>\n",
       "  <tbody>\n",
       "    <tr>\n",
       "      <th>0</th>\n",
       "      <td>70719971</td>\n",
       "      <td>https://opus-adeo.poolparty.biz/COMMONTAXO/5086</td>\n",
       "      <td>251</td>\n",
       "      <td>1552</td>\n",
       "      <td>65</td>\n",
       "      <td>1307</td>\n",
       "      <td>0.04</td>\n",
       "    </tr>\n",
       "    <tr>\n",
       "      <th>1</th>\n",
       "      <td>83407496</td>\n",
       "      <td>https://opus-adeo.poolparty.biz/COMMONTAXO/3700</td>\n",
       "      <td>63</td>\n",
       "      <td>248</td>\n",
       "      <td>4</td>\n",
       "      <td>222</td>\n",
       "      <td>0.02</td>\n",
       "    </tr>\n",
       "    <tr>\n",
       "      <th>2</th>\n",
       "      <td>86143953</td>\n",
       "      <td>https://opus-adeo.poolparty.biz/COMMONTAXO/8492</td>\n",
       "      <td>50</td>\n",
       "      <td>55</td>\n",
       "      <td>1</td>\n",
       "      <td>45</td>\n",
       "      <td>0.02</td>\n",
       "    </tr>\n",
       "  </tbody>\n",
       "</table>\n",
       "</div>"
      ],
      "text/plain": [
       "  product_code                                     concept_code  nb_q  \\\n",
       "0     70719971  https://opus-adeo.poolparty.biz/COMMONTAXO/5086   251   \n",
       "1     83407496  https://opus-adeo.poolparty.biz/COMMONTAXO/3700    63   \n",
       "2     86143953  https://opus-adeo.poolparty.biz/COMMONTAXO/8492    50   \n",
       "\n",
       "   nb_display  nb_click  nb_visit   ctr  \n",
       "0        1552        65      1307  0.04  \n",
       "1         248         4       222  0.02  \n",
       "2          55         1        45  0.02  "
      ]
     },
     "execution_count": 16,
     "metadata": {},
     "output_type": "execute_result"
    }
   ],
   "source": [
    "df_uq_pr_act['ctr'] = (df_uq_pr_act['nb_click'] / df_uq_pr_act['nb_display']).round(2)\n",
    "df_uq_pr_act.head(3)"
   ]
  },
  {
   "cell_type": "code",
   "execution_count": 17,
   "metadata": {},
   "outputs": [
    {
     "data": {
      "text/plain": [
       "29356268"
      ]
     },
     "execution_count": 17,
     "metadata": {},
     "output_type": "execute_result"
    }
   ],
   "source": [
    "df_uq_pr_act.shape[0]"
   ]
  },
  {
   "cell_type": "code",
   "execution_count": 18,
   "metadata": {},
   "outputs": [
    {
     "data": {
      "text/plain": [
       "4323"
      ]
     },
     "execution_count": 18,
     "metadata": {},
     "output_type": "execute_result"
    }
   ],
   "source": [
    "df_uq_pr_act[df_uq_pr_act['nb_display']<df_uq_pr_act['nb_click']].shape[0]"
   ]
  },
  {
   "cell_type": "code",
   "execution_count": 19,
   "metadata": {},
   "outputs": [
    {
     "data": {
      "text/plain": [
       "27725602"
      ]
     },
     "execution_count": 19,
     "metadata": {},
     "output_type": "execute_result"
    }
   ],
   "source": [
    "df_uq_pr_act[df_uq_pr_act['nb_display']>df_uq_pr_act['nb_click']].shape[0]"
   ]
  },
  {
   "cell_type": "code",
   "execution_count": 20,
   "metadata": {},
   "outputs": [
    {
     "data": {
      "text/plain": [
       "1608858"
      ]
     },
     "execution_count": 20,
     "metadata": {},
     "output_type": "execute_result"
    }
   ],
   "source": [
    "df_uq_pr_act[df_uq_pr_act['nb_display'].isna()].shape[0]"
   ]
  },
  {
   "attachments": {},
   "cell_type": "markdown",
   "metadata": {},
   "source": [
    "There are 3 type of data:  \n",
    "1. correct : nb_display >= nb_click  \n",
    "2. not correct : nb_display < nb_click  \n",
    "3. no user activity data in piano  \n",
    "--> use only data with user activity from piano"
   ]
  },
  {
   "cell_type": "code",
   "execution_count": 21,
   "metadata": {},
   "outputs": [
    {
     "data": {
      "text/plain": [
       "27743087"
      ]
     },
     "execution_count": 21,
     "metadata": {},
     "output_type": "execute_result"
    }
   ],
   "source": [
    "#df with clean user activity data\n",
    "df_uq_pr_act = df_uq_pr_act[df_uq_pr_act['nb_display']>=df_uq_pr_act['nb_click']]\n",
    "df_uq_pr_act.shape[0]"
   ]
  },
  {
   "cell_type": "code",
   "execution_count": 22,
   "metadata": {},
   "outputs": [
    {
     "data": {
      "text/html": [
       "<div>\n",
       "<style scoped>\n",
       "    .dataframe tbody tr th:only-of-type {\n",
       "        vertical-align: middle;\n",
       "    }\n",
       "\n",
       "    .dataframe tbody tr th {\n",
       "        vertical-align: top;\n",
       "    }\n",
       "\n",
       "    .dataframe thead th {\n",
       "        text-align: right;\n",
       "    }\n",
       "</style>\n",
       "<table border=\"1\" class=\"dataframe\">\n",
       "  <thead>\n",
       "    <tr style=\"text-align: right;\">\n",
       "      <th></th>\n",
       "      <th>product_code</th>\n",
       "      <th>concept_code</th>\n",
       "      <th>nb_q</th>\n",
       "      <th>nb_display</th>\n",
       "      <th>nb_click</th>\n",
       "      <th>nb_visit</th>\n",
       "      <th>ctr</th>\n",
       "    </tr>\n",
       "  </thead>\n",
       "  <tbody>\n",
       "    <tr>\n",
       "      <th>0</th>\n",
       "      <td>70719971</td>\n",
       "      <td>https://opus-adeo.poolparty.biz/COMMONTAXO/5086</td>\n",
       "      <td>251</td>\n",
       "      <td>1552</td>\n",
       "      <td>65</td>\n",
       "      <td>1307</td>\n",
       "      <td>0.04</td>\n",
       "    </tr>\n",
       "    <tr>\n",
       "      <th>1</th>\n",
       "      <td>83407496</td>\n",
       "      <td>https://opus-adeo.poolparty.biz/COMMONTAXO/3700</td>\n",
       "      <td>63</td>\n",
       "      <td>248</td>\n",
       "      <td>4</td>\n",
       "      <td>222</td>\n",
       "      <td>0.02</td>\n",
       "    </tr>\n",
       "  </tbody>\n",
       "</table>\n",
       "</div>"
      ],
      "text/plain": [
       "  product_code                                     concept_code  nb_q  \\\n",
       "0     70719971  https://opus-adeo.poolparty.biz/COMMONTAXO/5086   251   \n",
       "1     83407496  https://opus-adeo.poolparty.biz/COMMONTAXO/3700    63   \n",
       "\n",
       "   nb_display  nb_click  nb_visit   ctr  \n",
       "0        1552        65      1307  0.04  \n",
       "1         248         4       222  0.02  "
      ]
     },
     "execution_count": 22,
     "metadata": {},
     "output_type": "execute_result"
    }
   ],
   "source": [
    "df_uq_pr_act.head(2)"
   ]
  },
  {
   "attachments": {},
   "cell_type": "markdown",
   "metadata": {},
   "source": [
    "Looks like in search data there are more products linked to the concept --> filter only products with correct concept according to the KG info"
   ]
  },
  {
   "cell_type": "code",
   "execution_count": 23,
   "metadata": {},
   "outputs": [
    {
     "data": {
      "text/html": [
       "<div>\n",
       "<style scoped>\n",
       "    .dataframe tbody tr th:only-of-type {\n",
       "        vertical-align: middle;\n",
       "    }\n",
       "\n",
       "    .dataframe tbody tr th {\n",
       "        vertical-align: top;\n",
       "    }\n",
       "\n",
       "    .dataframe thead th {\n",
       "        text-align: right;\n",
       "    }\n",
       "</style>\n",
       "<table border=\"1\" class=\"dataframe\">\n",
       "  <thead>\n",
       "    <tr style=\"text-align: right;\">\n",
       "      <th></th>\n",
       "      <th>productCode</th>\n",
       "      <th>date</th>\n",
       "      <th>concept_code</th>\n",
       "      <th>rn_0</th>\n",
       "    </tr>\n",
       "  </thead>\n",
       "  <tbody>\n",
       "    <tr>\n",
       "      <th>0</th>\n",
       "      <td>89959659</td>\n",
       "      <td>2024-01-12 21:48:19.027</td>\n",
       "      <td>https://opus-adeo.poolparty.biz/COMMONTAXO/3387</td>\n",
       "      <td>1</td>\n",
       "    </tr>\n",
       "    <tr>\n",
       "      <th>1</th>\n",
       "      <td>89963789</td>\n",
       "      <td>2024-01-10 04:24:06.630</td>\n",
       "      <td>https://opus-adeo.poolparty.biz/COMMONTAXO/3387</td>\n",
       "      <td>1</td>\n",
       "    </tr>\n",
       "    <tr>\n",
       "      <th>2</th>\n",
       "      <td>90082049</td>\n",
       "      <td>2023-11-21 03:19:03.715</td>\n",
       "      <td>https://opus-adeo.poolparty.biz/COMMONTAXO/3557</td>\n",
       "      <td>1</td>\n",
       "    </tr>\n",
       "  </tbody>\n",
       "</table>\n",
       "</div>"
      ],
      "text/plain": [
       "  productCode                    date  \\\n",
       "0    89959659 2024-01-12 21:48:19.027   \n",
       "1    89963789 2024-01-10 04:24:06.630   \n",
       "2    90082049 2023-11-21 03:19:03.715   \n",
       "\n",
       "                                      concept_code  rn_0  \n",
       "0  https://opus-adeo.poolparty.biz/COMMONTAXO/3387     1  \n",
       "1  https://opus-adeo.poolparty.biz/COMMONTAXO/3387     1  \n",
       "2  https://opus-adeo.poolparty.biz/COMMONTAXO/3557     1  "
      ]
     },
     "execution_count": 23,
     "metadata": {},
     "output_type": "execute_result"
    }
   ],
   "source": [
    "filepath_3 = \"./datasets/product_concept.parquet\"\n",
    "df_pr_conc = pd.read_parquet(filepath_3)\n",
    "df_pr_conc.head(3)"
   ]
  },
  {
   "cell_type": "code",
   "execution_count": 24,
   "metadata": {},
   "outputs": [
    {
     "data": {
      "text/html": [
       "<div>\n",
       "<style scoped>\n",
       "    .dataframe tbody tr th:only-of-type {\n",
       "        vertical-align: middle;\n",
       "    }\n",
       "\n",
       "    .dataframe tbody tr th {\n",
       "        vertical-align: top;\n",
       "    }\n",
       "\n",
       "    .dataframe thead th {\n",
       "        text-align: right;\n",
       "    }\n",
       "</style>\n",
       "<table border=\"1\" class=\"dataframe\">\n",
       "  <thead>\n",
       "    <tr style=\"text-align: right;\">\n",
       "      <th></th>\n",
       "      <th>pr_c</th>\n",
       "      <th>d</th>\n",
       "      <th>conc_c</th>\n",
       "    </tr>\n",
       "  </thead>\n",
       "  <tbody>\n",
       "    <tr>\n",
       "      <th>0</th>\n",
       "      <td>89959659</td>\n",
       "      <td>2024-01-12 21:48:19.027</td>\n",
       "      <td>https://opus-adeo.poolparty.biz/COMMONTAXO/3387</td>\n",
       "    </tr>\n",
       "    <tr>\n",
       "      <th>1</th>\n",
       "      <td>89963789</td>\n",
       "      <td>2024-01-10 04:24:06.630</td>\n",
       "      <td>https://opus-adeo.poolparty.biz/COMMONTAXO/3387</td>\n",
       "    </tr>\n",
       "  </tbody>\n",
       "</table>\n",
       "</div>"
      ],
      "text/plain": [
       "       pr_c                       d  \\\n",
       "0  89959659 2024-01-12 21:48:19.027   \n",
       "1  89963789 2024-01-10 04:24:06.630   \n",
       "\n",
       "                                            conc_c  \n",
       "0  https://opus-adeo.poolparty.biz/COMMONTAXO/3387  \n",
       "1  https://opus-adeo.poolparty.biz/COMMONTAXO/3387  "
      ]
     },
     "execution_count": 24,
     "metadata": {},
     "output_type": "execute_result"
    }
   ],
   "source": [
    "df_pr_conc_2 = df_pr_conc.copy()\n",
    "del df_pr_conc_2['rn_0']\n",
    "df_pr_conc_2.columns = ['pr_c','d','conc_c']\n",
    "df_pr_conc_2.head(2)"
   ]
  },
  {
   "cell_type": "code",
   "execution_count": 25,
   "metadata": {},
   "outputs": [
    {
     "data": {
      "text/html": [
       "<div>\n",
       "<style scoped>\n",
       "    .dataframe tbody tr th:only-of-type {\n",
       "        vertical-align: middle;\n",
       "    }\n",
       "\n",
       "    .dataframe tbody tr th {\n",
       "        vertical-align: top;\n",
       "    }\n",
       "\n",
       "    .dataframe thead th {\n",
       "        text-align: right;\n",
       "    }\n",
       "</style>\n",
       "<table border=\"1\" class=\"dataframe\">\n",
       "  <thead>\n",
       "    <tr style=\"text-align: right;\">\n",
       "      <th></th>\n",
       "      <th>product_code</th>\n",
       "      <th>concept_code</th>\n",
       "      <th>nb_q</th>\n",
       "      <th>nb_display</th>\n",
       "      <th>nb_click</th>\n",
       "      <th>nb_visit</th>\n",
       "      <th>ctr</th>\n",
       "      <th>pr_c</th>\n",
       "      <th>d</th>\n",
       "      <th>conc_c</th>\n",
       "    </tr>\n",
       "  </thead>\n",
       "  <tbody>\n",
       "    <tr>\n",
       "      <th>0</th>\n",
       "      <td>70719971</td>\n",
       "      <td>https://opus-adeo.poolparty.biz/COMMONTAXO/5086</td>\n",
       "      <td>251</td>\n",
       "      <td>1552</td>\n",
       "      <td>65</td>\n",
       "      <td>1307</td>\n",
       "      <td>0.04</td>\n",
       "      <td>NaN</td>\n",
       "      <td>NaT</td>\n",
       "      <td>NaN</td>\n",
       "    </tr>\n",
       "    <tr>\n",
       "      <th>1</th>\n",
       "      <td>83407496</td>\n",
       "      <td>https://opus-adeo.poolparty.biz/COMMONTAXO/3700</td>\n",
       "      <td>63</td>\n",
       "      <td>248</td>\n",
       "      <td>4</td>\n",
       "      <td>222</td>\n",
       "      <td>0.02</td>\n",
       "      <td>83407496</td>\n",
       "      <td>2023-03-16 15:59:29.590</td>\n",
       "      <td>https://opus-adeo.poolparty.biz/COMMONTAXO/3700</td>\n",
       "    </tr>\n",
       "    <tr>\n",
       "      <th>2</th>\n",
       "      <td>86143953</td>\n",
       "      <td>https://opus-adeo.poolparty.biz/COMMONTAXO/8492</td>\n",
       "      <td>50</td>\n",
       "      <td>55</td>\n",
       "      <td>1</td>\n",
       "      <td>45</td>\n",
       "      <td>0.02</td>\n",
       "      <td>NaN</td>\n",
       "      <td>NaT</td>\n",
       "      <td>NaN</td>\n",
       "    </tr>\n",
       "    <tr>\n",
       "      <th>3</th>\n",
       "      <td>86233341</td>\n",
       "      <td>https://opus-adeo.poolparty.biz/COMMONTAXO/5692</td>\n",
       "      <td>46</td>\n",
       "      <td>38</td>\n",
       "      <td>0</td>\n",
       "      <td>34</td>\n",
       "      <td>0.0</td>\n",
       "      <td>86233341</td>\n",
       "      <td>2023-06-29 19:27:48.667</td>\n",
       "      <td>https://opus-adeo.poolparty.biz/COMMONTAXO/5692</td>\n",
       "    </tr>\n",
       "    <tr>\n",
       "      <th>4</th>\n",
       "      <td>88572254</td>\n",
       "      <td>https://opus-adeo.poolparty.biz/COMMONTAXO/3954</td>\n",
       "      <td>34</td>\n",
       "      <td>36</td>\n",
       "      <td>0</td>\n",
       "      <td>34</td>\n",
       "      <td>0.0</td>\n",
       "      <td>NaN</td>\n",
       "      <td>NaT</td>\n",
       "      <td>NaN</td>\n",
       "    </tr>\n",
       "  </tbody>\n",
       "</table>\n",
       "</div>"
      ],
      "text/plain": [
       "  product_code                                     concept_code  nb_q  \\\n",
       "0     70719971  https://opus-adeo.poolparty.biz/COMMONTAXO/5086   251   \n",
       "1     83407496  https://opus-adeo.poolparty.biz/COMMONTAXO/3700    63   \n",
       "2     86143953  https://opus-adeo.poolparty.biz/COMMONTAXO/8492    50   \n",
       "3     86233341  https://opus-adeo.poolparty.biz/COMMONTAXO/5692    46   \n",
       "4     88572254  https://opus-adeo.poolparty.biz/COMMONTAXO/3954    34   \n",
       "\n",
       "   nb_display  nb_click  nb_visit   ctr      pr_c                       d  \\\n",
       "0        1552        65      1307  0.04       NaN                     NaT   \n",
       "1         248         4       222  0.02  83407496 2023-03-16 15:59:29.590   \n",
       "2          55         1        45  0.02       NaN                     NaT   \n",
       "3          38         0        34   0.0  86233341 2023-06-29 19:27:48.667   \n",
       "4          36         0        34   0.0       NaN                     NaT   \n",
       "\n",
       "                                            conc_c  \n",
       "0                                              NaN  \n",
       "1  https://opus-adeo.poolparty.biz/COMMONTAXO/3700  \n",
       "2                                              NaN  \n",
       "3  https://opus-adeo.poolparty.biz/COMMONTAXO/5692  \n",
       "4                                              NaN  "
      ]
     },
     "execution_count": 25,
     "metadata": {},
     "output_type": "execute_result"
    }
   ],
   "source": [
    "df_uq_pr_act = df_uq_pr_act.merge(df_pr_conc_2[['pr_c','d','conc_c']], left_on=['product_code','concept_code'],\\\n",
    "                                    right_on=['pr_c','conc_c'], how='left')\n",
    "df_uq_pr_act.head()"
   ]
  },
  {
   "cell_type": "code",
   "execution_count": 26,
   "metadata": {},
   "outputs": [],
   "source": [
    "def pr_c(df):\n",
    "    if df['pr_c']==df['product_code']:\n",
    "        return 1\n",
    "    else:\n",
    "        return 0"
   ]
  },
  {
   "cell_type": "code",
   "execution_count": 27,
   "metadata": {},
   "outputs": [
    {
     "data": {
      "text/html": [
       "<div>\n",
       "<style scoped>\n",
       "    .dataframe tbody tr th:only-of-type {\n",
       "        vertical-align: middle;\n",
       "    }\n",
       "\n",
       "    .dataframe tbody tr th {\n",
       "        vertical-align: top;\n",
       "    }\n",
       "\n",
       "    .dataframe thead th {\n",
       "        text-align: right;\n",
       "    }\n",
       "</style>\n",
       "<table border=\"1\" class=\"dataframe\">\n",
       "  <thead>\n",
       "    <tr style=\"text-align: right;\">\n",
       "      <th></th>\n",
       "      <th>product_code</th>\n",
       "      <th>concept_code</th>\n",
       "      <th>nb_q</th>\n",
       "      <th>nb_display</th>\n",
       "      <th>nb_click</th>\n",
       "      <th>nb_visit</th>\n",
       "      <th>ctr</th>\n",
       "      <th>pr_c</th>\n",
       "      <th>d</th>\n",
       "      <th>conc_c</th>\n",
       "      <th>pr_check</th>\n",
       "    </tr>\n",
       "  </thead>\n",
       "  <tbody>\n",
       "    <tr>\n",
       "      <th>0</th>\n",
       "      <td>70719971</td>\n",
       "      <td>https://opus-adeo.poolparty.biz/COMMONTAXO/5086</td>\n",
       "      <td>251</td>\n",
       "      <td>1552</td>\n",
       "      <td>65</td>\n",
       "      <td>1307</td>\n",
       "      <td>0.04</td>\n",
       "      <td>NaN</td>\n",
       "      <td>NaT</td>\n",
       "      <td>NaN</td>\n",
       "      <td>0</td>\n",
       "    </tr>\n",
       "    <tr>\n",
       "      <th>1</th>\n",
       "      <td>83407496</td>\n",
       "      <td>https://opus-adeo.poolparty.biz/COMMONTAXO/3700</td>\n",
       "      <td>63</td>\n",
       "      <td>248</td>\n",
       "      <td>4</td>\n",
       "      <td>222</td>\n",
       "      <td>0.02</td>\n",
       "      <td>83407496</td>\n",
       "      <td>2023-03-16 15:59:29.590</td>\n",
       "      <td>https://opus-adeo.poolparty.biz/COMMONTAXO/3700</td>\n",
       "      <td>1</td>\n",
       "    </tr>\n",
       "    <tr>\n",
       "      <th>2</th>\n",
       "      <td>86143953</td>\n",
       "      <td>https://opus-adeo.poolparty.biz/COMMONTAXO/8492</td>\n",
       "      <td>50</td>\n",
       "      <td>55</td>\n",
       "      <td>1</td>\n",
       "      <td>45</td>\n",
       "      <td>0.02</td>\n",
       "      <td>NaN</td>\n",
       "      <td>NaT</td>\n",
       "      <td>NaN</td>\n",
       "      <td>0</td>\n",
       "    </tr>\n",
       "    <tr>\n",
       "      <th>3</th>\n",
       "      <td>86233341</td>\n",
       "      <td>https://opus-adeo.poolparty.biz/COMMONTAXO/5692</td>\n",
       "      <td>46</td>\n",
       "      <td>38</td>\n",
       "      <td>0</td>\n",
       "      <td>34</td>\n",
       "      <td>0.0</td>\n",
       "      <td>86233341</td>\n",
       "      <td>2023-06-29 19:27:48.667</td>\n",
       "      <td>https://opus-adeo.poolparty.biz/COMMONTAXO/5692</td>\n",
       "      <td>1</td>\n",
       "    </tr>\n",
       "    <tr>\n",
       "      <th>4</th>\n",
       "      <td>88572254</td>\n",
       "      <td>https://opus-adeo.poolparty.biz/COMMONTAXO/3954</td>\n",
       "      <td>34</td>\n",
       "      <td>36</td>\n",
       "      <td>0</td>\n",
       "      <td>34</td>\n",
       "      <td>0.0</td>\n",
       "      <td>NaN</td>\n",
       "      <td>NaT</td>\n",
       "      <td>NaN</td>\n",
       "      <td>0</td>\n",
       "    </tr>\n",
       "  </tbody>\n",
       "</table>\n",
       "</div>"
      ],
      "text/plain": [
       "  product_code                                     concept_code  nb_q  \\\n",
       "0     70719971  https://opus-adeo.poolparty.biz/COMMONTAXO/5086   251   \n",
       "1     83407496  https://opus-adeo.poolparty.biz/COMMONTAXO/3700    63   \n",
       "2     86143953  https://opus-adeo.poolparty.biz/COMMONTAXO/8492    50   \n",
       "3     86233341  https://opus-adeo.poolparty.biz/COMMONTAXO/5692    46   \n",
       "4     88572254  https://opus-adeo.poolparty.biz/COMMONTAXO/3954    34   \n",
       "\n",
       "   nb_display  nb_click  nb_visit   ctr      pr_c                       d  \\\n",
       "0        1552        65      1307  0.04       NaN                     NaT   \n",
       "1         248         4       222  0.02  83407496 2023-03-16 15:59:29.590   \n",
       "2          55         1        45  0.02       NaN                     NaT   \n",
       "3          38         0        34   0.0  86233341 2023-06-29 19:27:48.667   \n",
       "4          36         0        34   0.0       NaN                     NaT   \n",
       "\n",
       "                                            conc_c  pr_check  \n",
       "0                                              NaN         0  \n",
       "1  https://opus-adeo.poolparty.biz/COMMONTAXO/3700         1  \n",
       "2                                              NaN         0  \n",
       "3  https://opus-adeo.poolparty.biz/COMMONTAXO/5692         1  \n",
       "4                                              NaN         0  "
      ]
     },
     "execution_count": 27,
     "metadata": {},
     "output_type": "execute_result"
    }
   ],
   "source": [
    "df_uq_pr_act['pr_check'] = df_uq_pr_act.apply(pr_c, axis=1)\n",
    "df_uq_pr_act.head()"
   ]
  },
  {
   "cell_type": "code",
   "execution_count": 28,
   "metadata": {},
   "outputs": [
    {
     "data": {
      "text/html": [
       "<div>\n",
       "<style scoped>\n",
       "    .dataframe tbody tr th:only-of-type {\n",
       "        vertical-align: middle;\n",
       "    }\n",
       "\n",
       "    .dataframe tbody tr th {\n",
       "        vertical-align: top;\n",
       "    }\n",
       "\n",
       "    .dataframe thead th {\n",
       "        text-align: right;\n",
       "    }\n",
       "</style>\n",
       "<table border=\"1\" class=\"dataframe\">\n",
       "  <thead>\n",
       "    <tr style=\"text-align: right;\">\n",
       "      <th></th>\n",
       "      <th>pr_check</th>\n",
       "      <th>product_code</th>\n",
       "    </tr>\n",
       "  </thead>\n",
       "  <tbody>\n",
       "    <tr>\n",
       "      <th>0</th>\n",
       "      <td>0</td>\n",
       "      <td>2294090</td>\n",
       "    </tr>\n",
       "    <tr>\n",
       "      <th>1</th>\n",
       "      <td>1</td>\n",
       "      <td>2206509</td>\n",
       "    </tr>\n",
       "  </tbody>\n",
       "</table>\n",
       "</div>"
      ],
      "text/plain": [
       "   pr_check  product_code\n",
       "0         0       2294090\n",
       "1         1       2206509"
      ]
     },
     "execution_count": 28,
     "metadata": {},
     "output_type": "execute_result"
    }
   ],
   "source": [
    "df_uq_pr_act.groupby('pr_check')['product_code'].nunique().reset_index()"
   ]
  },
  {
   "cell_type": "code",
   "execution_count": 29,
   "metadata": {},
   "outputs": [],
   "source": [
    "df_uq_pr_act = df_uq_pr_act[df_uq_pr_act['pr_check']==1]"
   ]
  },
  {
   "attachments": {},
   "cell_type": "markdown",
   "metadata": {},
   "source": [
    "Concept metrics"
   ]
  },
  {
   "cell_type": "code",
   "execution_count": 30,
   "metadata": {},
   "outputs": [
    {
     "data": {
      "text/html": [
       "<div>\n",
       "<style scoped>\n",
       "    .dataframe tbody tr th:only-of-type {\n",
       "        vertical-align: middle;\n",
       "    }\n",
       "\n",
       "    .dataframe tbody tr th {\n",
       "        vertical-align: top;\n",
       "    }\n",
       "\n",
       "    .dataframe thead th {\n",
       "        text-align: right;\n",
       "    }\n",
       "</style>\n",
       "<table border=\"1\" class=\"dataframe\">\n",
       "  <thead>\n",
       "    <tr style=\"text-align: right;\">\n",
       "      <th></th>\n",
       "      <th>concept_code</th>\n",
       "      <th>nb_pr_in_uq</th>\n",
       "      <th>nb_q</th>\n",
       "      <th>nb_display</th>\n",
       "      <th>nb_click</th>\n",
       "      <th>nb_visit</th>\n",
       "      <th>avg_ctr</th>\n",
       "    </tr>\n",
       "  </thead>\n",
       "  <tbody>\n",
       "    <tr>\n",
       "      <th>0</th>\n",
       "      <td>https://opus-adeo.poolparty.biz/COMMONTAXO/1</td>\n",
       "      <td>48</td>\n",
       "      <td>96</td>\n",
       "      <td>125335</td>\n",
       "      <td>10785</td>\n",
       "      <td>101872</td>\n",
       "      <td>0.083958</td>\n",
       "    </tr>\n",
       "    <tr>\n",
       "      <th>1</th>\n",
       "      <td>https://opus-adeo.poolparty.biz/COMMONTAXO/10</td>\n",
       "      <td>38</td>\n",
       "      <td>5706</td>\n",
       "      <td>23796</td>\n",
       "      <td>953</td>\n",
       "      <td>20537</td>\n",
       "      <td>0.020789</td>\n",
       "    </tr>\n",
       "    <tr>\n",
       "      <th>2</th>\n",
       "      <td>https://opus-adeo.poolparty.biz/COMMONTAXO/100</td>\n",
       "      <td>1154</td>\n",
       "      <td>324462</td>\n",
       "      <td>137207</td>\n",
       "      <td>6694</td>\n",
       "      <td>117397</td>\n",
       "      <td>0.02662</td>\n",
       "    </tr>\n",
       "  </tbody>\n",
       "</table>\n",
       "</div>"
      ],
      "text/plain": [
       "                                     concept_code  nb_pr_in_uq    nb_q  \\\n",
       "0    https://opus-adeo.poolparty.biz/COMMONTAXO/1           48      96   \n",
       "1   https://opus-adeo.poolparty.biz/COMMONTAXO/10           38    5706   \n",
       "2  https://opus-adeo.poolparty.biz/COMMONTAXO/100         1154  324462   \n",
       "\n",
       "   nb_display  nb_click  nb_visit   avg_ctr  \n",
       "0      125335     10785    101872  0.083958  \n",
       "1       23796       953     20537  0.020789  \n",
       "2      137207      6694    117397   0.02662  "
      ]
     },
     "execution_count": 30,
     "metadata": {},
     "output_type": "execute_result"
    }
   ],
   "source": [
    "df_uq_concept_ctr = df_uq_pr_act.groupby('concept_code').agg({'product_code': 'nunique', 'nb_q': 'sum',\\\n",
    "                                                              'nb_display': 'sum', 'nb_click': 'sum',\\\n",
    "                                                              'nb_visit': 'sum', 'ctr': 'mean'}).reset_index()\n",
    "df_uq_concept_ctr.columns = ['concept_code', 'nb_pr_in_uq', 'nb_q', 'nb_display', 'nb_click', 'nb_visit', 'avg_ctr']\n",
    "df_uq_concept_ctr.head(3)"
   ]
  },
  {
   "attachments": {},
   "cell_type": "markdown",
   "metadata": {},
   "source": [
    "Create the table with number of products in the concept"
   ]
  },
  {
   "cell_type": "code",
   "execution_count": 31,
   "metadata": {},
   "outputs": [
    {
     "data": {
      "text/html": [
       "<div>\n",
       "<style scoped>\n",
       "    .dataframe tbody tr th:only-of-type {\n",
       "        vertical-align: middle;\n",
       "    }\n",
       "\n",
       "    .dataframe tbody tr th {\n",
       "        vertical-align: top;\n",
       "    }\n",
       "\n",
       "    .dataframe thead th {\n",
       "        text-align: right;\n",
       "    }\n",
       "</style>\n",
       "<table border=\"1\" class=\"dataframe\">\n",
       "  <thead>\n",
       "    <tr style=\"text-align: right;\">\n",
       "      <th></th>\n",
       "      <th>productCode</th>\n",
       "      <th>date</th>\n",
       "      <th>concept_code</th>\n",
       "      <th>rn_0</th>\n",
       "    </tr>\n",
       "  </thead>\n",
       "  <tbody>\n",
       "    <tr>\n",
       "      <th>0</th>\n",
       "      <td>89959659</td>\n",
       "      <td>2024-01-12 21:48:19.027</td>\n",
       "      <td>https://opus-adeo.poolparty.biz/COMMONTAXO/3387</td>\n",
       "      <td>1</td>\n",
       "    </tr>\n",
       "    <tr>\n",
       "      <th>1</th>\n",
       "      <td>89963789</td>\n",
       "      <td>2024-01-10 04:24:06.630</td>\n",
       "      <td>https://opus-adeo.poolparty.biz/COMMONTAXO/3387</td>\n",
       "      <td>1</td>\n",
       "    </tr>\n",
       "  </tbody>\n",
       "</table>\n",
       "</div>"
      ],
      "text/plain": [
       "  productCode                    date  \\\n",
       "0    89959659 2024-01-12 21:48:19.027   \n",
       "1    89963789 2024-01-10 04:24:06.630   \n",
       "\n",
       "                                      concept_code  rn_0  \n",
       "0  https://opus-adeo.poolparty.biz/COMMONTAXO/3387     1  \n",
       "1  https://opus-adeo.poolparty.biz/COMMONTAXO/3387     1  "
      ]
     },
     "execution_count": 31,
     "metadata": {},
     "output_type": "execute_result"
    }
   ],
   "source": [
    "df_pr_conc.head(2)"
   ]
  },
  {
   "cell_type": "code",
   "execution_count": 32,
   "metadata": {},
   "outputs": [],
   "source": [
    "del df_pr_conc['rn_0']\n",
    "df_pr_conc.columns = ['product_code', 'date', 'concept_code']"
   ]
  },
  {
   "cell_type": "code",
   "execution_count": 33,
   "metadata": {},
   "outputs": [
    {
     "data": {
      "text/html": [
       "<div>\n",
       "<style scoped>\n",
       "    .dataframe tbody tr th:only-of-type {\n",
       "        vertical-align: middle;\n",
       "    }\n",
       "\n",
       "    .dataframe tbody tr th {\n",
       "        vertical-align: top;\n",
       "    }\n",
       "\n",
       "    .dataframe thead th {\n",
       "        text-align: right;\n",
       "    }\n",
       "</style>\n",
       "<table border=\"1\" class=\"dataframe\">\n",
       "  <thead>\n",
       "    <tr style=\"text-align: right;\">\n",
       "      <th></th>\n",
       "      <th>concept_code</th>\n",
       "      <th>nb_pr</th>\n",
       "    </tr>\n",
       "  </thead>\n",
       "  <tbody>\n",
       "    <tr>\n",
       "      <th>0</th>\n",
       "      <td>https://opus-adeo.poolparty.biz/COMMONTAXO/1</td>\n",
       "      <td>53964</td>\n",
       "    </tr>\n",
       "    <tr>\n",
       "      <th>1</th>\n",
       "      <td>https://opus-adeo.poolparty.biz/COMMONTAXO/10</td>\n",
       "      <td>107</td>\n",
       "    </tr>\n",
       "    <tr>\n",
       "      <th>2</th>\n",
       "      <td>https://opus-adeo.poolparty.biz/COMMONTAXO/100</td>\n",
       "      <td>1904</td>\n",
       "    </tr>\n",
       "    <tr>\n",
       "      <th>3</th>\n",
       "      <td>https://opus-adeo.poolparty.biz/COMMONTAXO/1000</td>\n",
       "      <td>797</td>\n",
       "    </tr>\n",
       "    <tr>\n",
       "      <th>4</th>\n",
       "      <td>https://opus-adeo.poolparty.biz/COMMONTAXO/1001</td>\n",
       "      <td>29</td>\n",
       "    </tr>\n",
       "  </tbody>\n",
       "</table>\n",
       "</div>"
      ],
      "text/plain": [
       "                                      concept_code  nb_pr\n",
       "0     https://opus-adeo.poolparty.biz/COMMONTAXO/1  53964\n",
       "1    https://opus-adeo.poolparty.biz/COMMONTAXO/10    107\n",
       "2   https://opus-adeo.poolparty.biz/COMMONTAXO/100   1904\n",
       "3  https://opus-adeo.poolparty.biz/COMMONTAXO/1000    797\n",
       "4  https://opus-adeo.poolparty.biz/COMMONTAXO/1001     29"
      ]
     },
     "execution_count": 33,
     "metadata": {},
     "output_type": "execute_result"
    }
   ],
   "source": [
    "df_concept_gr = df_pr_conc.groupby('concept_code')['product_code'].nunique().reset_index()\n",
    "df_concept_gr.columns = ['concept_code','nb_pr']\n",
    "df_concept_gr.head()"
   ]
  },
  {
   "cell_type": "code",
   "execution_count": 34,
   "metadata": {},
   "outputs": [
    {
     "data": {
      "text/html": [
       "<div>\n",
       "<style scoped>\n",
       "    .dataframe tbody tr th:only-of-type {\n",
       "        vertical-align: middle;\n",
       "    }\n",
       "\n",
       "    .dataframe tbody tr th {\n",
       "        vertical-align: top;\n",
       "    }\n",
       "\n",
       "    .dataframe thead th {\n",
       "        text-align: right;\n",
       "    }\n",
       "</style>\n",
       "<table border=\"1\" class=\"dataframe\">\n",
       "  <thead>\n",
       "    <tr style=\"text-align: right;\">\n",
       "      <th></th>\n",
       "      <th>concept_code</th>\n",
       "      <th>nb_pr_in_uq</th>\n",
       "      <th>nb_q</th>\n",
       "      <th>nb_display</th>\n",
       "      <th>nb_click</th>\n",
       "      <th>nb_visit</th>\n",
       "      <th>avg_ctr</th>\n",
       "      <th>nb_pr</th>\n",
       "    </tr>\n",
       "  </thead>\n",
       "  <tbody>\n",
       "    <tr>\n",
       "      <th>0</th>\n",
       "      <td>https://opus-adeo.poolparty.biz/COMMONTAXO/1</td>\n",
       "      <td>48</td>\n",
       "      <td>96</td>\n",
       "      <td>125335</td>\n",
       "      <td>10785</td>\n",
       "      <td>101872</td>\n",
       "      <td>0.083958</td>\n",
       "      <td>53964</td>\n",
       "    </tr>\n",
       "    <tr>\n",
       "      <th>1</th>\n",
       "      <td>https://opus-adeo.poolparty.biz/COMMONTAXO/10</td>\n",
       "      <td>38</td>\n",
       "      <td>5706</td>\n",
       "      <td>23796</td>\n",
       "      <td>953</td>\n",
       "      <td>20537</td>\n",
       "      <td>0.020789</td>\n",
       "      <td>107</td>\n",
       "    </tr>\n",
       "    <tr>\n",
       "      <th>2</th>\n",
       "      <td>https://opus-adeo.poolparty.biz/COMMONTAXO/100</td>\n",
       "      <td>1154</td>\n",
       "      <td>324462</td>\n",
       "      <td>137207</td>\n",
       "      <td>6694</td>\n",
       "      <td>117397</td>\n",
       "      <td>0.02662</td>\n",
       "      <td>1904</td>\n",
       "    </tr>\n",
       "  </tbody>\n",
       "</table>\n",
       "</div>"
      ],
      "text/plain": [
       "                                     concept_code  nb_pr_in_uq    nb_q  \\\n",
       "0    https://opus-adeo.poolparty.biz/COMMONTAXO/1           48      96   \n",
       "1   https://opus-adeo.poolparty.biz/COMMONTAXO/10           38    5706   \n",
       "2  https://opus-adeo.poolparty.biz/COMMONTAXO/100         1154  324462   \n",
       "\n",
       "   nb_display  nb_click  nb_visit   avg_ctr  nb_pr  \n",
       "0      125335     10785    101872  0.083958  53964  \n",
       "1       23796       953     20537  0.020789    107  \n",
       "2      137207      6694    117397   0.02662   1904  "
      ]
     },
     "execution_count": 34,
     "metadata": {},
     "output_type": "execute_result"
    }
   ],
   "source": [
    "df_concept_metrics_1 = df_uq_concept_ctr.merge(df_concept_gr, left_on='concept_code', right_on='concept_code', how='left')\n",
    "df_concept_metrics_1.head(3)"
   ]
  },
  {
   "attachments": {},
   "cell_type": "markdown",
   "metadata": {},
   "source": [
    "Create the table with rating of the concept according to the user activity"
   ]
  },
  {
   "cell_type": "code",
   "execution_count": 35,
   "metadata": {},
   "outputs": [
    {
     "data": {
      "text/html": [
       "<div>\n",
       "<style scoped>\n",
       "    .dataframe tbody tr th:only-of-type {\n",
       "        vertical-align: middle;\n",
       "    }\n",
       "\n",
       "    .dataframe tbody tr th {\n",
       "        vertical-align: top;\n",
       "    }\n",
       "\n",
       "    .dataframe thead th {\n",
       "        text-align: right;\n",
       "    }\n",
       "</style>\n",
       "<table border=\"1\" class=\"dataframe\">\n",
       "  <thead>\n",
       "    <tr style=\"text-align: right;\">\n",
       "      <th></th>\n",
       "      <th>product_code</th>\n",
       "      <th>concept_code</th>\n",
       "      <th>nb_q</th>\n",
       "    </tr>\n",
       "  </thead>\n",
       "  <tbody>\n",
       "    <tr>\n",
       "      <th>0</th>\n",
       "      <td>70719971</td>\n",
       "      <td>https://opus-adeo.poolparty.biz/COMMONTAXO/5086</td>\n",
       "      <td>251</td>\n",
       "    </tr>\n",
       "    <tr>\n",
       "      <th>1</th>\n",
       "      <td>83407496</td>\n",
       "      <td>https://opus-adeo.poolparty.biz/COMMONTAXO/3700</td>\n",
       "      <td>63</td>\n",
       "    </tr>\n",
       "  </tbody>\n",
       "</table>\n",
       "</div>"
      ],
      "text/plain": [
       "  product_code                                     concept_code  nb_q\n",
       "0     70719971  https://opus-adeo.poolparty.biz/COMMONTAXO/5086   251\n",
       "1     83407496  https://opus-adeo.poolparty.biz/COMMONTAXO/3700    63"
      ]
     },
     "execution_count": 35,
     "metadata": {},
     "output_type": "execute_result"
    }
   ],
   "source": [
    "df_uq_r.head(2)"
   ]
  },
  {
   "cell_type": "code",
   "execution_count": 36,
   "metadata": {},
   "outputs": [
    {
     "data": {
      "text/html": [
       "<div>\n",
       "<style scoped>\n",
       "    .dataframe tbody tr th:only-of-type {\n",
       "        vertical-align: middle;\n",
       "    }\n",
       "\n",
       "    .dataframe tbody tr th {\n",
       "        vertical-align: top;\n",
       "    }\n",
       "\n",
       "    .dataframe thead th {\n",
       "        text-align: right;\n",
       "    }\n",
       "</style>\n",
       "<table border=\"1\" class=\"dataframe\">\n",
       "  <thead>\n",
       "    <tr style=\"text-align: right;\">\n",
       "      <th></th>\n",
       "      <th>index</th>\n",
       "      <th>concept_code</th>\n",
       "      <th>nb_q</th>\n",
       "      <th>rating</th>\n",
       "    </tr>\n",
       "  </thead>\n",
       "  <tbody>\n",
       "    <tr>\n",
       "      <th>0</th>\n",
       "      <td>8725</td>\n",
       "      <td>https://opus-adeo.poolparty.biz/COMMONTAXO/8600</td>\n",
       "      <td>38354431</td>\n",
       "      <td>0</td>\n",
       "    </tr>\n",
       "    <tr>\n",
       "      <th>1</th>\n",
       "      <td>4988</td>\n",
       "      <td>https://opus-adeo.poolparty.biz/COMMONTAXO/3097</td>\n",
       "      <td>37969640</td>\n",
       "      <td>1</td>\n",
       "    </tr>\n",
       "    <tr>\n",
       "      <th>2</th>\n",
       "      <td>3915</td>\n",
       "      <td>https://opus-adeo.poolparty.biz/COMMONTAXO/23050</td>\n",
       "      <td>36597316</td>\n",
       "      <td>2</td>\n",
       "    </tr>\n",
       "    <tr>\n",
       "      <th>3</th>\n",
       "      <td>5423</td>\n",
       "      <td>https://opus-adeo.poolparty.biz/COMMONTAXO/3552</td>\n",
       "      <td>34353335</td>\n",
       "      <td>3</td>\n",
       "    </tr>\n",
       "    <tr>\n",
       "      <th>4</th>\n",
       "      <td>4751</td>\n",
       "      <td>https://opus-adeo.poolparty.biz/COMMONTAXO/2864</td>\n",
       "      <td>33562997</td>\n",
       "      <td>4</td>\n",
       "    </tr>\n",
       "  </tbody>\n",
       "</table>\n",
       "</div>"
      ],
      "text/plain": [
       "   index                                      concept_code      nb_q  rating\n",
       "0   8725   https://opus-adeo.poolparty.biz/COMMONTAXO/8600  38354431       0\n",
       "1   4988   https://opus-adeo.poolparty.biz/COMMONTAXO/3097  37969640       1\n",
       "2   3915  https://opus-adeo.poolparty.biz/COMMONTAXO/23050  36597316       2\n",
       "3   5423   https://opus-adeo.poolparty.biz/COMMONTAXO/3552  34353335       3\n",
       "4   4751   https://opus-adeo.poolparty.biz/COMMONTAXO/2864  33562997       4"
      ]
     },
     "execution_count": 36,
     "metadata": {},
     "output_type": "execute_result"
    }
   ],
   "source": [
    "df_uq_gr = df_uq_r.groupby('concept_code')['nb_q'].sum().reset_index()\n",
    "# del df_uq_gr['index']\n",
    "df_uq_gr = df_uq_gr.sort_values(by='nb_q', ascending=False).reset_index()\n",
    "df_uq_gr['rating'] = df_uq_gr.index\n",
    "df_uq_gr.head()"
   ]
  },
  {
   "attachments": {},
   "cell_type": "markdown",
   "metadata": {},
   "source": [
    "!!! there are not the same numbers for the nb of uwer queries for rating and in the table with the metrics because in the table with the metrics there are only products with data in piano"
   ]
  },
  {
   "cell_type": "code",
   "execution_count": 37,
   "metadata": {},
   "outputs": [
    {
     "data": {
      "text/html": [
       "<div>\n",
       "<style scoped>\n",
       "    .dataframe tbody tr th:only-of-type {\n",
       "        vertical-align: middle;\n",
       "    }\n",
       "\n",
       "    .dataframe tbody tr th {\n",
       "        vertical-align: top;\n",
       "    }\n",
       "\n",
       "    .dataframe thead th {\n",
       "        text-align: right;\n",
       "    }\n",
       "</style>\n",
       "<table border=\"1\" class=\"dataframe\">\n",
       "  <thead>\n",
       "    <tr style=\"text-align: right;\">\n",
       "      <th></th>\n",
       "      <th>concept_code</th>\n",
       "      <th>nb_pr_in_uq</th>\n",
       "      <th>nb_q</th>\n",
       "      <th>nb_display</th>\n",
       "      <th>nb_click</th>\n",
       "      <th>nb_visit</th>\n",
       "      <th>avg_ctr</th>\n",
       "      <th>nb_pr</th>\n",
       "      <th>rating</th>\n",
       "    </tr>\n",
       "  </thead>\n",
       "  <tbody>\n",
       "    <tr>\n",
       "      <th>0</th>\n",
       "      <td>https://opus-adeo.poolparty.biz/COMMONTAXO/1</td>\n",
       "      <td>48</td>\n",
       "      <td>96</td>\n",
       "      <td>125335</td>\n",
       "      <td>10785</td>\n",
       "      <td>101872</td>\n",
       "      <td>0.083958</td>\n",
       "      <td>53964</td>\n",
       "      <td>8279</td>\n",
       "    </tr>\n",
       "    <tr>\n",
       "      <th>1</th>\n",
       "      <td>https://opus-adeo.poolparty.biz/COMMONTAXO/10</td>\n",
       "      <td>38</td>\n",
       "      <td>5706</td>\n",
       "      <td>23796</td>\n",
       "      <td>953</td>\n",
       "      <td>20537</td>\n",
       "      <td>0.020789</td>\n",
       "      <td>107</td>\n",
       "      <td>4963</td>\n",
       "    </tr>\n",
       "    <tr>\n",
       "      <th>2</th>\n",
       "      <td>https://opus-adeo.poolparty.biz/COMMONTAXO/100</td>\n",
       "      <td>1154</td>\n",
       "      <td>324462</td>\n",
       "      <td>137207</td>\n",
       "      <td>6694</td>\n",
       "      <td>117397</td>\n",
       "      <td>0.02662</td>\n",
       "      <td>1904</td>\n",
       "      <td>610</td>\n",
       "    </tr>\n",
       "    <tr>\n",
       "      <th>3</th>\n",
       "      <td>https://opus-adeo.poolparty.biz/COMMONTAXO/1000</td>\n",
       "      <td>553</td>\n",
       "      <td>2751</td>\n",
       "      <td>41913</td>\n",
       "      <td>1172</td>\n",
       "      <td>36277</td>\n",
       "      <td>0.011537</td>\n",
       "      <td>797</td>\n",
       "      <td>6417</td>\n",
       "    </tr>\n",
       "    <tr>\n",
       "      <th>4</th>\n",
       "      <td>https://opus-adeo.poolparty.biz/COMMONTAXO/1001</td>\n",
       "      <td>16</td>\n",
       "      <td>3669</td>\n",
       "      <td>17745</td>\n",
       "      <td>712</td>\n",
       "      <td>14896</td>\n",
       "      <td>0.039375</td>\n",
       "      <td>29</td>\n",
       "      <td>5203</td>\n",
       "    </tr>\n",
       "  </tbody>\n",
       "</table>\n",
       "</div>"
      ],
      "text/plain": [
       "                                      concept_code  nb_pr_in_uq    nb_q  \\\n",
       "0     https://opus-adeo.poolparty.biz/COMMONTAXO/1           48      96   \n",
       "1    https://opus-adeo.poolparty.biz/COMMONTAXO/10           38    5706   \n",
       "2   https://opus-adeo.poolparty.biz/COMMONTAXO/100         1154  324462   \n",
       "3  https://opus-adeo.poolparty.biz/COMMONTAXO/1000          553    2751   \n",
       "4  https://opus-adeo.poolparty.biz/COMMONTAXO/1001           16    3669   \n",
       "\n",
       "   nb_display  nb_click  nb_visit   avg_ctr  nb_pr  rating  \n",
       "0      125335     10785    101872  0.083958  53964    8279  \n",
       "1       23796       953     20537  0.020789    107    4963  \n",
       "2      137207      6694    117397   0.02662   1904     610  \n",
       "3       41913      1172     36277  0.011537    797    6417  \n",
       "4       17745       712     14896  0.039375     29    5203  "
      ]
     },
     "execution_count": 37,
     "metadata": {},
     "output_type": "execute_result"
    }
   ],
   "source": [
    "df_concept_metrics = df_concept_metrics_1.merge(df_uq_gr[['concept_code', 'rating']], left_on='concept_code',\\\n",
    "                                                  right_on = 'concept_code', how='left')\n",
    "df_concept_metrics.head()"
   ]
  },
  {
   "cell_type": "code",
   "execution_count": 38,
   "metadata": {},
   "outputs": [
    {
     "data": {
      "text/html": [
       "<div>\n",
       "<style scoped>\n",
       "    .dataframe tbody tr th:only-of-type {\n",
       "        vertical-align: middle;\n",
       "    }\n",
       "\n",
       "    .dataframe tbody tr th {\n",
       "        vertical-align: top;\n",
       "    }\n",
       "\n",
       "    .dataframe thead th {\n",
       "        text-align: right;\n",
       "    }\n",
       "</style>\n",
       "<table border=\"1\" class=\"dataframe\">\n",
       "  <thead>\n",
       "    <tr style=\"text-align: right;\">\n",
       "      <th></th>\n",
       "      <th>concept_code</th>\n",
       "      <th>nb_pr_in_uq</th>\n",
       "      <th>nb_q</th>\n",
       "      <th>nb_display</th>\n",
       "      <th>nb_click</th>\n",
       "      <th>nb_visit</th>\n",
       "      <th>avg_ctr</th>\n",
       "      <th>nb_pr</th>\n",
       "      <th>rating</th>\n",
       "      <th>perc_q_pr</th>\n",
       "    </tr>\n",
       "  </thead>\n",
       "  <tbody>\n",
       "    <tr>\n",
       "      <th>776</th>\n",
       "      <td>https://opus-adeo.poolparty.biz/COMMONTAXO/1588</td>\n",
       "      <td>1</td>\n",
       "      <td>1</td>\n",
       "      <td>1</td>\n",
       "      <td>0</td>\n",
       "      <td>1</td>\n",
       "      <td>0.0</td>\n",
       "      <td>1</td>\n",
       "      <td>8883</td>\n",
       "      <td>1.00</td>\n",
       "    </tr>\n",
       "    <tr>\n",
       "      <th>4668</th>\n",
       "      <td>https://opus-adeo.poolparty.biz/COMMONTAXO/4545</td>\n",
       "      <td>1</td>\n",
       "      <td>4</td>\n",
       "      <td>80</td>\n",
       "      <td>0</td>\n",
       "      <td>68</td>\n",
       "      <td>0.0</td>\n",
       "      <td>3</td>\n",
       "      <td>8203</td>\n",
       "      <td>0.33</td>\n",
       "    </tr>\n",
       "    <tr>\n",
       "      <th>2009</th>\n",
       "      <td>https://opus-adeo.poolparty.biz/COMMONTAXO/19895</td>\n",
       "      <td>1</td>\n",
       "      <td>8</td>\n",
       "      <td>4</td>\n",
       "      <td>0</td>\n",
       "      <td>4</td>\n",
       "      <td>0.0</td>\n",
       "      <td>12</td>\n",
       "      <td>7406</td>\n",
       "      <td>0.08</td>\n",
       "    </tr>\n",
       "    <tr>\n",
       "      <th>5516</th>\n",
       "      <td>https://opus-adeo.poolparty.biz/COMMONTAXO/5408</td>\n",
       "      <td>1</td>\n",
       "      <td>2</td>\n",
       "      <td>2</td>\n",
       "      <td>0</td>\n",
       "      <td>2</td>\n",
       "      <td>0.0</td>\n",
       "      <td>1</td>\n",
       "      <td>7435</td>\n",
       "      <td>1.00</td>\n",
       "    </tr>\n",
       "    <tr>\n",
       "      <th>4406</th>\n",
       "      <td>https://opus-adeo.poolparty.biz/COMMONTAXO/4271</td>\n",
       "      <td>1</td>\n",
       "      <td>47</td>\n",
       "      <td>43</td>\n",
       "      <td>0</td>\n",
       "      <td>42</td>\n",
       "      <td>0.0</td>\n",
       "      <td>3</td>\n",
       "      <td>7863</td>\n",
       "      <td>0.33</td>\n",
       "    </tr>\n",
       "  </tbody>\n",
       "</table>\n",
       "</div>"
      ],
      "text/plain": [
       "                                          concept_code  nb_pr_in_uq  nb_q  \\\n",
       "776    https://opus-adeo.poolparty.biz/COMMONTAXO/1588            1     1   \n",
       "4668   https://opus-adeo.poolparty.biz/COMMONTAXO/4545            1     4   \n",
       "2009  https://opus-adeo.poolparty.biz/COMMONTAXO/19895            1     8   \n",
       "5516   https://opus-adeo.poolparty.biz/COMMONTAXO/5408            1     2   \n",
       "4406   https://opus-adeo.poolparty.biz/COMMONTAXO/4271            1    47   \n",
       "\n",
       "      nb_display  nb_click  nb_visit  avg_ctr  nb_pr  rating  perc_q_pr  \n",
       "776            1         0         1      0.0      1    8883       1.00  \n",
       "4668          80         0        68      0.0      3    8203       0.33  \n",
       "2009           4         0         4      0.0     12    7406       0.08  \n",
       "5516           2         0         2      0.0      1    7435       1.00  \n",
       "4406          43         0        42      0.0      3    7863       0.33  "
      ]
     },
     "execution_count": 38,
     "metadata": {},
     "output_type": "execute_result"
    }
   ],
   "source": [
    "df_concept_metrics['perc_q_pr'] = (df_concept_metrics['nb_pr_in_uq'] / df_concept_metrics['nb_pr']).round(2)\n",
    "df_concept_metrics = df_concept_metrics.sort_values(by='avg_ctr')\n",
    "df_concept_metrics.head()"
   ]
  },
  {
   "cell_type": "code",
   "execution_count": 39,
   "metadata": {},
   "outputs": [
    {
     "data": {
      "text/plain": [
       "LoadJob<project=ccdp-transverse-data-dev, location=EU, id=2bb6c9f2-fb75-446a-ab3e-ffef028d94f6>"
      ]
     },
     "execution_count": 39,
     "metadata": {},
     "output_type": "execute_result"
    }
   ],
   "source": [
    "from google.cloud import bigquery\n",
    "\n",
    "# Initialize the BigQuery client\n",
    "client = bigquery.Client(project=project_id)\n",
    "\n",
    "table_ref = client.dataset(dataset_id).table(table_target)\n",
    "table = bigquery.Table(table_ref)\n",
    "\n",
    "# Load the DataFrame into BigQuery\n",
    "job_config = bigquery.LoadJobConfig()\n",
    "job_config.write_disposition = bigquery.WriteDisposition.WRITE_TRUNCATE\n",
    "# OR\n",
    "# job_config.write_disposition = bigquery.WriteDisposition.WRITE_APPEND\n",
    "\n",
    "client.load_table_from_dataframe(df_concept_metrics, table, job_config=job_config).result()"
   ]
  },
  {
   "attachments": {},
   "cell_type": "markdown",
   "metadata": {},
   "source": [
    "#### With these metrics it is possible to check the concepts"
   ]
  },
  {
   "attachments": {},
   "cell_type": "markdown",
   "metadata": {},
   "source": [
    "Check concept with a lot of products, low ctr and high rating"
   ]
  },
  {
   "cell_type": "code",
   "execution_count": 40,
   "metadata": {},
   "outputs": [
    {
     "data": {
      "text/html": [
       "<div>\n",
       "<style scoped>\n",
       "    .dataframe tbody tr th:only-of-type {\n",
       "        vertical-align: middle;\n",
       "    }\n",
       "\n",
       "    .dataframe tbody tr th {\n",
       "        vertical-align: top;\n",
       "    }\n",
       "\n",
       "    .dataframe thead th {\n",
       "        text-align: right;\n",
       "    }\n",
       "</style>\n",
       "<table border=\"1\" class=\"dataframe\">\n",
       "  <thead>\n",
       "    <tr style=\"text-align: right;\">\n",
       "      <th></th>\n",
       "      <th>concept_code</th>\n",
       "      <th>nb_pr_in_uq</th>\n",
       "      <th>nb_q</th>\n",
       "      <th>nb_display</th>\n",
       "      <th>nb_click</th>\n",
       "      <th>nb_visit</th>\n",
       "      <th>avg_ctr</th>\n",
       "      <th>nb_pr</th>\n",
       "      <th>rating</th>\n",
       "      <th>perc_q_pr</th>\n",
       "    </tr>\n",
       "  </thead>\n",
       "  <tbody>\n",
       "    <tr>\n",
       "      <th>3585</th>\n",
       "      <td>https://opus-adeo.poolparty.biz/COMMONTAXO/3387</td>\n",
       "      <td>28174</td>\n",
       "      <td>344293</td>\n",
       "      <td>26995717</td>\n",
       "      <td>1200226</td>\n",
       "      <td>22596688</td>\n",
       "      <td>0.030767</td>\n",
       "      <td>1041761</td>\n",
       "      <td>1747</td>\n",
       "      <td>0.03</td>\n",
       "    </tr>\n",
       "    <tr>\n",
       "      <th>5451</th>\n",
       "      <td>https://opus-adeo.poolparty.biz/COMMONTAXO/5333</td>\n",
       "      <td>99869</td>\n",
       "      <td>1880269</td>\n",
       "      <td>16698580</td>\n",
       "      <td>718536</td>\n",
       "      <td>14405759</td>\n",
       "      <td>0.024037</td>\n",
       "      <td>907375</td>\n",
       "      <td>419</td>\n",
       "      <td>0.11</td>\n",
       "    </tr>\n",
       "    <tr>\n",
       "      <th>3590</th>\n",
       "      <td>https://opus-adeo.poolparty.biz/COMMONTAXO/3391</td>\n",
       "      <td>178767</td>\n",
       "      <td>21363013</td>\n",
       "      <td>33850564</td>\n",
       "      <td>1403871</td>\n",
       "      <td>29217257</td>\n",
       "      <td>0.025399</td>\n",
       "      <td>804707</td>\n",
       "      <td>11</td>\n",
       "      <td>0.22</td>\n",
       "    </tr>\n",
       "    <tr>\n",
       "      <th>6596</th>\n",
       "      <td>https://opus-adeo.poolparty.biz/COMMONTAXO/840</td>\n",
       "      <td>105230</td>\n",
       "      <td>2688598</td>\n",
       "      <td>30245543</td>\n",
       "      <td>1304532</td>\n",
       "      <td>25466323</td>\n",
       "      <td>0.024551</td>\n",
       "      <td>562981</td>\n",
       "      <td>347</td>\n",
       "      <td>0.19</td>\n",
       "    </tr>\n",
       "    <tr>\n",
       "      <th>5681</th>\n",
       "      <td>https://opus-adeo.poolparty.biz/COMMONTAXO/5592</td>\n",
       "      <td>126202</td>\n",
       "      <td>17519510</td>\n",
       "      <td>19368316</td>\n",
       "      <td>753270</td>\n",
       "      <td>16857868</td>\n",
       "      <td>0.023089</td>\n",
       "      <td>328283</td>\n",
       "      <td>23</td>\n",
       "      <td>0.38</td>\n",
       "    </tr>\n",
       "  </tbody>\n",
       "</table>\n",
       "</div>"
      ],
      "text/plain": [
       "                                         concept_code  nb_pr_in_uq      nb_q  \\\n",
       "3585  https://opus-adeo.poolparty.biz/COMMONTAXO/3387        28174    344293   \n",
       "5451  https://opus-adeo.poolparty.biz/COMMONTAXO/5333        99869   1880269   \n",
       "3590  https://opus-adeo.poolparty.biz/COMMONTAXO/3391       178767  21363013   \n",
       "6596   https://opus-adeo.poolparty.biz/COMMONTAXO/840       105230   2688598   \n",
       "5681  https://opus-adeo.poolparty.biz/COMMONTAXO/5592       126202  17519510   \n",
       "\n",
       "      nb_display  nb_click  nb_visit   avg_ctr    nb_pr  rating  perc_q_pr  \n",
       "3585    26995717   1200226  22596688  0.030767  1041761    1747       0.03  \n",
       "5451    16698580    718536  14405759  0.024037   907375     419       0.11  \n",
       "3590    33850564   1403871  29217257  0.025399   804707      11       0.22  \n",
       "6596    30245543   1304532  25466323  0.024551   562981     347       0.19  \n",
       "5681    19368316    753270  16857868  0.023089   328283      23       0.38  "
      ]
     },
     "execution_count": 40,
     "metadata": {},
     "output_type": "execute_result"
    }
   ],
   "source": [
    "df_concept_metrics.sort_values(by='nb_pr', ascending=False).head()"
   ]
  },
  {
   "cell_type": "code",
   "execution_count": 41,
   "metadata": {},
   "outputs": [
    {
     "data": {
      "text/plain": [
       "0.00583941605839416"
      ]
     },
     "execution_count": 41,
     "metadata": {},
     "output_type": "execute_result"
    }
   ],
   "source": [
    "df_concept_metrics[df_concept_metrics['avg_ctr']==0]['concept_code'].nunique()/df_concept_metrics['concept_code'].nunique()"
   ]
  },
  {
   "cell_type": "code",
   "execution_count": 42,
   "metadata": {},
   "outputs": [
    {
     "data": {
      "text/plain": [
       "40"
      ]
     },
     "execution_count": 42,
     "metadata": {},
     "output_type": "execute_result"
    }
   ],
   "source": [
    "df_concept_metrics[df_concept_metrics['avg_ctr']==0]['concept_code'].nunique()"
   ]
  },
  {
   "attachments": {},
   "cell_type": "markdown",
   "metadata": {},
   "source": [
    "0.05 %  (40 concepts in January 2024) of concepts have 0 ctr"
   ]
  },
  {
   "cell_type": "code",
   "execution_count": 43,
   "metadata": {},
   "outputs": [
    {
     "data": {
      "image/png": "[encoded data removed]",
      "text/plain": [
       "<Figure size 2000x300 with 1 Axes>"
      ]
     },
     "metadata": {
      "image/png": {
       "height": 294,
       "width": 1610
      }
     },
     "output_type": "display_data"
    }
   ],
   "source": [
    "df_concept_metrics.hist(column='avg_ctr', bins = 30, figsize=(20,3));"
   ]
  },
  {
   "cell_type": "code",
   "execution_count": 44,
   "metadata": {},
   "outputs": [
    {
     "data": {
      "image/png": "[encoded data removed]",
      "text/plain": [
       "<Figure size 2000x300 with 1 Axes>"
      ]
     },
     "metadata": {
      "image/png": {
       "height": 294,
       "width": 1602
      }
     },
     "output_type": "display_data"
    }
   ],
   "source": [
    "df_concept_metrics[df_concept_metrics['avg_ctr']<0.1].hist(column='avg_ctr', bins = 30, figsize=(20,3));"
   ]
  },
  {
   "cell_type": "code",
   "execution_count": 46,
   "metadata": {},
   "outputs": [
    {
     "data": {
      "image/png": "[encoded data removed]",
      "text/plain": [
       "<Figure size 1500x800 with 1 Axes>"
      ]
     },
     "metadata": {
      "image/png": {
       "height": 699,
       "width": 1231
      }
     },
     "output_type": "display_data"
    }
   ],
   "source": [
    "plt.figure(figsize=(15,8))\n",
    "sns.scatterplot(data=df_concept_metrics, x='avg_ctr', y=\"nb_q\", \\\n",
    "     size = \"nb_pr\", hue=\"perc_q_pr\", edgecolors=\"black\", palette=\"RdBu\",\\\n",
    "     alpha=1, sizes=(20, 500))\n",
    "plt.title('High number of queries, low average CTR')\n",
    "plt.show()"
   ]
  },
  {
   "cell_type": "code",
   "execution_count": 54,
   "metadata": {},
   "outputs": [
    {
     "data": {
      "image/png": "[encoded data removed]",
      "text/plain": [
       "<Figure size 1500x800 with 1 Axes>"
      ]
     },
     "metadata": {
      "image/png": {
       "height": 699,
       "width": 1231
      }
     },
     "output_type": "display_data"
    }
   ],
   "source": [
    "plt.figure(figsize=(15,8))\n",
    "sns.scatterplot(data=df_concept_metrics[(df_concept_metrics['nb_q']>10000000)&(df_concept_metrics['avg_ctr']<0.1)], x='avg_ctr', y=\"nb_q\", \\\n",
    "     size = \"nb_pr\", hue=\"perc_q_pr\", edgecolors=\"black\", palette=\"RdBu\",\\\n",
    "     alpha=1, sizes=(20, 500))\n",
    "plt.title('High number of queries, low average CTR')\n",
    "plt.show()"
   ]
  },
  {
   "cell_type": "code",
   "execution_count": 55,
   "metadata": {},
   "outputs": [
    {
     "data": {
      "text/plain": [
       "21"
      ]
     },
     "execution_count": 55,
     "metadata": {},
     "output_type": "execute_result"
    }
   ],
   "source": [
    "df_ch = df_concept_metrics[(df_concept_metrics['nb_q']>10000000)&(df_concept_metrics['avg_ctr']<0.1)]\n",
    "df_ch['concept_code'].nunique()"
   ]
  },
  {
   "cell_type": "code",
   "execution_count": 56,
   "metadata": {},
   "outputs": [
    {
     "data": {
      "text/html": [
       "<div>\n",
       "<style scoped>\n",
       "    .dataframe tbody tr th:only-of-type {\n",
       "        vertical-align: middle;\n",
       "    }\n",
       "\n",
       "    .dataframe tbody tr th {\n",
       "        vertical-align: top;\n",
       "    }\n",
       "\n",
       "    .dataframe thead th {\n",
       "        text-align: right;\n",
       "    }\n",
       "</style>\n",
       "<table border=\"1\" class=\"dataframe\">\n",
       "  <thead>\n",
       "    <tr style=\"text-align: right;\">\n",
       "      <th></th>\n",
       "      <th>concept_code</th>\n",
       "      <th>nb_pr_in_uq</th>\n",
       "      <th>nb_q</th>\n",
       "      <th>nb_display</th>\n",
       "      <th>nb_click</th>\n",
       "      <th>nb_visit</th>\n",
       "      <th>avg_ctr</th>\n",
       "      <th>nb_pr</th>\n",
       "      <th>rating</th>\n",
       "      <th>perc_q_pr</th>\n",
       "    </tr>\n",
       "  </thead>\n",
       "  <tbody>\n",
       "    <tr>\n",
       "      <th>6692</th>\n",
       "      <td>https://opus-adeo.poolparty.biz/COMMONTAXO/8600</td>\n",
       "      <td>7458</td>\n",
       "      <td>32210913</td>\n",
       "      <td>10987907</td>\n",
       "      <td>672848</td>\n",
       "      <td>8998249</td>\n",
       "      <td>0.043717</td>\n",
       "      <td>11547</td>\n",
       "      <td>0</td>\n",
       "      <td>0.65</td>\n",
       "    </tr>\n",
       "    <tr>\n",
       "      <th>3322</th>\n",
       "      <td>https://opus-adeo.poolparty.biz/COMMONTAXO/3097</td>\n",
       "      <td>46557</td>\n",
       "      <td>35282111</td>\n",
       "      <td>7585462</td>\n",
       "      <td>385693</td>\n",
       "      <td>6428538</td>\n",
       "      <td>0.027402</td>\n",
       "      <td>85695</td>\n",
       "      <td>1</td>\n",
       "      <td>0.54</td>\n",
       "    </tr>\n",
       "    <tr>\n",
       "      <th>3718</th>\n",
       "      <td>https://opus-adeo.poolparty.biz/COMMONTAXO/3552</td>\n",
       "      <td>7228</td>\n",
       "      <td>13671290</td>\n",
       "      <td>2697224</td>\n",
       "      <td>100048</td>\n",
       "      <td>2374635</td>\n",
       "      <td>0.021595</td>\n",
       "      <td>12085</td>\n",
       "      <td>3</td>\n",
       "      <td>0.60</td>\n",
       "    </tr>\n",
       "    <tr>\n",
       "      <th>3095</th>\n",
       "      <td>https://opus-adeo.poolparty.biz/COMMONTAXO/2864</td>\n",
       "      <td>90410</td>\n",
       "      <td>31483236</td>\n",
       "      <td>5632243</td>\n",
       "      <td>290513</td>\n",
       "      <td>4950234</td>\n",
       "      <td>0.025939</td>\n",
       "      <td>234196</td>\n",
       "      <td>4</td>\n",
       "      <td>0.39</td>\n",
       "    </tr>\n",
       "    <tr>\n",
       "      <th>3698</th>\n",
       "      <td>https://opus-adeo.poolparty.biz/COMMONTAXO/3528</td>\n",
       "      <td>1331</td>\n",
       "      <td>13712264</td>\n",
       "      <td>2195103</td>\n",
       "      <td>92211</td>\n",
       "      <td>1879430</td>\n",
       "      <td>0.023899</td>\n",
       "      <td>2926</td>\n",
       "      <td>5</td>\n",
       "      <td>0.45</td>\n",
       "    </tr>\n",
       "    <tr>\n",
       "      <th>3594</th>\n",
       "      <td>https://opus-adeo.poolparty.biz/COMMONTAXO/3396</td>\n",
       "      <td>25443</td>\n",
       "      <td>22862692</td>\n",
       "      <td>9321824</td>\n",
       "      <td>375394</td>\n",
       "      <td>7887332</td>\n",
       "      <td>0.030038</td>\n",
       "      <td>62882</td>\n",
       "      <td>6</td>\n",
       "      <td>0.40</td>\n",
       "    </tr>\n",
       "    <tr>\n",
       "      <th>3656</th>\n",
       "      <td>https://opus-adeo.poolparty.biz/COMMONTAXO/3474</td>\n",
       "      <td>608</td>\n",
       "      <td>12837378</td>\n",
       "      <td>2852720</td>\n",
       "      <td>158287</td>\n",
       "      <td>2326537</td>\n",
       "      <td>0.037368</td>\n",
       "      <td>1342</td>\n",
       "      <td>8</td>\n",
       "      <td>0.45</td>\n",
       "    </tr>\n",
       "    <tr>\n",
       "      <th>6168</th>\n",
       "      <td>https://opus-adeo.poolparty.biz/COMMONTAXO/6128</td>\n",
       "      <td>17260</td>\n",
       "      <td>18920959</td>\n",
       "      <td>3145759</td>\n",
       "      <td>167452</td>\n",
       "      <td>2526682</td>\n",
       "      <td>0.03362</td>\n",
       "      <td>31509</td>\n",
       "      <td>9</td>\n",
       "      <td>0.55</td>\n",
       "    </tr>\n",
       "    <tr>\n",
       "      <th>3590</th>\n",
       "      <td>https://opus-adeo.poolparty.biz/COMMONTAXO/3391</td>\n",
       "      <td>178767</td>\n",
       "      <td>21363013</td>\n",
       "      <td>33850564</td>\n",
       "      <td>1403871</td>\n",
       "      <td>29217257</td>\n",
       "      <td>0.025399</td>\n",
       "      <td>804707</td>\n",
       "      <td>11</td>\n",
       "      <td>0.22</td>\n",
       "    </tr>\n",
       "    <tr>\n",
       "      <th>579</th>\n",
       "      <td>https://opus-adeo.poolparty.biz/COMMONTAXO/15334</td>\n",
       "      <td>1219</td>\n",
       "      <td>17470050</td>\n",
       "      <td>4801077</td>\n",
       "      <td>204932</td>\n",
       "      <td>3912225</td>\n",
       "      <td>0.031148</td>\n",
       "      <td>3005</td>\n",
       "      <td>14</td>\n",
       "      <td>0.41</td>\n",
       "    </tr>\n",
       "    <tr>\n",
       "      <th>5554</th>\n",
       "      <td>https://opus-adeo.poolparty.biz/COMMONTAXO/5450</td>\n",
       "      <td>21274</td>\n",
       "      <td>16207577</td>\n",
       "      <td>3490766</td>\n",
       "      <td>169969</td>\n",
       "      <td>2987329</td>\n",
       "      <td>0.021707</td>\n",
       "      <td>38573</td>\n",
       "      <td>19</td>\n",
       "      <td>0.55</td>\n",
       "    </tr>\n",
       "    <tr>\n",
       "      <th>5681</th>\n",
       "      <td>https://opus-adeo.poolparty.biz/COMMONTAXO/5592</td>\n",
       "      <td>126202</td>\n",
       "      <td>17519510</td>\n",
       "      <td>19368316</td>\n",
       "      <td>753270</td>\n",
       "      <td>16857868</td>\n",
       "      <td>0.023089</td>\n",
       "      <td>328283</td>\n",
       "      <td>23</td>\n",
       "      <td>0.38</td>\n",
       "    </tr>\n",
       "    <tr>\n",
       "      <th>5714</th>\n",
       "      <td>https://opus-adeo.poolparty.biz/COMMONTAXO/563</td>\n",
       "      <td>8793</td>\n",
       "      <td>11625872</td>\n",
       "      <td>3055739</td>\n",
       "      <td>149664</td>\n",
       "      <td>2628379</td>\n",
       "      <td>0.039102</td>\n",
       "      <td>20627</td>\n",
       "      <td>24</td>\n",
       "      <td>0.43</td>\n",
       "    </tr>\n",
       "    <tr>\n",
       "      <th>5497</th>\n",
       "      <td>https://opus-adeo.poolparty.biz/COMMONTAXO/5389</td>\n",
       "      <td>3468</td>\n",
       "      <td>12122617</td>\n",
       "      <td>2868203</td>\n",
       "      <td>119822</td>\n",
       "      <td>2418392</td>\n",
       "      <td>0.031315</td>\n",
       "      <td>10056</td>\n",
       "      <td>27</td>\n",
       "      <td>0.34</td>\n",
       "    </tr>\n",
       "    <tr>\n",
       "      <th>5530</th>\n",
       "      <td>https://opus-adeo.poolparty.biz/COMMONTAXO/5425</td>\n",
       "      <td>4125</td>\n",
       "      <td>10830764</td>\n",
       "      <td>1788463</td>\n",
       "      <td>91691</td>\n",
       "      <td>1531434</td>\n",
       "      <td>0.023016</td>\n",
       "      <td>10331</td>\n",
       "      <td>30</td>\n",
       "      <td>0.40</td>\n",
       "    </tr>\n",
       "    <tr>\n",
       "      <th>3182</th>\n",
       "      <td>https://opus-adeo.poolparty.biz/COMMONTAXO/2958</td>\n",
       "      <td>690</td>\n",
       "      <td>10580471</td>\n",
       "      <td>1607115</td>\n",
       "      <td>97310</td>\n",
       "      <td>1328612</td>\n",
       "      <td>0.045971</td>\n",
       "      <td>1607</td>\n",
       "      <td>34</td>\n",
       "      <td>0.43</td>\n",
       "    </tr>\n",
       "    <tr>\n",
       "      <th>4222</th>\n",
       "      <td>https://opus-adeo.poolparty.biz/COMMONTAXO/4070</td>\n",
       "      <td>8068</td>\n",
       "      <td>12353246</td>\n",
       "      <td>5135774</td>\n",
       "      <td>263245</td>\n",
       "      <td>4215684</td>\n",
       "      <td>0.025856</td>\n",
       "      <td>18729</td>\n",
       "      <td>40</td>\n",
       "      <td>0.43</td>\n",
       "    </tr>\n",
       "    <tr>\n",
       "      <th>4200</th>\n",
       "      <td>https://opus-adeo.poolparty.biz/COMMONTAXO/4050</td>\n",
       "      <td>1142</td>\n",
       "      <td>12485744</td>\n",
       "      <td>2151673</td>\n",
       "      <td>150304</td>\n",
       "      <td>1682100</td>\n",
       "      <td>0.04317</td>\n",
       "      <td>2384</td>\n",
       "      <td>41</td>\n",
       "      <td>0.48</td>\n",
       "    </tr>\n",
       "    <tr>\n",
       "      <th>5470</th>\n",
       "      <td>https://opus-adeo.poolparty.biz/COMMONTAXO/5358</td>\n",
       "      <td>97054</td>\n",
       "      <td>11972850</td>\n",
       "      <td>2796032</td>\n",
       "      <td>112947</td>\n",
       "      <td>2455494</td>\n",
       "      <td>0.027676</td>\n",
       "      <td>306990</td>\n",
       "      <td>45</td>\n",
       "      <td>0.32</td>\n",
       "    </tr>\n",
       "    <tr>\n",
       "      <th>5805</th>\n",
       "      <td>https://opus-adeo.poolparty.biz/COMMONTAXO/5735</td>\n",
       "      <td>31439</td>\n",
       "      <td>11852099</td>\n",
       "      <td>3092473</td>\n",
       "      <td>119440</td>\n",
       "      <td>2830591</td>\n",
       "      <td>0.021836</td>\n",
       "      <td>60890</td>\n",
       "      <td>46</td>\n",
       "      <td>0.52</td>\n",
       "    </tr>\n",
       "  </tbody>\n",
       "</table>\n",
       "</div>"
      ],
      "text/plain": [
       "                                          concept_code  nb_pr_in_uq      nb_q  \\\n",
       "6692   https://opus-adeo.poolparty.biz/COMMONTAXO/8600         7458  32210913   \n",
       "3322   https://opus-adeo.poolparty.biz/COMMONTAXO/3097        46557  35282111   \n",
       "3718   https://opus-adeo.poolparty.biz/COMMONTAXO/3552         7228  13671290   \n",
       "3095   https://opus-adeo.poolparty.biz/COMMONTAXO/2864        90410  31483236   \n",
       "3698   https://opus-adeo.poolparty.biz/COMMONTAXO/3528         1331  13712264   \n",
       "3594   https://opus-adeo.poolparty.biz/COMMONTAXO/3396        25443  22862692   \n",
       "3656   https://opus-adeo.poolparty.biz/COMMONTAXO/3474          608  12837378   \n",
       "6168   https://opus-adeo.poolparty.biz/COMMONTAXO/6128        17260  18920959   \n",
       "3590   https://opus-adeo.poolparty.biz/COMMONTAXO/3391       178767  21363013   \n",
       "579   https://opus-adeo.poolparty.biz/COMMONTAXO/15334         1219  17470050   \n",
       "5554   https://opus-adeo.poolparty.biz/COMMONTAXO/5450        21274  16207577   \n",
       "5681   https://opus-adeo.poolparty.biz/COMMONTAXO/5592       126202  17519510   \n",
       "5714    https://opus-adeo.poolparty.biz/COMMONTAXO/563         8793  11625872   \n",
       "5497   https://opus-adeo.poolparty.biz/COMMONTAXO/5389         3468  12122617   \n",
       "5530   https://opus-adeo.poolparty.biz/COMMONTAXO/5425         4125  10830764   \n",
       "3182   https://opus-adeo.poolparty.biz/COMMONTAXO/2958          690  10580471   \n",
       "4222   https://opus-adeo.poolparty.biz/COMMONTAXO/4070         8068  12353246   \n",
       "4200   https://opus-adeo.poolparty.biz/COMMONTAXO/4050         1142  12485744   \n",
       "5470   https://opus-adeo.poolparty.biz/COMMONTAXO/5358        97054  11972850   \n",
       "5805   https://opus-adeo.poolparty.biz/COMMONTAXO/5735        31439  11852099   \n",
       "\n",
       "      nb_display  nb_click  nb_visit   avg_ctr   nb_pr  rating  perc_q_pr  \n",
       "6692    10987907    672848   8998249  0.043717   11547       0       0.65  \n",
       "3322     7585462    385693   6428538  0.027402   85695       1       0.54  \n",
       "3718     2697224    100048   2374635  0.021595   12085       3       0.60  \n",
       "3095     5632243    290513   4950234  0.025939  234196       4       0.39  \n",
       "3698     2195103     92211   1879430  0.023899    2926       5       0.45  \n",
       "3594     9321824    375394   7887332  0.030038   62882       6       0.40  \n",
       "3656     2852720    158287   2326537  0.037368    1342       8       0.45  \n",
       "6168     3145759    167452   2526682   0.03362   31509       9       0.55  \n",
       "3590    33850564   1403871  29217257  0.025399  804707      11       0.22  \n",
       "579      4801077    204932   3912225  0.031148    3005      14       0.41  \n",
       "5554     3490766    169969   2987329  0.021707   38573      19       0.55  \n",
       "5681    19368316    753270  16857868  0.023089  328283      23       0.38  \n",
       "5714     3055739    149664   2628379  0.039102   20627      24       0.43  \n",
       "5497     2868203    119822   2418392  0.031315   10056      27       0.34  \n",
       "5530     1788463     91691   1531434  0.023016   10331      30       0.40  \n",
       "3182     1607115     97310   1328612  0.045971    1607      34       0.43  \n",
       "4222     5135774    263245   4215684  0.025856   18729      40       0.43  \n",
       "4200     2151673    150304   1682100   0.04317    2384      41       0.48  \n",
       "5470     2796032    112947   2455494  0.027676  306990      45       0.32  \n",
       "5805     3092473    119440   2830591  0.021836   60890      46       0.52  "
      ]
     },
     "execution_count": 56,
     "metadata": {},
     "output_type": "execute_result"
    }
   ],
   "source": [
    "df_ch.sort_values(by='rating', ascending=True).head(20)"
   ]
  },
  {
   "cell_type": "code",
   "execution_count": 57,
   "metadata": {},
   "outputs": [
    {
     "data": {
      "text/html": [
       "<div>\n",
       "<style scoped>\n",
       "    .dataframe tbody tr th:only-of-type {\n",
       "        vertical-align: middle;\n",
       "    }\n",
       "\n",
       "    .dataframe tbody tr th {\n",
       "        vertical-align: top;\n",
       "    }\n",
       "\n",
       "    .dataframe thead th {\n",
       "        text-align: right;\n",
       "    }\n",
       "</style>\n",
       "<table border=\"1\" class=\"dataframe\">\n",
       "  <thead>\n",
       "    <tr style=\"text-align: right;\">\n",
       "      <th></th>\n",
       "      <th>concept_id</th>\n",
       "      <th>level_num</th>\n",
       "      <th>grand_parent_concept</th>\n",
       "    </tr>\n",
       "  </thead>\n",
       "  <tbody>\n",
       "    <tr>\n",
       "      <th>0</th>\n",
       "      <td>https://opus-adeo.poolparty.biz/COMMONTAXO/0</td>\n",
       "      <td>1</td>\n",
       "      <td>https://opus-adeo.poolparty.biz/COMMONTAXO/0</td>\n",
       "    </tr>\n",
       "  </tbody>\n",
       "</table>\n",
       "</div>"
      ],
      "text/plain": [
       "                                     concept_id  level_num  \\\n",
       "0  https://opus-adeo.poolparty.biz/COMMONTAXO/0          1   \n",
       "\n",
       "                           grand_parent_concept  \n",
       "0  https://opus-adeo.poolparty.biz/COMMONTAXO/0  "
      ]
     },
     "execution_count": 57,
     "metadata": {},
     "output_type": "execute_result"
    }
   ],
   "source": [
    "filepath_rel_un = \"./datasets/rel_unp.parquet\"\n",
    "df_rel_un = pd.read_parquet(filepath_rel_un)\n",
    "df_rel_un.head(1)"
   ]
  },
  {
   "cell_type": "code",
   "execution_count": 61,
   "metadata": {},
   "outputs": [
    {
     "data": {
      "text/html": [
       "<div>\n",
       "<style scoped>\n",
       "    .dataframe tbody tr th:only-of-type {\n",
       "        vertical-align: middle;\n",
       "    }\n",
       "\n",
       "    .dataframe tbody tr th {\n",
       "        vertical-align: top;\n",
       "    }\n",
       "\n",
       "    .dataframe thead th {\n",
       "        text-align: right;\n",
       "    }\n",
       "</style>\n",
       "<table border=\"1\" class=\"dataframe\">\n",
       "  <thead>\n",
       "    <tr style=\"text-align: right;\">\n",
       "      <th></th>\n",
       "      <th>concept_code</th>\n",
       "      <th>nb_pr_in_uq</th>\n",
       "      <th>nb_q</th>\n",
       "      <th>nb_display</th>\n",
       "      <th>nb_click</th>\n",
       "      <th>nb_visit</th>\n",
       "      <th>avg_ctr</th>\n",
       "      <th>nb_pr</th>\n",
       "      <th>rating</th>\n",
       "      <th>perc_q_pr</th>\n",
       "      <th>level_num</th>\n",
       "      <th>grand_parent_concept</th>\n",
       "    </tr>\n",
       "  </thead>\n",
       "  <tbody>\n",
       "    <tr>\n",
       "      <th>0</th>\n",
       "      <td>https://opus-adeo.poolparty.biz/COMMONTAXO/4032</td>\n",
       "      <td>10611</td>\n",
       "      <td>10947532</td>\n",
       "      <td>2143080</td>\n",
       "      <td>93669</td>\n",
       "      <td>1778524</td>\n",
       "      <td>0.015532</td>\n",
       "      <td>18154</td>\n",
       "      <td>53</td>\n",
       "      <td>0.58</td>\n",
       "      <td>3</td>\n",
       "      <td>https://opus-adeo.poolparty.biz/COMMONTAXO/0</td>\n",
       "    </tr>\n",
       "    <tr>\n",
       "      <th>1</th>\n",
       "      <td>https://opus-adeo.poolparty.biz/COMMONTAXO/3552</td>\n",
       "      <td>7228</td>\n",
       "      <td>13671290</td>\n",
       "      <td>2697224</td>\n",
       "      <td>100048</td>\n",
       "      <td>2374635</td>\n",
       "      <td>0.021595</td>\n",
       "      <td>12085</td>\n",
       "      <td>3</td>\n",
       "      <td>0.60</td>\n",
       "      <td>4</td>\n",
       "      <td>https://opus-adeo.poolparty.biz/COMMONTAXO/0</td>\n",
       "    </tr>\n",
       "    <tr>\n",
       "      <th>2</th>\n",
       "      <td>https://opus-adeo.poolparty.biz/COMMONTAXO/5450</td>\n",
       "      <td>21274</td>\n",
       "      <td>16207577</td>\n",
       "      <td>3490766</td>\n",
       "      <td>169969</td>\n",
       "      <td>2987329</td>\n",
       "      <td>0.021707</td>\n",
       "      <td>38573</td>\n",
       "      <td>19</td>\n",
       "      <td>0.55</td>\n",
       "      <td>3</td>\n",
       "      <td>https://opus-adeo.poolparty.biz/COMMONTAXO/0</td>\n",
       "    </tr>\n",
       "    <tr>\n",
       "      <th>3</th>\n",
       "      <td>https://opus-adeo.poolparty.biz/COMMONTAXO/5735</td>\n",
       "      <td>31439</td>\n",
       "      <td>11852099</td>\n",
       "      <td>3092473</td>\n",
       "      <td>119440</td>\n",
       "      <td>2830591</td>\n",
       "      <td>0.021836</td>\n",
       "      <td>60890</td>\n",
       "      <td>46</td>\n",
       "      <td>0.52</td>\n",
       "      <td>4</td>\n",
       "      <td>https://opus-adeo.poolparty.biz/COMMONTAXO/0</td>\n",
       "    </tr>\n",
       "    <tr>\n",
       "      <th>4</th>\n",
       "      <td>https://opus-adeo.poolparty.biz/COMMONTAXO/5425</td>\n",
       "      <td>4125</td>\n",
       "      <td>10830764</td>\n",
       "      <td>1788463</td>\n",
       "      <td>91691</td>\n",
       "      <td>1531434</td>\n",
       "      <td>0.023016</td>\n",
       "      <td>10331</td>\n",
       "      <td>30</td>\n",
       "      <td>0.40</td>\n",
       "      <td>3</td>\n",
       "      <td>https://opus-adeo.poolparty.biz/COMMONTAXO/0</td>\n",
       "    </tr>\n",
       "  </tbody>\n",
       "</table>\n",
       "</div>"
      ],
      "text/plain": [
       "                                      concept_code  nb_pr_in_uq      nb_q  \\\n",
       "0  https://opus-adeo.poolparty.biz/COMMONTAXO/4032        10611  10947532   \n",
       "1  https://opus-adeo.poolparty.biz/COMMONTAXO/3552         7228  13671290   \n",
       "2  https://opus-adeo.poolparty.biz/COMMONTAXO/5450        21274  16207577   \n",
       "3  https://opus-adeo.poolparty.biz/COMMONTAXO/5735        31439  11852099   \n",
       "4  https://opus-adeo.poolparty.biz/COMMONTAXO/5425         4125  10830764   \n",
       "\n",
       "   nb_display  nb_click  nb_visit   avg_ctr  nb_pr  rating  perc_q_pr  \\\n",
       "0     2143080     93669   1778524  0.015532  18154      53       0.58   \n",
       "1     2697224    100048   2374635  0.021595  12085       3       0.60   \n",
       "2     3490766    169969   2987329  0.021707  38573      19       0.55   \n",
       "3     3092473    119440   2830591  0.021836  60890      46       0.52   \n",
       "4     1788463     91691   1531434  0.023016  10331      30       0.40   \n",
       "\n",
       "   level_num                          grand_parent_concept  \n",
       "0          3  https://opus-adeo.poolparty.biz/COMMONTAXO/0  \n",
       "1          4  https://opus-adeo.poolparty.biz/COMMONTAXO/0  \n",
       "2          3  https://opus-adeo.poolparty.biz/COMMONTAXO/0  \n",
       "3          4  https://opus-adeo.poolparty.biz/COMMONTAXO/0  \n",
       "4          3  https://opus-adeo.poolparty.biz/COMMONTAXO/0  "
      ]
     },
     "execution_count": 61,
     "metadata": {},
     "output_type": "execute_result"
    }
   ],
   "source": [
    "df_conc_ch = df_ch.merge(df_rel_un, left_on='concept_code', right_on='concept_id',how='left')\n",
    "del df_conc_ch['concept_id']\n",
    "df_conc_ch.head()"
   ]
  },
  {
   "cell_type": "code",
   "execution_count": 62,
   "metadata": {},
   "outputs": [
    {
     "data": {
      "text/html": [
       "<div>\n",
       "<style scoped>\n",
       "    .dataframe tbody tr th:only-of-type {\n",
       "        vertical-align: middle;\n",
       "    }\n",
       "\n",
       "    .dataframe tbody tr th {\n",
       "        vertical-align: top;\n",
       "    }\n",
       "\n",
       "    .dataframe thead th {\n",
       "        text-align: right;\n",
       "    }\n",
       "</style>\n",
       "<table border=\"1\" class=\"dataframe\">\n",
       "  <thead>\n",
       "    <tr style=\"text-align: right;\">\n",
       "      <th></th>\n",
       "      <th>grand_parent_concept</th>\n",
       "      <th>concept_code</th>\n",
       "    </tr>\n",
       "  </thead>\n",
       "  <tbody>\n",
       "    <tr>\n",
       "      <th>0</th>\n",
       "      <td>https://opus-adeo.poolparty.biz/COMMONTAXO/0</td>\n",
       "      <td>21</td>\n",
       "    </tr>\n",
       "  </tbody>\n",
       "</table>\n",
       "</div>"
      ],
      "text/plain": [
       "                           grand_parent_concept  concept_code\n",
       "0  https://opus-adeo.poolparty.biz/COMMONTAXO/0            21"
      ]
     },
     "execution_count": 62,
     "metadata": {},
     "output_type": "execute_result"
    }
   ],
   "source": [
    "df_conc_ch.groupby('grand_parent_concept')['concept_code'].nunique().reset_index()"
   ]
  },
  {
   "cell_type": "code",
   "execution_count": 63,
   "metadata": {},
   "outputs": [
    {
     "data": {
      "text/html": [
       "<div>\n",
       "<style scoped>\n",
       "    .dataframe tbody tr th:only-of-type {\n",
       "        vertical-align: middle;\n",
       "    }\n",
       "\n",
       "    .dataframe tbody tr th {\n",
       "        vertical-align: top;\n",
       "    }\n",
       "\n",
       "    .dataframe thead th {\n",
       "        text-align: right;\n",
       "    }\n",
       "</style>\n",
       "<table border=\"1\" class=\"dataframe\">\n",
       "  <thead>\n",
       "    <tr style=\"text-align: right;\">\n",
       "      <th></th>\n",
       "      <th>level_num</th>\n",
       "      <th>concept_code</th>\n",
       "    </tr>\n",
       "  </thead>\n",
       "  <tbody>\n",
       "    <tr>\n",
       "      <th>0</th>\n",
       "      <td>2</td>\n",
       "      <td>1</td>\n",
       "    </tr>\n",
       "    <tr>\n",
       "      <th>1</th>\n",
       "      <td>3</td>\n",
       "      <td>11</td>\n",
       "    </tr>\n",
       "    <tr>\n",
       "      <th>2</th>\n",
       "      <td>4</td>\n",
       "      <td>8</td>\n",
       "    </tr>\n",
       "    <tr>\n",
       "      <th>3</th>\n",
       "      <td>5</td>\n",
       "      <td>1</td>\n",
       "    </tr>\n",
       "  </tbody>\n",
       "</table>\n",
       "</div>"
      ],
      "text/plain": [
       "   level_num  concept_code\n",
       "0          2             1\n",
       "1          3            11\n",
       "2          4             8\n",
       "3          5             1"
      ]
     },
     "execution_count": 63,
     "metadata": {},
     "output_type": "execute_result"
    }
   ],
   "source": [
    "df_conc_ch.groupby('level_num')['concept_code'].nunique().reset_index()"
   ]
  },
  {
   "cell_type": "code",
   "execution_count": 64,
   "metadata": {},
   "outputs": [
    {
     "data": {
      "image/png": "[encoded data removed]",
      "text/plain": [
       "<Figure size 2000x300 with 1 Axes>"
      ]
     },
     "metadata": {
      "image/png": {
       "height": 294,
       "width": 1595
      }
     },
     "output_type": "display_data"
    }
   ],
   "source": [
    "df_conc_ch.hist(column='nb_pr', bins = 30, figsize=(20,3));"
   ]
  },
  {
   "attachments": {},
   "cell_type": "markdown",
   "metadata": {},
   "source": [
    "Summary:  \n",
    "1. All of these concepts have one grand-parent concept : 'https://opus-adeo.poolparty.biz/COMMONTAXO/0'  \n",
    "2. Most of them 3 and 4 levels of the concepts  \n",
    "3. "
   ]
  }
 ],
 "metadata": {
  "kernelspec": {
   "display_name": "cashing-scoring-env",
   "language": "python",
   "name": "python3"
  },
  "language_info": {
   "codemirror_mode": {
    "name": "ipython",
    "version": 3
   },
   "file_extension": ".py",
   "mimetype": "text/x-python",
   "name": "python",
   "nbconvert_exporter": "python",
   "pygments_lexer": "ipython3",
   "version": "3.10.9"
  },
  "orig_nbformat": 4,
  "vscode": {
   "interpreter": {
    "hash": "5932c71fae83f54b051fd5cdef704798997082f1902f53297518df8c2923f49d"
   }
  }
 },
 "nbformat": 4,
 "nbformat_minor": 2
}
