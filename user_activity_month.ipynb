{
 "cells": [
  {
   "cell_type": "code",
   "execution_count": 0,
   "metadata": {},
   "outputs": [
    {
     "name": "stderr",
     "output_type": "stream",
     "text": [
      "/var/folders/t5/84slq0fn2gx51rghrcgxpjt80000gn/T/ipykernel_53010/1792471945.py:14: MatplotlibDeprecationWarning: The seaborn styles shipped by Matplotlib are deprecated since 3.6, as they no longer correspond to the styles shipped by seaborn. However, they will remain available as 'seaborn-v0_8-<style>'. Alternatively, directly use the seaborn API instead.\n",
      "  plt.style.use('seaborn-pastel')\n",
      "/var/folders/t5/84slq0fn2gx51rghrcgxpjt80000gn/T/ipykernel_53010/1792471945.py:15: MatplotlibDeprecationWarning: The seaborn styles shipped by Matplotlib are deprecated since 3.6, as they no longer correspond to the styles shipped by seaborn. However, they will remain available as 'seaborn-v0_8-<style>'. Alternatively, directly use the seaborn API instead.\n",
      "  plt.style.use('seaborn-dark')\n"
     ]
    }
   ],
   "source": [
    "import pandas as pd\n",
    "import numpy as np\n",
    "import matplotlib.pyplot as plt\n",
    "import seaborn as sns\n",
    "import datetime as dt\n",
    "import itertools\n",
    "import re\n",
    "from itertools import product\n",
    "import operator\n",
    "from functools import reduce\n",
    "#from pandas import option_context\n",
    "#%pip install openpyxl\n",
    "%config InlineBackend.figure_format = 'retina'\n",
    "plt.style.use('seaborn-pastel')\n",
    "plt.style.use('seaborn-dark')"
   ]
  },
  {
   "cell_type": "code",
   "execution_count": 1,
   "metadata": {},
   "outputs": [],
   "source": [
    "import matplotlib\n",
    "from matplotlib.colors import ListedColormap\n",
    "from matplotlib.colors import LinearSegmentedColormap\n",
    "matplotlib.style.use('seaborn-v0_8')\n",
    "color_list = ['white','skyblue','pink', 'tomato', 'slateblue', 'wheat', 'lightgrey', 'limegreen', 'royalblue', 'yellowgreen', 'lightseagreen', 'orchid', 'orange']\n",
    "cmap = LinearSegmentedColormap.from_list(\"\",color_list)"
   ]
  },
  {
   "cell_type": "code",
   "execution_count": 2,
   "metadata": {},
   "outputs": [],
   "source": [
    "# Import all the google connexion packages\n",
    "import os\n",
    "import google.auth\n",
    "from google.cloud import bigquery\n",
    "from google.auth import impersonated_credentials\n",
    "\n",
    "os.environ['GOOGLE_APPLICATION_CREDENTIALS'] = \"/Users/a20015173/.config/gcloud/legacy_credentials/ekaterina.rezanovich@adeo.com/adc.json\"\n",
    "client_1 = bigquery.Client(project = 'ccdp-transverse-data-dev')"
   ]
  },
  {
   "cell_type": "code",
   "execution_count": 3,
   "metadata": {},
   "outputs": [],
   "source": [
    "project_id = \"ccdp-transverse-data-dev\"\n",
    "dataset_id = \"ccdp_kg_project\"\n",
    "table_target = \"\"\n",
    "table_target_2 = \"\""
   ]
  },
  {
   "cell_type": "raw",
   "metadata": {},
   "source": [
    "# product + concept + concept branch\n",
    "query = \"\"\"\n",
    "select \tproduct_code, concept_code, concept_level\n",
    "from `ccdp-transverse-data-dev.ccdp_kg_project.kg_product_concept_branch`\n",
    "    \"\"\"\n",
    "dl_data = pd.read_gbq(query=query, project_id=\"ccdp-transverse-data-dev\")\n",
    "df_product_rel_branch = dl_data"
   ]
  },
  {
   "cell_type": "code",
   "execution_count": 6,
   "metadata": {},
   "outputs": [
    {
     "data": {
      "text/html": [
       "<div>\n",
       "<style scoped>\n",
       "    .dataframe tbody tr th:only-of-type {\n",
       "        vertical-align: middle;\n",
       "    }\n",
       "\n",
       "    .dataframe tbody tr th {\n",
       "        vertical-align: top;\n",
       "    }\n",
       "\n",
       "    .dataframe thead th {\n",
       "        text-align: right;\n",
       "    }\n",
       "</style>\n",
       "<table border=\"1\" class=\"dataframe\">\n",
       "  <thead>\n",
       "    <tr style=\"text-align: right;\">\n",
       "      <th></th>\n",
       "      <th>product_code</th>\n",
       "      <th>concept_code</th>\n",
       "      <th>concept_level</th>\n",
       "    </tr>\n",
       "  </thead>\n",
       "  <tbody>\n",
       "    <tr>\n",
       "      <th>0</th>\n",
       "      <td>84710930</td>\n",
       "      <td>https://opus-adeo.poolparty.biz/COMMONTAXO/16451</td>\n",
       "      <td>5</td>\n",
       "    </tr>\n",
       "    <tr>\n",
       "      <th>1</th>\n",
       "      <td>87148086</td>\n",
       "      <td>https://opus-adeo.poolparty.biz/COMMONTAXO/16875</td>\n",
       "      <td>5</td>\n",
       "    </tr>\n",
       "    <tr>\n",
       "      <th>2</th>\n",
       "      <td>86846179</td>\n",
       "      <td>https://opus-adeo.poolparty.biz/COMMONTAXO/16875</td>\n",
       "      <td>5</td>\n",
       "    </tr>\n",
       "  </tbody>\n",
       "</table>\n",
       "</div>"
      ],
      "text/plain": [
       "  product_code                                      concept_code concept_level\n",
       "0     84710930  https://opus-adeo.poolparty.biz/COMMONTAXO/16451             5\n",
       "1     87148086  https://opus-adeo.poolparty.biz/COMMONTAXO/16875             5\n",
       "2     86846179  https://opus-adeo.poolparty.biz/COMMONTAXO/16875             5"
      ]
     },
     "execution_count": 6,
     "metadata": {},
     "output_type": "execute_result"
    }
   ],
   "source": [
    "#filepath_0 = \"./datasets/product_concept.parquet\"\n",
    "#df_product_rel_branch = pd.read_parquet(filepath_0)\n",
    "df_product_rel_branch.head(3)"
   ]
  },
  {
   "attachments": {},
   "cell_type": "markdown",
   "metadata": {},
   "source": [
    "### User Activity and query"
   ]
  },
  {
   "cell_type": "code",
   "execution_count": 7,
   "metadata": {},
   "outputs": [],
   "source": [
    "# user query data taring\n",
    "# date = 2024-01-01 - 2024-01-31\n",
    "filepath_1 = \"./datasets/uq_concept_1_24.parquet\"\n",
    "if not os.path.isfile(filepath_1):\n",
    "\n",
    "    query = \"\"\"\n",
    "    select product_code, concept_code, count(*)\n",
    "    from\n",
    "    (SELECT timestamp, searchId,firstNature as concept_code, products.code as product_code\n",
    "    FROM `opus-prod.frlm_opus_search.PRODUCT_SEARCHES`,\n",
    "    unnest (products) as products, \n",
    "    unnest (firstNAture.codes) as firstNature\n",
    "    WHERE TIMESTAMP_TRUNC(timestamp, DAY) between TIMESTAMP(\"2024-01-01\") and TIMESTAMP(\"2024-01-31\")\n",
    "    and firstNature is not null)\n",
    "    group by 1,2\n",
    "        \"\"\"\n",
    "\n",
    "dl_data = pd.read_gbq(query=query, project_id=\"ccdp-transverse-data-dev\")\n",
    "dl_data.to_parquet(filepath_1)\n",
    "df_uq_r = pd.read_parquet(filepath_1)"
   ]
  },
  {
   "cell_type": "code",
   "execution_count": 8,
   "metadata": {},
   "outputs": [
    {
     "data": {
      "text/html": [
       "<div>\n",
       "<style scoped>\n",
       "    .dataframe tbody tr th:only-of-type {\n",
       "        vertical-align: middle;\n",
       "    }\n",
       "\n",
       "    .dataframe tbody tr th {\n",
       "        vertical-align: top;\n",
       "    }\n",
       "\n",
       "    .dataframe thead th {\n",
       "        text-align: right;\n",
       "    }\n",
       "</style>\n",
       "<table border=\"1\" class=\"dataframe\">\n",
       "  <thead>\n",
       "    <tr style=\"text-align: right;\">\n",
       "      <th></th>\n",
       "      <th>product_code</th>\n",
       "      <th>concept_code</th>\n",
       "      <th>f0_</th>\n",
       "    </tr>\n",
       "  </thead>\n",
       "  <tbody>\n",
       "    <tr>\n",
       "      <th>0</th>\n",
       "      <td>70719971</td>\n",
       "      <td>https://opus-adeo.poolparty.biz/COMMONTAXO/5086</td>\n",
       "      <td>251</td>\n",
       "    </tr>\n",
       "    <tr>\n",
       "      <th>1</th>\n",
       "      <td>83407496</td>\n",
       "      <td>https://opus-adeo.poolparty.biz/COMMONTAXO/3700</td>\n",
       "      <td>63</td>\n",
       "    </tr>\n",
       "    <tr>\n",
       "      <th>2</th>\n",
       "      <td>86143953</td>\n",
       "      <td>https://opus-adeo.poolparty.biz/COMMONTAXO/8492</td>\n",
       "      <td>50</td>\n",
       "    </tr>\n",
       "  </tbody>\n",
       "</table>\n",
       "</div>"
      ],
      "text/plain": [
       "  product_code                                     concept_code  f0_\n",
       "0     70719971  https://opus-adeo.poolparty.biz/COMMONTAXO/5086  251\n",
       "1     83407496  https://opus-adeo.poolparty.biz/COMMONTAXO/3700   63\n",
       "2     86143953  https://opus-adeo.poolparty.biz/COMMONTAXO/8492   50"
      ]
     },
     "execution_count": 8,
     "metadata": {},
     "output_type": "execute_result"
    }
   ],
   "source": [
    "#filepath_1 = \"./datasets/uq_concept_1_24.parquet\"\n",
    "#df_uq_r = pd.read_parquet(filepath_1)\n",
    "df_uq_r.head(3)"
   ]
  },
  {
   "cell_type": "code",
   "execution_count": 9,
   "metadata": {},
   "outputs": [],
   "source": [
    "df_uq_r.columns = ['product_code', 'concept_code', 'nb_q']"
   ]
  },
  {
   "cell_type": "code",
   "execution_count": 10,
   "metadata": {},
   "outputs": [
    {
     "ename": "KeyboardInterrupt",
     "evalue": "",
     "output_type": "error",
     "traceback": [
      "\u001b[0;31m---------------------------------------------------------------------------\u001b[0m",
      "\u001b[0;31mKeyboardInterrupt\u001b[0m                         Traceback (most recent call last)",
      "Cell \u001b[0;32mIn[10], line 17\u001b[0m\n\u001b[1;32m      4\u001b[0m \u001b[39mif\u001b[39;00m \u001b[39mnot\u001b[39;00m os\u001b[39m.\u001b[39mpath\u001b[39m.\u001b[39misfile(filepath_2):\n\u001b[1;32m      6\u001b[0m     query \u001b[39m=\u001b[39m \u001b[39m\"\"\"\u001b[39m\n\u001b[1;32m      7\u001b[0m \u001b[39m    SELECT visit_date, visit_id,ISE_KEYWORD, product_id as productCode,\u001b[39m\n\u001b[1;32m      8\u001b[0m \u001b[39m    SUM(IF(event_name = \u001b[39m\u001b[39m'\u001b[39m\u001b[39mproduct.display\u001b[39m\u001b[39m'\u001b[39m\u001b[39m, 1, 0)) as nbDisplays,\u001b[39m\n\u001b[0;32m   (...)\u001b[0m\n\u001b[1;32m     14\u001b[0m \u001b[39m    GROUP BY 1, 2, 3, 4\u001b[39m\n\u001b[1;32m     15\u001b[0m \u001b[39m    \u001b[39m\u001b[39m\"\"\"\u001b[39m\n\u001b[0;32m---> 17\u001b[0m     dl_data \u001b[39m=\u001b[39m pd\u001b[39m.\u001b[39;49mread_gbq(query\u001b[39m=\u001b[39;49mquery, project_id\u001b[39m=\u001b[39;49m\u001b[39m\"\u001b[39;49m\u001b[39mccdp-transverse-data-dev\u001b[39;49m\u001b[39m\"\u001b[39;49m)\n\u001b[1;32m     18\u001b[0m     dl_data\u001b[39m.\u001b[39mto_parquet(filepath_2)\n\u001b[1;32m     20\u001b[0m df_piano_1 \u001b[39m=\u001b[39m pd\u001b[39m.\u001b[39mread_parquet(filepath_2)\n",
      "File \u001b[0;32m~/.pyenv/versions/3.10.9/envs/cashing-scoring-env/lib/python3.10/site-packages/pandas/io/gbq.py:189\u001b[0m, in \u001b[0;36mread_gbq\u001b[0;34m(query, project_id, index_col, col_order, reauth, auth_local_webserver, dialect, location, configuration, credentials, use_bqstorage_api, max_results, progress_bar_type)\u001b[0m\n\u001b[1;32m    186\u001b[0m kwargs[\u001b[39m\"\u001b[39m\u001b[39mprogress_bar_type\u001b[39m\u001b[39m\"\u001b[39m] \u001b[39m=\u001b[39m progress_bar_type\n\u001b[1;32m    187\u001b[0m \u001b[39m# END: new kwargs\u001b[39;00m\n\u001b[0;32m--> 189\u001b[0m \u001b[39mreturn\u001b[39;00m pandas_gbq\u001b[39m.\u001b[39;49mread_gbq(\n\u001b[1;32m    190\u001b[0m     query,\n\u001b[1;32m    191\u001b[0m     project_id\u001b[39m=\u001b[39;49mproject_id,\n\u001b[1;32m    192\u001b[0m     index_col\u001b[39m=\u001b[39;49mindex_col,\n\u001b[1;32m    193\u001b[0m     col_order\u001b[39m=\u001b[39;49mcol_order,\n\u001b[1;32m    194\u001b[0m     reauth\u001b[39m=\u001b[39;49mreauth,\n\u001b[1;32m    195\u001b[0m     auth_local_webserver\u001b[39m=\u001b[39;49mauth_local_webserver,\n\u001b[1;32m    196\u001b[0m     dialect\u001b[39m=\u001b[39;49mdialect,\n\u001b[1;32m    197\u001b[0m     location\u001b[39m=\u001b[39;49mlocation,\n\u001b[1;32m    198\u001b[0m     configuration\u001b[39m=\u001b[39;49mconfiguration,\n\u001b[1;32m    199\u001b[0m     credentials\u001b[39m=\u001b[39;49mcredentials,\n\u001b[1;32m    200\u001b[0m     \u001b[39m*\u001b[39;49m\u001b[39m*\u001b[39;49mkwargs,\n\u001b[1;32m    201\u001b[0m )\n",
      "File \u001b[0;32m~/.pyenv/versions/3.10.9/envs/cashing-scoring-env/lib/python3.10/site-packages/pandas_gbq/gbq.py:943\u001b[0m, in \u001b[0;36mread_gbq\u001b[0;34m(query_or_table, project_id, index_col, col_order, reauth, auth_local_webserver, dialect, location, configuration, credentials, use_bqstorage_api, max_results, verbose, private_key, progress_bar_type, dtypes, auth_redirect_uri, client_id, client_secret)\u001b[0m\n\u001b[1;32m    928\u001b[0m connector \u001b[39m=\u001b[39m GbqConnector(\n\u001b[1;32m    929\u001b[0m     project_id,\n\u001b[1;32m    930\u001b[0m     reauth\u001b[39m=\u001b[39mreauth,\n\u001b[0;32m   (...)\u001b[0m\n\u001b[1;32m    939\u001b[0m     client_secret\u001b[39m=\u001b[39mclient_secret,\n\u001b[1;32m    940\u001b[0m )\n\u001b[1;32m    942\u001b[0m \u001b[39mif\u001b[39;00m _is_query(query_or_table):\n\u001b[0;32m--> 943\u001b[0m     final_df \u001b[39m=\u001b[39m connector\u001b[39m.\u001b[39;49mrun_query(\n\u001b[1;32m    944\u001b[0m         query_or_table,\n\u001b[1;32m    945\u001b[0m         configuration\u001b[39m=\u001b[39;49mconfiguration,\n\u001b[1;32m    946\u001b[0m         max_results\u001b[39m=\u001b[39;49mmax_results,\n\u001b[1;32m    947\u001b[0m         progress_bar_type\u001b[39m=\u001b[39;49mprogress_bar_type,\n\u001b[1;32m    948\u001b[0m         dtypes\u001b[39m=\u001b[39;49mdtypes,\n\u001b[1;32m    949\u001b[0m     )\n\u001b[1;32m    950\u001b[0m \u001b[39melse\u001b[39;00m:\n\u001b[1;32m    951\u001b[0m     final_df \u001b[39m=\u001b[39m connector\u001b[39m.\u001b[39mdownload_table(\n\u001b[1;32m    952\u001b[0m         query_or_table,\n\u001b[1;32m    953\u001b[0m         max_results\u001b[39m=\u001b[39mmax_results,\n\u001b[1;32m    954\u001b[0m         progress_bar_type\u001b[39m=\u001b[39mprogress_bar_type,\n\u001b[1;32m    955\u001b[0m         dtypes\u001b[39m=\u001b[39mdtypes,\n\u001b[1;32m    956\u001b[0m     )\n",
      "File \u001b[0;32m~/.pyenv/versions/3.10.9/envs/cashing-scoring-env/lib/python3.10/site-packages/pandas_gbq/gbq.py:539\u001b[0m, in \u001b[0;36mGbqConnector.run_query\u001b[0;34m(self, query, max_results, progress_bar_type, **kwargs)\u001b[0m\n\u001b[1;32m    534\u001b[0m     \u001b[39mreturn\u001b[39;00m pandas\u001b[39m.\u001b[39mDataFrame()\n\u001b[1;32m    536\u001b[0m rows_iter \u001b[39m=\u001b[39m \u001b[39mself\u001b[39m\u001b[39m.\u001b[39mclient\u001b[39m.\u001b[39mlist_rows(\n\u001b[1;32m    537\u001b[0m     query_reply\u001b[39m.\u001b[39mdestination, max_results\u001b[39m=\u001b[39mmax_results\n\u001b[1;32m    538\u001b[0m )\n\u001b[0;32m--> 539\u001b[0m \u001b[39mreturn\u001b[39;00m \u001b[39mself\u001b[39;49m\u001b[39m.\u001b[39;49m_download_results(\n\u001b[1;32m    540\u001b[0m     rows_iter,\n\u001b[1;32m    541\u001b[0m     max_results\u001b[39m=\u001b[39;49mmax_results,\n\u001b[1;32m    542\u001b[0m     progress_bar_type\u001b[39m=\u001b[39;49mprogress_bar_type,\n\u001b[1;32m    543\u001b[0m     user_dtypes\u001b[39m=\u001b[39;49mdtypes,\n\u001b[1;32m    544\u001b[0m )\n",
      "File \u001b[0;32m~/.pyenv/versions/3.10.9/envs/cashing-scoring-env/lib/python3.10/site-packages/pandas_gbq/gbq.py:572\u001b[0m, in \u001b[0;36mGbqConnector._download_results\u001b[0;34m(self, rows_iter, max_results, progress_bar_type, user_dtypes)\u001b[0m\n\u001b[1;32m    570\u001b[0m     conversion_dtypes \u001b[39m=\u001b[39m _bqschema_to_nullsafe_dtypes(schema_fields)\n\u001b[1;32m    571\u001b[0m     conversion_dtypes\u001b[39m.\u001b[39mupdate(user_dtypes)\n\u001b[0;32m--> 572\u001b[0m     df \u001b[39m=\u001b[39m rows_iter\u001b[39m.\u001b[39;49mto_dataframe(\n\u001b[1;32m    573\u001b[0m         dtypes\u001b[39m=\u001b[39;49mconversion_dtypes,\n\u001b[1;32m    574\u001b[0m         progress_bar_type\u001b[39m=\u001b[39;49mprogress_bar_type,\n\u001b[1;32m    575\u001b[0m         create_bqstorage_client\u001b[39m=\u001b[39;49mcreate_bqstorage_client,\n\u001b[1;32m    576\u001b[0m         \u001b[39m*\u001b[39;49m\u001b[39m*\u001b[39;49mto_dataframe_kwargs,\n\u001b[1;32m    577\u001b[0m     )\n\u001b[1;32m    578\u001b[0m \u001b[39mexcept\u001b[39;00m \u001b[39mself\u001b[39m\u001b[39m.\u001b[39mhttp_error \u001b[39mas\u001b[39;00m ex:\n\u001b[1;32m    579\u001b[0m     \u001b[39mself\u001b[39m\u001b[39m.\u001b[39mprocess_http_error(ex)\n",
      "File \u001b[0;32m~/.pyenv/versions/3.10.9/envs/cashing-scoring-env/lib/python3.10/site-packages/google/cloud/bigquery/table.py:2007\u001b[0m, in \u001b[0;36mRowIterator.to_dataframe\u001b[0;34m(self, bqstorage_client, dtypes, progress_bar_type, create_bqstorage_client, geography_as_object)\u001b[0m\n\u001b[1;32m   2004\u001b[0m     create_bqstorage_client \u001b[39m=\u001b[39m \u001b[39mFalse\u001b[39;00m\n\u001b[1;32m   2005\u001b[0m     bqstorage_client \u001b[39m=\u001b[39m \u001b[39mNone\u001b[39;00m\n\u001b[0;32m-> 2007\u001b[0m record_batch \u001b[39m=\u001b[39m \u001b[39mself\u001b[39;49m\u001b[39m.\u001b[39;49mto_arrow(\n\u001b[1;32m   2008\u001b[0m     progress_bar_type\u001b[39m=\u001b[39;49mprogress_bar_type,\n\u001b[1;32m   2009\u001b[0m     bqstorage_client\u001b[39m=\u001b[39;49mbqstorage_client,\n\u001b[1;32m   2010\u001b[0m     create_bqstorage_client\u001b[39m=\u001b[39;49mcreate_bqstorage_client,\n\u001b[1;32m   2011\u001b[0m )\n\u001b[1;32m   2013\u001b[0m \u001b[39m# When converting date or timestamp values to nanosecond precision, the result\u001b[39;00m\n\u001b[1;32m   2014\u001b[0m \u001b[39m# can be out of pyarrow bounds. To avoid the error when converting to\u001b[39;00m\n\u001b[1;32m   2015\u001b[0m \u001b[39m# Pandas, we set the date_as_object or timestamp_as_object parameter to True,\u001b[39;00m\n\u001b[1;32m   2016\u001b[0m \u001b[39m# if necessary.\u001b[39;00m\n\u001b[1;32m   2017\u001b[0m date_as_object \u001b[39m=\u001b[39m \u001b[39mnot\u001b[39;00m \u001b[39mall\u001b[39m(\n\u001b[1;32m   2018\u001b[0m     \u001b[39mself\u001b[39m\u001b[39m.\u001b[39m__can_cast_timestamp_ns(col)\n\u001b[1;32m   2019\u001b[0m     \u001b[39mfor\u001b[39;00m col \u001b[39min\u001b[39;00m record_batch\n\u001b[0;32m   (...)\u001b[0m\n\u001b[1;32m   2022\u001b[0m     \u001b[39mif\u001b[39;00m \u001b[39mstr\u001b[39m(col\u001b[39m.\u001b[39mtype)\u001b[39m.\u001b[39mstartswith(\u001b[39m\"\u001b[39m\u001b[39mdate\u001b[39m\u001b[39m\"\u001b[39m)\n\u001b[1;32m   2023\u001b[0m )\n",
      "File \u001b[0;32m~/.pyenv/versions/3.10.9/envs/cashing-scoring-env/lib/python3.10/site-packages/google/cloud/bigquery/table.py:1810\u001b[0m, in \u001b[0;36mRowIterator.to_arrow\u001b[0;34m(self, progress_bar_type, bqstorage_client, create_bqstorage_client)\u001b[0m\n\u001b[1;32m   1805\u001b[0m progress_bar \u001b[39m=\u001b[39m get_progress_bar(\n\u001b[1;32m   1806\u001b[0m     progress_bar_type, \u001b[39m\"\u001b[39m\u001b[39mDownloading\u001b[39m\u001b[39m\"\u001b[39m, \u001b[39mself\u001b[39m\u001b[39m.\u001b[39mtotal_rows, \u001b[39m\"\u001b[39m\u001b[39mrows\u001b[39m\u001b[39m\"\u001b[39m\n\u001b[1;32m   1807\u001b[0m )\n\u001b[1;32m   1809\u001b[0m record_batches \u001b[39m=\u001b[39m []\n\u001b[0;32m-> 1810\u001b[0m \u001b[39mfor\u001b[39;00m record_batch \u001b[39min\u001b[39;00m \u001b[39mself\u001b[39m\u001b[39m.\u001b[39mto_arrow_iterable(\n\u001b[1;32m   1811\u001b[0m     bqstorage_client\u001b[39m=\u001b[39mbqstorage_client\n\u001b[1;32m   1812\u001b[0m ):\n\u001b[1;32m   1813\u001b[0m     record_batches\u001b[39m.\u001b[39mappend(record_batch)\n\u001b[1;32m   1815\u001b[0m     \u001b[39mif\u001b[39;00m progress_bar \u001b[39mis\u001b[39;00m \u001b[39mnot\u001b[39;00m \u001b[39mNone\u001b[39;00m:\n\u001b[1;32m   1816\u001b[0m         \u001b[39m# In some cases, the number of total rows is not populated\u001b[39;00m\n\u001b[1;32m   1817\u001b[0m         \u001b[39m# until the first page of rows is fetched. Update the\u001b[39;00m\n\u001b[1;32m   1818\u001b[0m         \u001b[39m# progress bar's total to keep an accurate count.\u001b[39;00m\n",
      "File \u001b[0;32m~/.pyenv/versions/3.10.9/envs/cashing-scoring-env/lib/python3.10/site-packages/google/cloud/bigquery/table.py:1673\u001b[0m, in \u001b[0;36mRowIterator._to_page_iterable\u001b[0;34m(self, bqstorage_download, tabledata_list_download, bqstorage_client)\u001b[0m\n\u001b[1;32m   1666\u001b[0m     bqstorage_client \u001b[39m=\u001b[39m \u001b[39mNone\u001b[39;00m\n\u001b[1;32m   1668\u001b[0m result_pages \u001b[39m=\u001b[39m (\n\u001b[1;32m   1669\u001b[0m     bqstorage_download()\n\u001b[1;32m   1670\u001b[0m     \u001b[39mif\u001b[39;00m bqstorage_client \u001b[39mis\u001b[39;00m \u001b[39mnot\u001b[39;00m \u001b[39mNone\u001b[39;00m\n\u001b[1;32m   1671\u001b[0m     \u001b[39melse\u001b[39;00m tabledata_list_download()\n\u001b[1;32m   1672\u001b[0m )\n\u001b[0;32m-> 1673\u001b[0m \u001b[39myield from\u001b[39;00m result_pages\n",
      "File \u001b[0;32m~/.pyenv/versions/3.10.9/envs/cashing-scoring-env/lib/python3.10/site-packages/google/cloud/bigquery/_pandas_helpers.py:731\u001b[0m, in \u001b[0;36mdownload_arrow_row_iterator\u001b[0;34m(pages, bq_schema)\u001b[0m\n\u001b[1;32m    728\u001b[0m column_names \u001b[39m=\u001b[39m bq_to_arrow_schema(bq_schema) \u001b[39mor\u001b[39;00m [field\u001b[39m.\u001b[39mname \u001b[39mfor\u001b[39;00m field \u001b[39min\u001b[39;00m bq_schema]\n\u001b[1;32m    729\u001b[0m arrow_types \u001b[39m=\u001b[39m [bq_to_arrow_data_type(field) \u001b[39mfor\u001b[39;00m field \u001b[39min\u001b[39;00m bq_schema]\n\u001b[0;32m--> 731\u001b[0m \u001b[39mfor\u001b[39;00m page \u001b[39min\u001b[39;00m pages:\n\u001b[1;32m    732\u001b[0m     \u001b[39myield\u001b[39;00m _row_iterator_page_to_arrow(page, column_names, arrow_types)\n",
      "File \u001b[0;32m~/.pyenv/versions/3.10.9/envs/cashing-scoring-env/lib/python3.10/site-packages/google/api_core/page_iterator.py:250\u001b[0m, in \u001b[0;36mIterator._page_iter\u001b[0;34m(self, increment)\u001b[0m\n\u001b[1;32m    248\u001b[0m     \u001b[39mself\u001b[39m\u001b[39m.\u001b[39mnum_results \u001b[39m+\u001b[39m\u001b[39m=\u001b[39m page\u001b[39m.\u001b[39mnum_items\n\u001b[1;32m    249\u001b[0m \u001b[39myield\u001b[39;00m page\n\u001b[0;32m--> 250\u001b[0m page \u001b[39m=\u001b[39m \u001b[39mself\u001b[39;49m\u001b[39m.\u001b[39;49m_next_page()\n",
      "File \u001b[0;32m~/.pyenv/versions/3.10.9/envs/cashing-scoring-env/lib/python3.10/site-packages/google/api_core/page_iterator.py:373\u001b[0m, in \u001b[0;36mHTTPIterator._next_page\u001b[0;34m(self)\u001b[0m\n\u001b[1;32m    366\u001b[0m \u001b[39m\u001b[39m\u001b[39m\"\"\"Get the next page in the iterator.\u001b[39;00m\n\u001b[1;32m    367\u001b[0m \n\u001b[1;32m    368\u001b[0m \u001b[39mReturns:\u001b[39;00m\n\u001b[1;32m    369\u001b[0m \u001b[39m    Optional[Page]: The next page in the iterator or :data:`None` if\u001b[39;00m\n\u001b[1;32m    370\u001b[0m \u001b[39m        there are no pages left.\u001b[39;00m\n\u001b[1;32m    371\u001b[0m \u001b[39m\"\"\"\u001b[39;00m\n\u001b[1;32m    372\u001b[0m \u001b[39mif\u001b[39;00m \u001b[39mself\u001b[39m\u001b[39m.\u001b[39m_has_next_page():\n\u001b[0;32m--> 373\u001b[0m     response \u001b[39m=\u001b[39m \u001b[39mself\u001b[39;49m\u001b[39m.\u001b[39;49m_get_next_page_response()\n\u001b[1;32m    374\u001b[0m     items \u001b[39m=\u001b[39m response\u001b[39m.\u001b[39mget(\u001b[39mself\u001b[39m\u001b[39m.\u001b[39m_items_key, ())\n\u001b[1;32m    375\u001b[0m     page \u001b[39m=\u001b[39m Page(\u001b[39mself\u001b[39m, items, \u001b[39mself\u001b[39m\u001b[39m.\u001b[39mitem_to_value, raw_page\u001b[39m=\u001b[39mresponse)\n",
      "File \u001b[0;32m~/.pyenv/versions/3.10.9/envs/cashing-scoring-env/lib/python3.10/site-packages/google/cloud/bigquery/table.py:1627\u001b[0m, in \u001b[0;36mRowIterator._get_next_page_response\u001b[0;34m(self)\u001b[0m\n\u001b[1;32m   1625\u001b[0m         \u001b[39mdel\u001b[39;00m params[\u001b[39m\"\u001b[39m\u001b[39mstartIndex\u001b[39m\u001b[39m\"\u001b[39m]\n\u001b[1;32m   1626\u001b[0m     params[\u001b[39m\"\u001b[39m\u001b[39mmaxResults\u001b[39m\u001b[39m\"\u001b[39m] \u001b[39m=\u001b[39m \u001b[39mself\u001b[39m\u001b[39m.\u001b[39m_page_size\n\u001b[0;32m-> 1627\u001b[0m \u001b[39mreturn\u001b[39;00m \u001b[39mself\u001b[39;49m\u001b[39m.\u001b[39;49mapi_request(\n\u001b[1;32m   1628\u001b[0m     method\u001b[39m=\u001b[39;49m\u001b[39mself\u001b[39;49m\u001b[39m.\u001b[39;49m_HTTP_METHOD, path\u001b[39m=\u001b[39;49m\u001b[39mself\u001b[39;49m\u001b[39m.\u001b[39;49mpath, query_params\u001b[39m=\u001b[39;49mparams\n\u001b[1;32m   1629\u001b[0m )\n",
      "File \u001b[0;32m~/.pyenv/versions/3.10.9/envs/cashing-scoring-env/lib/python3.10/site-packages/google/cloud/bigquery/client.py:791\u001b[0m, in \u001b[0;36mClient._call_api\u001b[0;34m(self, retry, span_name, span_attributes, job_ref, headers, **kwargs)\u001b[0m\n\u001b[1;32m    786\u001b[0m     \u001b[39mwith\u001b[39;00m create_span(\n\u001b[1;32m    787\u001b[0m         name\u001b[39m=\u001b[39mspan_name, attributes\u001b[39m=\u001b[39mspan_attributes, client\u001b[39m=\u001b[39m\u001b[39mself\u001b[39m, job_ref\u001b[39m=\u001b[39mjob_ref\n\u001b[1;32m    788\u001b[0m     ):\n\u001b[1;32m    789\u001b[0m         \u001b[39mreturn\u001b[39;00m call()\n\u001b[0;32m--> 791\u001b[0m \u001b[39mreturn\u001b[39;00m call()\n",
      "File \u001b[0;32m~/.pyenv/versions/3.10.9/envs/cashing-scoring-env/lib/python3.10/site-packages/google/api_core/retry.py:349\u001b[0m, in \u001b[0;36mRetry.__call__.<locals>.retry_wrapped_func\u001b[0;34m(*args, **kwargs)\u001b[0m\n\u001b[1;32m    345\u001b[0m target \u001b[39m=\u001b[39m functools\u001b[39m.\u001b[39mpartial(func, \u001b[39m*\u001b[39margs, \u001b[39m*\u001b[39m\u001b[39m*\u001b[39mkwargs)\n\u001b[1;32m    346\u001b[0m sleep_generator \u001b[39m=\u001b[39m exponential_sleep_generator(\n\u001b[1;32m    347\u001b[0m     \u001b[39mself\u001b[39m\u001b[39m.\u001b[39m_initial, \u001b[39mself\u001b[39m\u001b[39m.\u001b[39m_maximum, multiplier\u001b[39m=\u001b[39m\u001b[39mself\u001b[39m\u001b[39m.\u001b[39m_multiplier\n\u001b[1;32m    348\u001b[0m )\n\u001b[0;32m--> 349\u001b[0m \u001b[39mreturn\u001b[39;00m retry_target(\n\u001b[1;32m    350\u001b[0m     target,\n\u001b[1;32m    351\u001b[0m     \u001b[39mself\u001b[39;49m\u001b[39m.\u001b[39;49m_predicate,\n\u001b[1;32m    352\u001b[0m     sleep_generator,\n\u001b[1;32m    353\u001b[0m     \u001b[39mself\u001b[39;49m\u001b[39m.\u001b[39;49m_timeout,\n\u001b[1;32m    354\u001b[0m     on_error\u001b[39m=\u001b[39;49mon_error,\n\u001b[1;32m    355\u001b[0m )\n",
      "File \u001b[0;32m~/.pyenv/versions/3.10.9/envs/cashing-scoring-env/lib/python3.10/site-packages/google/api_core/retry.py:191\u001b[0m, in \u001b[0;36mretry_target\u001b[0;34m(target, predicate, sleep_generator, timeout, on_error, **kwargs)\u001b[0m\n\u001b[1;32m    189\u001b[0m \u001b[39mfor\u001b[39;00m sleep \u001b[39min\u001b[39;00m sleep_generator:\n\u001b[1;32m    190\u001b[0m     \u001b[39mtry\u001b[39;00m:\n\u001b[0;32m--> 191\u001b[0m         \u001b[39mreturn\u001b[39;00m target()\n\u001b[1;32m    193\u001b[0m     \u001b[39m# pylint: disable=broad-except\u001b[39;00m\n\u001b[1;32m    194\u001b[0m     \u001b[39m# This function explicitly must deal with broad exceptions.\u001b[39;00m\n\u001b[1;32m    195\u001b[0m     \u001b[39mexcept\u001b[39;00m \u001b[39mException\u001b[39;00m \u001b[39mas\u001b[39;00m exc:\n",
      "File \u001b[0;32m~/.pyenv/versions/3.10.9/envs/cashing-scoring-env/lib/python3.10/site-packages/google/cloud/_http/__init__.py:482\u001b[0m, in \u001b[0;36mJSONConnection.api_request\u001b[0;34m(self, method, path, query_params, data, content_type, headers, api_base_url, api_version, expect_json, _target_object, timeout, extra_api_info)\u001b[0m\n\u001b[1;32m    479\u001b[0m     data \u001b[39m=\u001b[39m json\u001b[39m.\u001b[39mdumps(data)\n\u001b[1;32m    480\u001b[0m     content_type \u001b[39m=\u001b[39m \u001b[39m\"\u001b[39m\u001b[39mapplication/json\u001b[39m\u001b[39m\"\u001b[39m\n\u001b[0;32m--> 482\u001b[0m response \u001b[39m=\u001b[39m \u001b[39mself\u001b[39;49m\u001b[39m.\u001b[39;49m_make_request(\n\u001b[1;32m    483\u001b[0m     method\u001b[39m=\u001b[39;49mmethod,\n\u001b[1;32m    484\u001b[0m     url\u001b[39m=\u001b[39;49murl,\n\u001b[1;32m    485\u001b[0m     data\u001b[39m=\u001b[39;49mdata,\n\u001b[1;32m    486\u001b[0m     content_type\u001b[39m=\u001b[39;49mcontent_type,\n\u001b[1;32m    487\u001b[0m     headers\u001b[39m=\u001b[39;49mheaders,\n\u001b[1;32m    488\u001b[0m     target_object\u001b[39m=\u001b[39;49m_target_object,\n\u001b[1;32m    489\u001b[0m     timeout\u001b[39m=\u001b[39;49mtimeout,\n\u001b[1;32m    490\u001b[0m     extra_api_info\u001b[39m=\u001b[39;49mextra_api_info,\n\u001b[1;32m    491\u001b[0m )\n\u001b[1;32m    493\u001b[0m \u001b[39mif\u001b[39;00m \u001b[39mnot\u001b[39;00m \u001b[39m200\u001b[39m \u001b[39m<\u001b[39m\u001b[39m=\u001b[39m response\u001b[39m.\u001b[39mstatus_code \u001b[39m<\u001b[39m \u001b[39m300\u001b[39m:\n\u001b[1;32m    494\u001b[0m     \u001b[39mraise\u001b[39;00m exceptions\u001b[39m.\u001b[39mfrom_http_response(response)\n",
      "File \u001b[0;32m~/.pyenv/versions/3.10.9/envs/cashing-scoring-env/lib/python3.10/site-packages/google/cloud/_http/__init__.py:341\u001b[0m, in \u001b[0;36mJSONConnection._make_request\u001b[0;34m(self, method, url, data, content_type, headers, target_object, timeout, extra_api_info)\u001b[0m\n\u001b[1;32m    338\u001b[0m     headers[CLIENT_INFO_HEADER] \u001b[39m=\u001b[39m \u001b[39mself\u001b[39m\u001b[39m.\u001b[39muser_agent\n\u001b[1;32m    339\u001b[0m headers[\u001b[39m\"\u001b[39m\u001b[39mUser-Agent\u001b[39m\u001b[39m\"\u001b[39m] \u001b[39m=\u001b[39m \u001b[39mself\u001b[39m\u001b[39m.\u001b[39muser_agent\n\u001b[0;32m--> 341\u001b[0m \u001b[39mreturn\u001b[39;00m \u001b[39mself\u001b[39;49m\u001b[39m.\u001b[39;49m_do_request(\n\u001b[1;32m    342\u001b[0m     method, url, headers, data, target_object, timeout\u001b[39m=\u001b[39;49mtimeout\n\u001b[1;32m    343\u001b[0m )\n",
      "File \u001b[0;32m~/.pyenv/versions/3.10.9/envs/cashing-scoring-env/lib/python3.10/site-packages/google/cloud/_http/__init__.py:379\u001b[0m, in \u001b[0;36mJSONConnection._do_request\u001b[0;34m(self, method, url, headers, data, target_object, timeout)\u001b[0m\n\u001b[1;32m    345\u001b[0m \u001b[39mdef\u001b[39;00m \u001b[39m_do_request\u001b[39m(\n\u001b[1;32m    346\u001b[0m     \u001b[39mself\u001b[39m, method, url, headers, data, target_object, timeout\u001b[39m=\u001b[39m_DEFAULT_TIMEOUT\n\u001b[1;32m    347\u001b[0m ):  \u001b[39m# pylint: disable=unused-argument\u001b[39;00m\n\u001b[1;32m    348\u001b[0m \u001b[39m    \u001b[39m\u001b[39m\"\"\"Low-level helper:  perform the actual API request over HTTP.\u001b[39;00m\n\u001b[1;32m    349\u001b[0m \n\u001b[1;32m    350\u001b[0m \u001b[39m    Allows batch context managers to override and defer a request.\u001b[39;00m\n\u001b[0;32m   (...)\u001b[0m\n\u001b[1;32m    377\u001b[0m \u001b[39m    :returns: The HTTP response.\u001b[39;00m\n\u001b[1;32m    378\u001b[0m \u001b[39m    \"\"\"\u001b[39;00m\n\u001b[0;32m--> 379\u001b[0m     \u001b[39mreturn\u001b[39;00m \u001b[39mself\u001b[39;49m\u001b[39m.\u001b[39;49mhttp\u001b[39m.\u001b[39;49mrequest(\n\u001b[1;32m    380\u001b[0m         url\u001b[39m=\u001b[39;49murl, method\u001b[39m=\u001b[39;49mmethod, headers\u001b[39m=\u001b[39;49mheaders, data\u001b[39m=\u001b[39;49mdata, timeout\u001b[39m=\u001b[39;49mtimeout\n\u001b[1;32m    381\u001b[0m     )\n",
      "File \u001b[0;32m~/.pyenv/versions/3.10.9/envs/cashing-scoring-env/lib/python3.10/site-packages/google/auth/transport/requests.py:549\u001b[0m, in \u001b[0;36mAuthorizedSession.request\u001b[0;34m(self, method, url, data, headers, max_allowed_time, timeout, **kwargs)\u001b[0m\n\u001b[1;32m    546\u001b[0m remaining_time \u001b[39m=\u001b[39m guard\u001b[39m.\u001b[39mremaining_timeout\n\u001b[1;32m    548\u001b[0m \u001b[39mwith\u001b[39;00m TimeoutGuard(remaining_time) \u001b[39mas\u001b[39;00m guard:\n\u001b[0;32m--> 549\u001b[0m     response \u001b[39m=\u001b[39m \u001b[39msuper\u001b[39;49m(AuthorizedSession, \u001b[39mself\u001b[39;49m)\u001b[39m.\u001b[39;49mrequest(\n\u001b[1;32m    550\u001b[0m         method,\n\u001b[1;32m    551\u001b[0m         url,\n\u001b[1;32m    552\u001b[0m         data\u001b[39m=\u001b[39;49mdata,\n\u001b[1;32m    553\u001b[0m         headers\u001b[39m=\u001b[39;49mrequest_headers,\n\u001b[1;32m    554\u001b[0m         timeout\u001b[39m=\u001b[39;49mtimeout,\n\u001b[1;32m    555\u001b[0m         \u001b[39m*\u001b[39;49m\u001b[39m*\u001b[39;49mkwargs\n\u001b[1;32m    556\u001b[0m     )\n\u001b[1;32m    557\u001b[0m remaining_time \u001b[39m=\u001b[39m guard\u001b[39m.\u001b[39mremaining_timeout\n\u001b[1;32m    559\u001b[0m \u001b[39m# If the response indicated that the credentials needed to be\u001b[39;00m\n\u001b[1;32m    560\u001b[0m \u001b[39m# refreshed, then refresh the credentials and re-attempt the\u001b[39;00m\n\u001b[1;32m    561\u001b[0m \u001b[39m# request.\u001b[39;00m\n\u001b[1;32m    562\u001b[0m \u001b[39m# A stored token may expire between the time it is retrieved and\u001b[39;00m\n\u001b[1;32m    563\u001b[0m \u001b[39m# the time the request is made, so we may need to try twice.\u001b[39;00m\n",
      "File \u001b[0;32m~/.pyenv/versions/3.10.9/envs/cashing-scoring-env/lib/python3.10/site-packages/requests/sessions.py:587\u001b[0m, in \u001b[0;36mSession.request\u001b[0;34m(self, method, url, params, data, headers, cookies, files, auth, timeout, allow_redirects, proxies, hooks, stream, verify, cert, json)\u001b[0m\n\u001b[1;32m    582\u001b[0m send_kwargs \u001b[39m=\u001b[39m {\n\u001b[1;32m    583\u001b[0m     \u001b[39m\"\u001b[39m\u001b[39mtimeout\u001b[39m\u001b[39m\"\u001b[39m: timeout,\n\u001b[1;32m    584\u001b[0m     \u001b[39m\"\u001b[39m\u001b[39mallow_redirects\u001b[39m\u001b[39m\"\u001b[39m: allow_redirects,\n\u001b[1;32m    585\u001b[0m }\n\u001b[1;32m    586\u001b[0m send_kwargs\u001b[39m.\u001b[39mupdate(settings)\n\u001b[0;32m--> 587\u001b[0m resp \u001b[39m=\u001b[39m \u001b[39mself\u001b[39;49m\u001b[39m.\u001b[39;49msend(prep, \u001b[39m*\u001b[39;49m\u001b[39m*\u001b[39;49msend_kwargs)\n\u001b[1;32m    589\u001b[0m \u001b[39mreturn\u001b[39;00m resp\n",
      "File \u001b[0;32m~/.pyenv/versions/3.10.9/envs/cashing-scoring-env/lib/python3.10/site-packages/requests/sessions.py:701\u001b[0m, in \u001b[0;36mSession.send\u001b[0;34m(self, request, **kwargs)\u001b[0m\n\u001b[1;32m    698\u001b[0m start \u001b[39m=\u001b[39m preferred_clock()\n\u001b[1;32m    700\u001b[0m \u001b[39m# Send the request\u001b[39;00m\n\u001b[0;32m--> 701\u001b[0m r \u001b[39m=\u001b[39m adapter\u001b[39m.\u001b[39;49msend(request, \u001b[39m*\u001b[39;49m\u001b[39m*\u001b[39;49mkwargs)\n\u001b[1;32m    703\u001b[0m \u001b[39m# Total elapsed time of the request (approximately)\u001b[39;00m\n\u001b[1;32m    704\u001b[0m elapsed \u001b[39m=\u001b[39m preferred_clock() \u001b[39m-\u001b[39m start\n",
      "File \u001b[0;32m~/.pyenv/versions/3.10.9/envs/cashing-scoring-env/lib/python3.10/site-packages/requests/adapters.py:489\u001b[0m, in \u001b[0;36mHTTPAdapter.send\u001b[0;34m(self, request, stream, timeout, verify, cert, proxies)\u001b[0m\n\u001b[1;32m    487\u001b[0m \u001b[39mtry\u001b[39;00m:\n\u001b[1;32m    488\u001b[0m     \u001b[39mif\u001b[39;00m \u001b[39mnot\u001b[39;00m chunked:\n\u001b[0;32m--> 489\u001b[0m         resp \u001b[39m=\u001b[39m conn\u001b[39m.\u001b[39;49murlopen(\n\u001b[1;32m    490\u001b[0m             method\u001b[39m=\u001b[39;49mrequest\u001b[39m.\u001b[39;49mmethod,\n\u001b[1;32m    491\u001b[0m             url\u001b[39m=\u001b[39;49murl,\n\u001b[1;32m    492\u001b[0m             body\u001b[39m=\u001b[39;49mrequest\u001b[39m.\u001b[39;49mbody,\n\u001b[1;32m    493\u001b[0m             headers\u001b[39m=\u001b[39;49mrequest\u001b[39m.\u001b[39;49mheaders,\n\u001b[1;32m    494\u001b[0m             redirect\u001b[39m=\u001b[39;49m\u001b[39mFalse\u001b[39;49;00m,\n\u001b[1;32m    495\u001b[0m             assert_same_host\u001b[39m=\u001b[39;49m\u001b[39mFalse\u001b[39;49;00m,\n\u001b[1;32m    496\u001b[0m             preload_content\u001b[39m=\u001b[39;49m\u001b[39mFalse\u001b[39;49;00m,\n\u001b[1;32m    497\u001b[0m             decode_content\u001b[39m=\u001b[39;49m\u001b[39mFalse\u001b[39;49;00m,\n\u001b[1;32m    498\u001b[0m             retries\u001b[39m=\u001b[39;49m\u001b[39mself\u001b[39;49m\u001b[39m.\u001b[39;49mmax_retries,\n\u001b[1;32m    499\u001b[0m             timeout\u001b[39m=\u001b[39;49mtimeout,\n\u001b[1;32m    500\u001b[0m         )\n\u001b[1;32m    502\u001b[0m     \u001b[39m# Send the request.\u001b[39;00m\n\u001b[1;32m    503\u001b[0m     \u001b[39melse\u001b[39;00m:\n\u001b[1;32m    504\u001b[0m         \u001b[39mif\u001b[39;00m \u001b[39mhasattr\u001b[39m(conn, \u001b[39m\"\u001b[39m\u001b[39mproxy_pool\u001b[39m\u001b[39m\"\u001b[39m):\n",
      "File \u001b[0;32m~/.pyenv/versions/3.10.9/envs/cashing-scoring-env/lib/python3.10/site-packages/urllib3/connectionpool.py:703\u001b[0m, in \u001b[0;36mHTTPConnectionPool.urlopen\u001b[0;34m(self, method, url, body, headers, retries, redirect, assert_same_host, timeout, pool_timeout, release_conn, chunked, body_pos, **response_kw)\u001b[0m\n\u001b[1;32m    700\u001b[0m     \u001b[39mself\u001b[39m\u001b[39m.\u001b[39m_prepare_proxy(conn)\n\u001b[1;32m    702\u001b[0m \u001b[39m# Make the request on the httplib connection object.\u001b[39;00m\n\u001b[0;32m--> 703\u001b[0m httplib_response \u001b[39m=\u001b[39m \u001b[39mself\u001b[39;49m\u001b[39m.\u001b[39;49m_make_request(\n\u001b[1;32m    704\u001b[0m     conn,\n\u001b[1;32m    705\u001b[0m     method,\n\u001b[1;32m    706\u001b[0m     url,\n\u001b[1;32m    707\u001b[0m     timeout\u001b[39m=\u001b[39;49mtimeout_obj,\n\u001b[1;32m    708\u001b[0m     body\u001b[39m=\u001b[39;49mbody,\n\u001b[1;32m    709\u001b[0m     headers\u001b[39m=\u001b[39;49mheaders,\n\u001b[1;32m    710\u001b[0m     chunked\u001b[39m=\u001b[39;49mchunked,\n\u001b[1;32m    711\u001b[0m )\n\u001b[1;32m    713\u001b[0m \u001b[39m# If we're going to release the connection in ``finally:``, then\u001b[39;00m\n\u001b[1;32m    714\u001b[0m \u001b[39m# the response doesn't need to know about the connection. Otherwise\u001b[39;00m\n\u001b[1;32m    715\u001b[0m \u001b[39m# it will also try to release it and we'll have a double-release\u001b[39;00m\n\u001b[1;32m    716\u001b[0m \u001b[39m# mess.\u001b[39;00m\n\u001b[1;32m    717\u001b[0m response_conn \u001b[39m=\u001b[39m conn \u001b[39mif\u001b[39;00m \u001b[39mnot\u001b[39;00m release_conn \u001b[39melse\u001b[39;00m \u001b[39mNone\u001b[39;00m\n",
      "File \u001b[0;32m~/.pyenv/versions/3.10.9/envs/cashing-scoring-env/lib/python3.10/site-packages/urllib3/connectionpool.py:449\u001b[0m, in \u001b[0;36mHTTPConnectionPool._make_request\u001b[0;34m(self, conn, method, url, timeout, chunked, **httplib_request_kw)\u001b[0m\n\u001b[1;32m    444\u001b[0m             httplib_response \u001b[39m=\u001b[39m conn\u001b[39m.\u001b[39mgetresponse()\n\u001b[1;32m    445\u001b[0m         \u001b[39mexcept\u001b[39;00m \u001b[39mBaseException\u001b[39;00m \u001b[39mas\u001b[39;00m e:\n\u001b[1;32m    446\u001b[0m             \u001b[39m# Remove the TypeError from the exception chain in\u001b[39;00m\n\u001b[1;32m    447\u001b[0m             \u001b[39m# Python 3 (including for exceptions like SystemExit).\u001b[39;00m\n\u001b[1;32m    448\u001b[0m             \u001b[39m# Otherwise it looks like a bug in the code.\u001b[39;00m\n\u001b[0;32m--> 449\u001b[0m             six\u001b[39m.\u001b[39;49mraise_from(e, \u001b[39mNone\u001b[39;49;00m)\n\u001b[1;32m    450\u001b[0m \u001b[39mexcept\u001b[39;00m (SocketTimeout, BaseSSLError, SocketError) \u001b[39mas\u001b[39;00m e:\n\u001b[1;32m    451\u001b[0m     \u001b[39mself\u001b[39m\u001b[39m.\u001b[39m_raise_timeout(err\u001b[39m=\u001b[39me, url\u001b[39m=\u001b[39murl, timeout_value\u001b[39m=\u001b[39mread_timeout)\n",
      "File \u001b[0;32m<string>:3\u001b[0m, in \u001b[0;36mraise_from\u001b[0;34m(value, from_value)\u001b[0m\n",
      "File \u001b[0;32m~/.pyenv/versions/3.10.9/envs/cashing-scoring-env/lib/python3.10/site-packages/urllib3/connectionpool.py:444\u001b[0m, in \u001b[0;36mHTTPConnectionPool._make_request\u001b[0;34m(self, conn, method, url, timeout, chunked, **httplib_request_kw)\u001b[0m\n\u001b[1;32m    441\u001b[0m \u001b[39mexcept\u001b[39;00m \u001b[39mTypeError\u001b[39;00m:\n\u001b[1;32m    442\u001b[0m     \u001b[39m# Python 3\u001b[39;00m\n\u001b[1;32m    443\u001b[0m     \u001b[39mtry\u001b[39;00m:\n\u001b[0;32m--> 444\u001b[0m         httplib_response \u001b[39m=\u001b[39m conn\u001b[39m.\u001b[39;49mgetresponse()\n\u001b[1;32m    445\u001b[0m     \u001b[39mexcept\u001b[39;00m \u001b[39mBaseException\u001b[39;00m \u001b[39mas\u001b[39;00m e:\n\u001b[1;32m    446\u001b[0m         \u001b[39m# Remove the TypeError from the exception chain in\u001b[39;00m\n\u001b[1;32m    447\u001b[0m         \u001b[39m# Python 3 (including for exceptions like SystemExit).\u001b[39;00m\n\u001b[1;32m    448\u001b[0m         \u001b[39m# Otherwise it looks like a bug in the code.\u001b[39;00m\n\u001b[1;32m    449\u001b[0m         six\u001b[39m.\u001b[39mraise_from(e, \u001b[39mNone\u001b[39;00m)\n",
      "File \u001b[0;32m~/.pyenv/versions/3.10.9/lib/python3.10/http/client.py:1374\u001b[0m, in \u001b[0;36mHTTPConnection.getresponse\u001b[0;34m(self)\u001b[0m\n\u001b[1;32m   1372\u001b[0m \u001b[39mtry\u001b[39;00m:\n\u001b[1;32m   1373\u001b[0m     \u001b[39mtry\u001b[39;00m:\n\u001b[0;32m-> 1374\u001b[0m         response\u001b[39m.\u001b[39;49mbegin()\n\u001b[1;32m   1375\u001b[0m     \u001b[39mexcept\u001b[39;00m \u001b[39mConnectionError\u001b[39;00m:\n\u001b[1;32m   1376\u001b[0m         \u001b[39mself\u001b[39m\u001b[39m.\u001b[39mclose()\n",
      "File \u001b[0;32m~/.pyenv/versions/3.10.9/lib/python3.10/http/client.py:318\u001b[0m, in \u001b[0;36mHTTPResponse.begin\u001b[0;34m(self)\u001b[0m\n\u001b[1;32m    316\u001b[0m \u001b[39m# read until we get a non-100 response\u001b[39;00m\n\u001b[1;32m    317\u001b[0m \u001b[39mwhile\u001b[39;00m \u001b[39mTrue\u001b[39;00m:\n\u001b[0;32m--> 318\u001b[0m     version, status, reason \u001b[39m=\u001b[39m \u001b[39mself\u001b[39;49m\u001b[39m.\u001b[39;49m_read_status()\n\u001b[1;32m    319\u001b[0m     \u001b[39mif\u001b[39;00m status \u001b[39m!=\u001b[39m CONTINUE:\n\u001b[1;32m    320\u001b[0m         \u001b[39mbreak\u001b[39;00m\n",
      "File \u001b[0;32m~/.pyenv/versions/3.10.9/lib/python3.10/http/client.py:279\u001b[0m, in \u001b[0;36mHTTPResponse._read_status\u001b[0;34m(self)\u001b[0m\n\u001b[1;32m    278\u001b[0m \u001b[39mdef\u001b[39;00m \u001b[39m_read_status\u001b[39m(\u001b[39mself\u001b[39m):\n\u001b[0;32m--> 279\u001b[0m     line \u001b[39m=\u001b[39m \u001b[39mstr\u001b[39m(\u001b[39mself\u001b[39;49m\u001b[39m.\u001b[39;49mfp\u001b[39m.\u001b[39;49mreadline(_MAXLINE \u001b[39m+\u001b[39;49m \u001b[39m1\u001b[39;49m), \u001b[39m\"\u001b[39m\u001b[39miso-8859-1\u001b[39m\u001b[39m\"\u001b[39m)\n\u001b[1;32m    280\u001b[0m     \u001b[39mif\u001b[39;00m \u001b[39mlen\u001b[39m(line) \u001b[39m>\u001b[39m _MAXLINE:\n\u001b[1;32m    281\u001b[0m         \u001b[39mraise\u001b[39;00m LineTooLong(\u001b[39m\"\u001b[39m\u001b[39mstatus line\u001b[39m\u001b[39m\"\u001b[39m)\n",
      "File \u001b[0;32m~/.pyenv/versions/3.10.9/lib/python3.10/socket.py:705\u001b[0m, in \u001b[0;36mSocketIO.readinto\u001b[0;34m(self, b)\u001b[0m\n\u001b[1;32m    703\u001b[0m \u001b[39mwhile\u001b[39;00m \u001b[39mTrue\u001b[39;00m:\n\u001b[1;32m    704\u001b[0m     \u001b[39mtry\u001b[39;00m:\n\u001b[0;32m--> 705\u001b[0m         \u001b[39mreturn\u001b[39;00m \u001b[39mself\u001b[39;49m\u001b[39m.\u001b[39;49m_sock\u001b[39m.\u001b[39;49mrecv_into(b)\n\u001b[1;32m    706\u001b[0m     \u001b[39mexcept\u001b[39;00m timeout:\n\u001b[1;32m    707\u001b[0m         \u001b[39mself\u001b[39m\u001b[39m.\u001b[39m_timeout_occurred \u001b[39m=\u001b[39m \u001b[39mTrue\u001b[39;00m\n",
      "File \u001b[0;32m~/.pyenv/versions/3.10.9/lib/python3.10/ssl.py:1274\u001b[0m, in \u001b[0;36mSSLSocket.recv_into\u001b[0;34m(self, buffer, nbytes, flags)\u001b[0m\n\u001b[1;32m   1270\u001b[0m     \u001b[39mif\u001b[39;00m flags \u001b[39m!=\u001b[39m \u001b[39m0\u001b[39m:\n\u001b[1;32m   1271\u001b[0m         \u001b[39mraise\u001b[39;00m \u001b[39mValueError\u001b[39;00m(\n\u001b[1;32m   1272\u001b[0m           \u001b[39m\"\u001b[39m\u001b[39mnon-zero flags not allowed in calls to recv_into() on \u001b[39m\u001b[39m%s\u001b[39;00m\u001b[39m\"\u001b[39m \u001b[39m%\u001b[39m\n\u001b[1;32m   1273\u001b[0m           \u001b[39mself\u001b[39m\u001b[39m.\u001b[39m\u001b[39m__class__\u001b[39m)\n\u001b[0;32m-> 1274\u001b[0m     \u001b[39mreturn\u001b[39;00m \u001b[39mself\u001b[39;49m\u001b[39m.\u001b[39;49mread(nbytes, buffer)\n\u001b[1;32m   1275\u001b[0m \u001b[39melse\u001b[39;00m:\n\u001b[1;32m   1276\u001b[0m     \u001b[39mreturn\u001b[39;00m \u001b[39msuper\u001b[39m()\u001b[39m.\u001b[39mrecv_into(buffer, nbytes, flags)\n",
      "File \u001b[0;32m~/.pyenv/versions/3.10.9/lib/python3.10/ssl.py:1130\u001b[0m, in \u001b[0;36mSSLSocket.read\u001b[0;34m(self, len, buffer)\u001b[0m\n\u001b[1;32m   1128\u001b[0m \u001b[39mtry\u001b[39;00m:\n\u001b[1;32m   1129\u001b[0m     \u001b[39mif\u001b[39;00m buffer \u001b[39mis\u001b[39;00m \u001b[39mnot\u001b[39;00m \u001b[39mNone\u001b[39;00m:\n\u001b[0;32m-> 1130\u001b[0m         \u001b[39mreturn\u001b[39;00m \u001b[39mself\u001b[39;49m\u001b[39m.\u001b[39;49m_sslobj\u001b[39m.\u001b[39;49mread(\u001b[39mlen\u001b[39;49m, buffer)\n\u001b[1;32m   1131\u001b[0m     \u001b[39melse\u001b[39;00m:\n\u001b[1;32m   1132\u001b[0m         \u001b[39mreturn\u001b[39;00m \u001b[39mself\u001b[39m\u001b[39m.\u001b[39m_sslobj\u001b[39m.\u001b[39mread(\u001b[39mlen\u001b[39m)\n",
      "\u001b[0;31mKeyboardInterrupt\u001b[0m: "
     ]
    }
   ],
   "source": [
    "# user query data taring + relationship catalog level data\n",
    "# date = 2024-01-01 - 2024-01-07\n",
    "filepath_2 = \"./datasets/piano_data_1_24_1.parquet\"\n",
    "if not os.path.isfile(filepath_2):\n",
    "\n",
    "    query = \"\"\"\n",
    "    SELECT visit_date, visit_id,ISE_KEYWORD, product_id as productCode,\n",
    "    SUM(IF(event_name = 'product.display', 1, 0)) as nbDisplays,\n",
    "    SUM(IF(event_name = 'product.click', 1, 0)) as NbClicks\n",
    "    FROM `dfdp-customer-experience-prod.PianoAnalytics_BU001.events`\n",
    "    WHERE VISIT_DATE between \"2024-01-01\" and  \"2024-01-07\"\n",
    "    AND event_name IN ('product.display', 'product.click')\n",
    "    AND ise_keyword IS NOT NULL\n",
    "    GROUP BY 1, 2, 3, 4\n",
    "    \"\"\"\n",
    "\n",
    "    dl_data = pd.read_gbq(query=query, project_id=\"ccdp-transverse-data-dev\")\n",
    "    dl_data.to_parquet(filepath_2)\n",
    "\n",
    "df_piano_1 = pd.read_parquet(filepath_2)"
   ]
  },
  {
   "cell_type": "code",
   "execution_count": null,
   "metadata": {},
   "outputs": [],
   "source": [
    "df_piano_1['VISIT_DATE'].min()"
   ]
  },
  {
   "cell_type": "code",
   "execution_count": null,
   "metadata": {},
   "outputs": [],
   "source": [
    "df_piano_1['VISIT_DATE'].max()"
   ]
  },
  {
   "cell_type": "code",
   "execution_count": 12,
   "metadata": {},
   "outputs": [
    {
     "ename": "KeyboardInterrupt",
     "evalue": "",
     "output_type": "error",
     "traceback": [
      "\u001b[0;31m---------------------------------------------------------------------------\u001b[0m",
      "\u001b[0;31mKeyboardInterrupt\u001b[0m                         Traceback (most recent call last)",
      "Cell \u001b[0;32mIn[12], line 13\u001b[0m\n\u001b[1;32m      1\u001b[0m \u001b[39m# user query data taring + relationship catalog level data\u001b[39;00m\n\u001b[1;32m      2\u001b[0m \u001b[39m# date = 2024-01-08 - 2024-01-14\u001b[39;00m\n\u001b[1;32m      3\u001b[0m query \u001b[39m=\u001b[39m \u001b[39m\"\"\"\u001b[39m\n\u001b[1;32m      4\u001b[0m \u001b[39m    SELECT visit_date, visit_id,ISE_KEYWORD, product_id as productCode,\u001b[39m\n\u001b[1;32m      5\u001b[0m \u001b[39m    SUM(IF(event_name = \u001b[39m\u001b[39m'\u001b[39m\u001b[39mproduct.display\u001b[39m\u001b[39m'\u001b[39m\u001b[39m, 1, 0)) as nbDisplays,\u001b[39m\n\u001b[0;32m   (...)\u001b[0m\n\u001b[1;32m     11\u001b[0m \u001b[39m    GROUP BY 1, 2, 3, 4\u001b[39m\n\u001b[1;32m     12\u001b[0m \u001b[39m    \u001b[39m\u001b[39m\"\"\"\u001b[39m\n\u001b[0;32m---> 13\u001b[0m df_piano_2 \u001b[39m=\u001b[39m pd\u001b[39m.\u001b[39;49mread_gbq(query\u001b[39m=\u001b[39;49mquery, project_id\u001b[39m=\u001b[39;49m\u001b[39m\"\u001b[39;49m\u001b[39mccdp-transverse-data-dev\u001b[39;49m\u001b[39m\"\u001b[39;49m)\n",
      "File \u001b[0;32m~/.pyenv/versions/3.10.9/envs/cashing-scoring-env/lib/python3.10/site-packages/pandas/io/gbq.py:189\u001b[0m, in \u001b[0;36mread_gbq\u001b[0;34m(query, project_id, index_col, col_order, reauth, auth_local_webserver, dialect, location, configuration, credentials, use_bqstorage_api, max_results, progress_bar_type)\u001b[0m\n\u001b[1;32m    186\u001b[0m kwargs[\u001b[39m\"\u001b[39m\u001b[39mprogress_bar_type\u001b[39m\u001b[39m\"\u001b[39m] \u001b[39m=\u001b[39m progress_bar_type\n\u001b[1;32m    187\u001b[0m \u001b[39m# END: new kwargs\u001b[39;00m\n\u001b[0;32m--> 189\u001b[0m \u001b[39mreturn\u001b[39;00m pandas_gbq\u001b[39m.\u001b[39;49mread_gbq(\n\u001b[1;32m    190\u001b[0m     query,\n\u001b[1;32m    191\u001b[0m     project_id\u001b[39m=\u001b[39;49mproject_id,\n\u001b[1;32m    192\u001b[0m     index_col\u001b[39m=\u001b[39;49mindex_col,\n\u001b[1;32m    193\u001b[0m     col_order\u001b[39m=\u001b[39;49mcol_order,\n\u001b[1;32m    194\u001b[0m     reauth\u001b[39m=\u001b[39;49mreauth,\n\u001b[1;32m    195\u001b[0m     auth_local_webserver\u001b[39m=\u001b[39;49mauth_local_webserver,\n\u001b[1;32m    196\u001b[0m     dialect\u001b[39m=\u001b[39;49mdialect,\n\u001b[1;32m    197\u001b[0m     location\u001b[39m=\u001b[39;49mlocation,\n\u001b[1;32m    198\u001b[0m     configuration\u001b[39m=\u001b[39;49mconfiguration,\n\u001b[1;32m    199\u001b[0m     credentials\u001b[39m=\u001b[39;49mcredentials,\n\u001b[1;32m    200\u001b[0m     \u001b[39m*\u001b[39;49m\u001b[39m*\u001b[39;49mkwargs,\n\u001b[1;32m    201\u001b[0m )\n",
      "File \u001b[0;32m~/.pyenv/versions/3.10.9/envs/cashing-scoring-env/lib/python3.10/site-packages/pandas_gbq/gbq.py:943\u001b[0m, in \u001b[0;36mread_gbq\u001b[0;34m(query_or_table, project_id, index_col, col_order, reauth, auth_local_webserver, dialect, location, configuration, credentials, use_bqstorage_api, max_results, verbose, private_key, progress_bar_type, dtypes, auth_redirect_uri, client_id, client_secret)\u001b[0m\n\u001b[1;32m    928\u001b[0m connector \u001b[39m=\u001b[39m GbqConnector(\n\u001b[1;32m    929\u001b[0m     project_id,\n\u001b[1;32m    930\u001b[0m     reauth\u001b[39m=\u001b[39mreauth,\n\u001b[0;32m   (...)\u001b[0m\n\u001b[1;32m    939\u001b[0m     client_secret\u001b[39m=\u001b[39mclient_secret,\n\u001b[1;32m    940\u001b[0m )\n\u001b[1;32m    942\u001b[0m \u001b[39mif\u001b[39;00m _is_query(query_or_table):\n\u001b[0;32m--> 943\u001b[0m     final_df \u001b[39m=\u001b[39m connector\u001b[39m.\u001b[39;49mrun_query(\n\u001b[1;32m    944\u001b[0m         query_or_table,\n\u001b[1;32m    945\u001b[0m         configuration\u001b[39m=\u001b[39;49mconfiguration,\n\u001b[1;32m    946\u001b[0m         max_results\u001b[39m=\u001b[39;49mmax_results,\n\u001b[1;32m    947\u001b[0m         progress_bar_type\u001b[39m=\u001b[39;49mprogress_bar_type,\n\u001b[1;32m    948\u001b[0m         dtypes\u001b[39m=\u001b[39;49mdtypes,\n\u001b[1;32m    949\u001b[0m     )\n\u001b[1;32m    950\u001b[0m \u001b[39melse\u001b[39;00m:\n\u001b[1;32m    951\u001b[0m     final_df \u001b[39m=\u001b[39m connector\u001b[39m.\u001b[39mdownload_table(\n\u001b[1;32m    952\u001b[0m         query_or_table,\n\u001b[1;32m    953\u001b[0m         max_results\u001b[39m=\u001b[39mmax_results,\n\u001b[1;32m    954\u001b[0m         progress_bar_type\u001b[39m=\u001b[39mprogress_bar_type,\n\u001b[1;32m    955\u001b[0m         dtypes\u001b[39m=\u001b[39mdtypes,\n\u001b[1;32m    956\u001b[0m     )\n",
      "File \u001b[0;32m~/.pyenv/versions/3.10.9/envs/cashing-scoring-env/lib/python3.10/site-packages/pandas_gbq/gbq.py:539\u001b[0m, in \u001b[0;36mGbqConnector.run_query\u001b[0;34m(self, query, max_results, progress_bar_type, **kwargs)\u001b[0m\n\u001b[1;32m    534\u001b[0m     \u001b[39mreturn\u001b[39;00m pandas\u001b[39m.\u001b[39mDataFrame()\n\u001b[1;32m    536\u001b[0m rows_iter \u001b[39m=\u001b[39m \u001b[39mself\u001b[39m\u001b[39m.\u001b[39mclient\u001b[39m.\u001b[39mlist_rows(\n\u001b[1;32m    537\u001b[0m     query_reply\u001b[39m.\u001b[39mdestination, max_results\u001b[39m=\u001b[39mmax_results\n\u001b[1;32m    538\u001b[0m )\n\u001b[0;32m--> 539\u001b[0m \u001b[39mreturn\u001b[39;00m \u001b[39mself\u001b[39;49m\u001b[39m.\u001b[39;49m_download_results(\n\u001b[1;32m    540\u001b[0m     rows_iter,\n\u001b[1;32m    541\u001b[0m     max_results\u001b[39m=\u001b[39;49mmax_results,\n\u001b[1;32m    542\u001b[0m     progress_bar_type\u001b[39m=\u001b[39;49mprogress_bar_type,\n\u001b[1;32m    543\u001b[0m     user_dtypes\u001b[39m=\u001b[39;49mdtypes,\n\u001b[1;32m    544\u001b[0m )\n",
      "File \u001b[0;32m~/.pyenv/versions/3.10.9/envs/cashing-scoring-env/lib/python3.10/site-packages/pandas_gbq/gbq.py:572\u001b[0m, in \u001b[0;36mGbqConnector._download_results\u001b[0;34m(self, rows_iter, max_results, progress_bar_type, user_dtypes)\u001b[0m\n\u001b[1;32m    570\u001b[0m     conversion_dtypes \u001b[39m=\u001b[39m _bqschema_to_nullsafe_dtypes(schema_fields)\n\u001b[1;32m    571\u001b[0m     conversion_dtypes\u001b[39m.\u001b[39mupdate(user_dtypes)\n\u001b[0;32m--> 572\u001b[0m     df \u001b[39m=\u001b[39m rows_iter\u001b[39m.\u001b[39;49mto_dataframe(\n\u001b[1;32m    573\u001b[0m         dtypes\u001b[39m=\u001b[39;49mconversion_dtypes,\n\u001b[1;32m    574\u001b[0m         progress_bar_type\u001b[39m=\u001b[39;49mprogress_bar_type,\n\u001b[1;32m    575\u001b[0m         create_bqstorage_client\u001b[39m=\u001b[39;49mcreate_bqstorage_client,\n\u001b[1;32m    576\u001b[0m         \u001b[39m*\u001b[39;49m\u001b[39m*\u001b[39;49mto_dataframe_kwargs,\n\u001b[1;32m    577\u001b[0m     )\n\u001b[1;32m    578\u001b[0m \u001b[39mexcept\u001b[39;00m \u001b[39mself\u001b[39m\u001b[39m.\u001b[39mhttp_error \u001b[39mas\u001b[39;00m ex:\n\u001b[1;32m    579\u001b[0m     \u001b[39mself\u001b[39m\u001b[39m.\u001b[39mprocess_http_error(ex)\n",
      "File \u001b[0;32m~/.pyenv/versions/3.10.9/envs/cashing-scoring-env/lib/python3.10/site-packages/google/cloud/bigquery/table.py:2007\u001b[0m, in \u001b[0;36mRowIterator.to_dataframe\u001b[0;34m(self, bqstorage_client, dtypes, progress_bar_type, create_bqstorage_client, geography_as_object)\u001b[0m\n\u001b[1;32m   2004\u001b[0m     create_bqstorage_client \u001b[39m=\u001b[39m \u001b[39mFalse\u001b[39;00m\n\u001b[1;32m   2005\u001b[0m     bqstorage_client \u001b[39m=\u001b[39m \u001b[39mNone\u001b[39;00m\n\u001b[0;32m-> 2007\u001b[0m record_batch \u001b[39m=\u001b[39m \u001b[39mself\u001b[39;49m\u001b[39m.\u001b[39;49mto_arrow(\n\u001b[1;32m   2008\u001b[0m     progress_bar_type\u001b[39m=\u001b[39;49mprogress_bar_type,\n\u001b[1;32m   2009\u001b[0m     bqstorage_client\u001b[39m=\u001b[39;49mbqstorage_client,\n\u001b[1;32m   2010\u001b[0m     create_bqstorage_client\u001b[39m=\u001b[39;49mcreate_bqstorage_client,\n\u001b[1;32m   2011\u001b[0m )\n\u001b[1;32m   2013\u001b[0m \u001b[39m# When converting date or timestamp values to nanosecond precision, the result\u001b[39;00m\n\u001b[1;32m   2014\u001b[0m \u001b[39m# can be out of pyarrow bounds. To avoid the error when converting to\u001b[39;00m\n\u001b[1;32m   2015\u001b[0m \u001b[39m# Pandas, we set the date_as_object or timestamp_as_object parameter to True,\u001b[39;00m\n\u001b[1;32m   2016\u001b[0m \u001b[39m# if necessary.\u001b[39;00m\n\u001b[1;32m   2017\u001b[0m date_as_object \u001b[39m=\u001b[39m \u001b[39mnot\u001b[39;00m \u001b[39mall\u001b[39m(\n\u001b[1;32m   2018\u001b[0m     \u001b[39mself\u001b[39m\u001b[39m.\u001b[39m__can_cast_timestamp_ns(col)\n\u001b[1;32m   2019\u001b[0m     \u001b[39mfor\u001b[39;00m col \u001b[39min\u001b[39;00m record_batch\n\u001b[0;32m   (...)\u001b[0m\n\u001b[1;32m   2022\u001b[0m     \u001b[39mif\u001b[39;00m \u001b[39mstr\u001b[39m(col\u001b[39m.\u001b[39mtype)\u001b[39m.\u001b[39mstartswith(\u001b[39m\"\u001b[39m\u001b[39mdate\u001b[39m\u001b[39m\"\u001b[39m)\n\u001b[1;32m   2023\u001b[0m )\n",
      "File \u001b[0;32m~/.pyenv/versions/3.10.9/envs/cashing-scoring-env/lib/python3.10/site-packages/google/cloud/bigquery/table.py:1810\u001b[0m, in \u001b[0;36mRowIterator.to_arrow\u001b[0;34m(self, progress_bar_type, bqstorage_client, create_bqstorage_client)\u001b[0m\n\u001b[1;32m   1805\u001b[0m progress_bar \u001b[39m=\u001b[39m get_progress_bar(\n\u001b[1;32m   1806\u001b[0m     progress_bar_type, \u001b[39m\"\u001b[39m\u001b[39mDownloading\u001b[39m\u001b[39m\"\u001b[39m, \u001b[39mself\u001b[39m\u001b[39m.\u001b[39mtotal_rows, \u001b[39m\"\u001b[39m\u001b[39mrows\u001b[39m\u001b[39m\"\u001b[39m\n\u001b[1;32m   1807\u001b[0m )\n\u001b[1;32m   1809\u001b[0m record_batches \u001b[39m=\u001b[39m []\n\u001b[0;32m-> 1810\u001b[0m \u001b[39mfor\u001b[39;00m record_batch \u001b[39min\u001b[39;00m \u001b[39mself\u001b[39m\u001b[39m.\u001b[39mto_arrow_iterable(\n\u001b[1;32m   1811\u001b[0m     bqstorage_client\u001b[39m=\u001b[39mbqstorage_client\n\u001b[1;32m   1812\u001b[0m ):\n\u001b[1;32m   1813\u001b[0m     record_batches\u001b[39m.\u001b[39mappend(record_batch)\n\u001b[1;32m   1815\u001b[0m     \u001b[39mif\u001b[39;00m progress_bar \u001b[39mis\u001b[39;00m \u001b[39mnot\u001b[39;00m \u001b[39mNone\u001b[39;00m:\n\u001b[1;32m   1816\u001b[0m         \u001b[39m# In some cases, the number of total rows is not populated\u001b[39;00m\n\u001b[1;32m   1817\u001b[0m         \u001b[39m# until the first page of rows is fetched. Update the\u001b[39;00m\n\u001b[1;32m   1818\u001b[0m         \u001b[39m# progress bar's total to keep an accurate count.\u001b[39;00m\n",
      "File \u001b[0;32m~/.pyenv/versions/3.10.9/envs/cashing-scoring-env/lib/python3.10/site-packages/google/cloud/bigquery/table.py:1673\u001b[0m, in \u001b[0;36mRowIterator._to_page_iterable\u001b[0;34m(self, bqstorage_download, tabledata_list_download, bqstorage_client)\u001b[0m\n\u001b[1;32m   1666\u001b[0m     bqstorage_client \u001b[39m=\u001b[39m \u001b[39mNone\u001b[39;00m\n\u001b[1;32m   1668\u001b[0m result_pages \u001b[39m=\u001b[39m (\n\u001b[1;32m   1669\u001b[0m     bqstorage_download()\n\u001b[1;32m   1670\u001b[0m     \u001b[39mif\u001b[39;00m bqstorage_client \u001b[39mis\u001b[39;00m \u001b[39mnot\u001b[39;00m \u001b[39mNone\u001b[39;00m\n\u001b[1;32m   1671\u001b[0m     \u001b[39melse\u001b[39;00m tabledata_list_download()\n\u001b[1;32m   1672\u001b[0m )\n\u001b[0;32m-> 1673\u001b[0m \u001b[39myield from\u001b[39;00m result_pages\n",
      "File \u001b[0;32m~/.pyenv/versions/3.10.9/envs/cashing-scoring-env/lib/python3.10/site-packages/google/cloud/bigquery/_pandas_helpers.py:731\u001b[0m, in \u001b[0;36mdownload_arrow_row_iterator\u001b[0;34m(pages, bq_schema)\u001b[0m\n\u001b[1;32m    728\u001b[0m column_names \u001b[39m=\u001b[39m bq_to_arrow_schema(bq_schema) \u001b[39mor\u001b[39;00m [field\u001b[39m.\u001b[39mname \u001b[39mfor\u001b[39;00m field \u001b[39min\u001b[39;00m bq_schema]\n\u001b[1;32m    729\u001b[0m arrow_types \u001b[39m=\u001b[39m [bq_to_arrow_data_type(field) \u001b[39mfor\u001b[39;00m field \u001b[39min\u001b[39;00m bq_schema]\n\u001b[0;32m--> 731\u001b[0m \u001b[39mfor\u001b[39;00m page \u001b[39min\u001b[39;00m pages:\n\u001b[1;32m    732\u001b[0m     \u001b[39myield\u001b[39;00m _row_iterator_page_to_arrow(page, column_names, arrow_types)\n",
      "File \u001b[0;32m~/.pyenv/versions/3.10.9/envs/cashing-scoring-env/lib/python3.10/site-packages/google/api_core/page_iterator.py:250\u001b[0m, in \u001b[0;36mIterator._page_iter\u001b[0;34m(self, increment)\u001b[0m\n\u001b[1;32m    248\u001b[0m     \u001b[39mself\u001b[39m\u001b[39m.\u001b[39mnum_results \u001b[39m+\u001b[39m\u001b[39m=\u001b[39m page\u001b[39m.\u001b[39mnum_items\n\u001b[1;32m    249\u001b[0m \u001b[39myield\u001b[39;00m page\n\u001b[0;32m--> 250\u001b[0m page \u001b[39m=\u001b[39m \u001b[39mself\u001b[39;49m\u001b[39m.\u001b[39;49m_next_page()\n",
      "File \u001b[0;32m~/.pyenv/versions/3.10.9/envs/cashing-scoring-env/lib/python3.10/site-packages/google/api_core/page_iterator.py:373\u001b[0m, in \u001b[0;36mHTTPIterator._next_page\u001b[0;34m(self)\u001b[0m\n\u001b[1;32m    366\u001b[0m \u001b[39m\u001b[39m\u001b[39m\"\"\"Get the next page in the iterator.\u001b[39;00m\n\u001b[1;32m    367\u001b[0m \n\u001b[1;32m    368\u001b[0m \u001b[39mReturns:\u001b[39;00m\n\u001b[1;32m    369\u001b[0m \u001b[39m    Optional[Page]: The next page in the iterator or :data:`None` if\u001b[39;00m\n\u001b[1;32m    370\u001b[0m \u001b[39m        there are no pages left.\u001b[39;00m\n\u001b[1;32m    371\u001b[0m \u001b[39m\"\"\"\u001b[39;00m\n\u001b[1;32m    372\u001b[0m \u001b[39mif\u001b[39;00m \u001b[39mself\u001b[39m\u001b[39m.\u001b[39m_has_next_page():\n\u001b[0;32m--> 373\u001b[0m     response \u001b[39m=\u001b[39m \u001b[39mself\u001b[39;49m\u001b[39m.\u001b[39;49m_get_next_page_response()\n\u001b[1;32m    374\u001b[0m     items \u001b[39m=\u001b[39m response\u001b[39m.\u001b[39mget(\u001b[39mself\u001b[39m\u001b[39m.\u001b[39m_items_key, ())\n\u001b[1;32m    375\u001b[0m     page \u001b[39m=\u001b[39m Page(\u001b[39mself\u001b[39m, items, \u001b[39mself\u001b[39m\u001b[39m.\u001b[39mitem_to_value, raw_page\u001b[39m=\u001b[39mresponse)\n",
      "File \u001b[0;32m~/.pyenv/versions/3.10.9/envs/cashing-scoring-env/lib/python3.10/site-packages/google/cloud/bigquery/table.py:1627\u001b[0m, in \u001b[0;36mRowIterator._get_next_page_response\u001b[0;34m(self)\u001b[0m\n\u001b[1;32m   1625\u001b[0m         \u001b[39mdel\u001b[39;00m params[\u001b[39m\"\u001b[39m\u001b[39mstartIndex\u001b[39m\u001b[39m\"\u001b[39m]\n\u001b[1;32m   1626\u001b[0m     params[\u001b[39m\"\u001b[39m\u001b[39mmaxResults\u001b[39m\u001b[39m\"\u001b[39m] \u001b[39m=\u001b[39m \u001b[39mself\u001b[39m\u001b[39m.\u001b[39m_page_size\n\u001b[0;32m-> 1627\u001b[0m \u001b[39mreturn\u001b[39;00m \u001b[39mself\u001b[39;49m\u001b[39m.\u001b[39;49mapi_request(\n\u001b[1;32m   1628\u001b[0m     method\u001b[39m=\u001b[39;49m\u001b[39mself\u001b[39;49m\u001b[39m.\u001b[39;49m_HTTP_METHOD, path\u001b[39m=\u001b[39;49m\u001b[39mself\u001b[39;49m\u001b[39m.\u001b[39;49mpath, query_params\u001b[39m=\u001b[39;49mparams\n\u001b[1;32m   1629\u001b[0m )\n",
      "File \u001b[0;32m~/.pyenv/versions/3.10.9/envs/cashing-scoring-env/lib/python3.10/site-packages/google/cloud/bigquery/client.py:791\u001b[0m, in \u001b[0;36mClient._call_api\u001b[0;34m(self, retry, span_name, span_attributes, job_ref, headers, **kwargs)\u001b[0m\n\u001b[1;32m    786\u001b[0m     \u001b[39mwith\u001b[39;00m create_span(\n\u001b[1;32m    787\u001b[0m         name\u001b[39m=\u001b[39mspan_name, attributes\u001b[39m=\u001b[39mspan_attributes, client\u001b[39m=\u001b[39m\u001b[39mself\u001b[39m, job_ref\u001b[39m=\u001b[39mjob_ref\n\u001b[1;32m    788\u001b[0m     ):\n\u001b[1;32m    789\u001b[0m         \u001b[39mreturn\u001b[39;00m call()\n\u001b[0;32m--> 791\u001b[0m \u001b[39mreturn\u001b[39;00m call()\n",
      "File \u001b[0;32m~/.pyenv/versions/3.10.9/envs/cashing-scoring-env/lib/python3.10/site-packages/google/api_core/retry.py:349\u001b[0m, in \u001b[0;36mRetry.__call__.<locals>.retry_wrapped_func\u001b[0;34m(*args, **kwargs)\u001b[0m\n\u001b[1;32m    345\u001b[0m target \u001b[39m=\u001b[39m functools\u001b[39m.\u001b[39mpartial(func, \u001b[39m*\u001b[39margs, \u001b[39m*\u001b[39m\u001b[39m*\u001b[39mkwargs)\n\u001b[1;32m    346\u001b[0m sleep_generator \u001b[39m=\u001b[39m exponential_sleep_generator(\n\u001b[1;32m    347\u001b[0m     \u001b[39mself\u001b[39m\u001b[39m.\u001b[39m_initial, \u001b[39mself\u001b[39m\u001b[39m.\u001b[39m_maximum, multiplier\u001b[39m=\u001b[39m\u001b[39mself\u001b[39m\u001b[39m.\u001b[39m_multiplier\n\u001b[1;32m    348\u001b[0m )\n\u001b[0;32m--> 349\u001b[0m \u001b[39mreturn\u001b[39;00m retry_target(\n\u001b[1;32m    350\u001b[0m     target,\n\u001b[1;32m    351\u001b[0m     \u001b[39mself\u001b[39;49m\u001b[39m.\u001b[39;49m_predicate,\n\u001b[1;32m    352\u001b[0m     sleep_generator,\n\u001b[1;32m    353\u001b[0m     \u001b[39mself\u001b[39;49m\u001b[39m.\u001b[39;49m_timeout,\n\u001b[1;32m    354\u001b[0m     on_error\u001b[39m=\u001b[39;49mon_error,\n\u001b[1;32m    355\u001b[0m )\n",
      "File \u001b[0;32m~/.pyenv/versions/3.10.9/envs/cashing-scoring-env/lib/python3.10/site-packages/google/api_core/retry.py:191\u001b[0m, in \u001b[0;36mretry_target\u001b[0;34m(target, predicate, sleep_generator, timeout, on_error, **kwargs)\u001b[0m\n\u001b[1;32m    189\u001b[0m \u001b[39mfor\u001b[39;00m sleep \u001b[39min\u001b[39;00m sleep_generator:\n\u001b[1;32m    190\u001b[0m     \u001b[39mtry\u001b[39;00m:\n\u001b[0;32m--> 191\u001b[0m         \u001b[39mreturn\u001b[39;00m target()\n\u001b[1;32m    193\u001b[0m     \u001b[39m# pylint: disable=broad-except\u001b[39;00m\n\u001b[1;32m    194\u001b[0m     \u001b[39m# This function explicitly must deal with broad exceptions.\u001b[39;00m\n\u001b[1;32m    195\u001b[0m     \u001b[39mexcept\u001b[39;00m \u001b[39mException\u001b[39;00m \u001b[39mas\u001b[39;00m exc:\n",
      "File \u001b[0;32m~/.pyenv/versions/3.10.9/envs/cashing-scoring-env/lib/python3.10/site-packages/google/cloud/_http/__init__.py:497\u001b[0m, in \u001b[0;36mJSONConnection.api_request\u001b[0;34m(self, method, path, query_params, data, content_type, headers, api_base_url, api_version, expect_json, _target_object, timeout, extra_api_info)\u001b[0m\n\u001b[1;32m    494\u001b[0m     \u001b[39mraise\u001b[39;00m exceptions\u001b[39m.\u001b[39mfrom_http_response(response)\n\u001b[1;32m    496\u001b[0m \u001b[39mif\u001b[39;00m expect_json \u001b[39mand\u001b[39;00m response\u001b[39m.\u001b[39mcontent:\n\u001b[0;32m--> 497\u001b[0m     \u001b[39mreturn\u001b[39;00m response\u001b[39m.\u001b[39;49mjson()\n\u001b[1;32m    498\u001b[0m \u001b[39melse\u001b[39;00m:\n\u001b[1;32m    499\u001b[0m     \u001b[39mreturn\u001b[39;00m response\u001b[39m.\u001b[39mcontent\n",
      "File \u001b[0;32m~/.pyenv/versions/3.10.9/envs/cashing-scoring-env/lib/python3.10/site-packages/requests/models.py:971\u001b[0m, in \u001b[0;36mResponse.json\u001b[0;34m(self, **kwargs)\u001b[0m\n\u001b[1;32m    968\u001b[0m             \u001b[39mraise\u001b[39;00m RequestsJSONDecodeError(e\u001b[39m.\u001b[39mmsg, e\u001b[39m.\u001b[39mdoc, e\u001b[39m.\u001b[39mpos)\n\u001b[1;32m    970\u001b[0m \u001b[39mtry\u001b[39;00m:\n\u001b[0;32m--> 971\u001b[0m     \u001b[39mreturn\u001b[39;00m complexjson\u001b[39m.\u001b[39;49mloads(\u001b[39mself\u001b[39;49m\u001b[39m.\u001b[39;49mtext, \u001b[39m*\u001b[39;49m\u001b[39m*\u001b[39;49mkwargs)\n\u001b[1;32m    972\u001b[0m \u001b[39mexcept\u001b[39;00m JSONDecodeError \u001b[39mas\u001b[39;00m e:\n\u001b[1;32m    973\u001b[0m     \u001b[39m# Catch JSON-related errors and raise as requests.JSONDecodeError\u001b[39;00m\n\u001b[1;32m    974\u001b[0m     \u001b[39m# This aliases json.JSONDecodeError and simplejson.JSONDecodeError\u001b[39;00m\n\u001b[1;32m    975\u001b[0m     \u001b[39mraise\u001b[39;00m RequestsJSONDecodeError(e\u001b[39m.\u001b[39mmsg, e\u001b[39m.\u001b[39mdoc, e\u001b[39m.\u001b[39mpos)\n",
      "File \u001b[0;32m~/.pyenv/versions/3.10.9/lib/python3.10/json/__init__.py:346\u001b[0m, in \u001b[0;36mloads\u001b[0;34m(s, cls, object_hook, parse_float, parse_int, parse_constant, object_pairs_hook, **kw)\u001b[0m\n\u001b[1;32m    341\u001b[0m     s \u001b[39m=\u001b[39m s\u001b[39m.\u001b[39mdecode(detect_encoding(s), \u001b[39m'\u001b[39m\u001b[39msurrogatepass\u001b[39m\u001b[39m'\u001b[39m)\n\u001b[1;32m    343\u001b[0m \u001b[39mif\u001b[39;00m (\u001b[39mcls\u001b[39m \u001b[39mis\u001b[39;00m \u001b[39mNone\u001b[39;00m \u001b[39mand\u001b[39;00m object_hook \u001b[39mis\u001b[39;00m \u001b[39mNone\u001b[39;00m \u001b[39mand\u001b[39;00m\n\u001b[1;32m    344\u001b[0m         parse_int \u001b[39mis\u001b[39;00m \u001b[39mNone\u001b[39;00m \u001b[39mand\u001b[39;00m parse_float \u001b[39mis\u001b[39;00m \u001b[39mNone\u001b[39;00m \u001b[39mand\u001b[39;00m\n\u001b[1;32m    345\u001b[0m         parse_constant \u001b[39mis\u001b[39;00m \u001b[39mNone\u001b[39;00m \u001b[39mand\u001b[39;00m object_pairs_hook \u001b[39mis\u001b[39;00m \u001b[39mNone\u001b[39;00m \u001b[39mand\u001b[39;00m \u001b[39mnot\u001b[39;00m kw):\n\u001b[0;32m--> 346\u001b[0m     \u001b[39mreturn\u001b[39;00m _default_decoder\u001b[39m.\u001b[39;49mdecode(s)\n\u001b[1;32m    347\u001b[0m \u001b[39mif\u001b[39;00m \u001b[39mcls\u001b[39m \u001b[39mis\u001b[39;00m \u001b[39mNone\u001b[39;00m:\n\u001b[1;32m    348\u001b[0m     \u001b[39mcls\u001b[39m \u001b[39m=\u001b[39m JSONDecoder\n",
      "File \u001b[0;32m~/.pyenv/versions/3.10.9/lib/python3.10/json/decoder.py:337\u001b[0m, in \u001b[0;36mJSONDecoder.decode\u001b[0;34m(self, s, _w)\u001b[0m\n\u001b[1;32m    332\u001b[0m \u001b[39mdef\u001b[39;00m \u001b[39mdecode\u001b[39m(\u001b[39mself\u001b[39m, s, _w\u001b[39m=\u001b[39mWHITESPACE\u001b[39m.\u001b[39mmatch):\n\u001b[1;32m    333\u001b[0m \u001b[39m    \u001b[39m\u001b[39m\"\"\"Return the Python representation of ``s`` (a ``str`` instance\u001b[39;00m\n\u001b[1;32m    334\u001b[0m \u001b[39m    containing a JSON document).\u001b[39;00m\n\u001b[1;32m    335\u001b[0m \n\u001b[1;32m    336\u001b[0m \u001b[39m    \"\"\"\u001b[39;00m\n\u001b[0;32m--> 337\u001b[0m     obj, end \u001b[39m=\u001b[39m \u001b[39mself\u001b[39;49m\u001b[39m.\u001b[39;49mraw_decode(s, idx\u001b[39m=\u001b[39;49m_w(s, \u001b[39m0\u001b[39;49m)\u001b[39m.\u001b[39;49mend())\n\u001b[1;32m    338\u001b[0m     end \u001b[39m=\u001b[39m _w(s, end)\u001b[39m.\u001b[39mend()\n\u001b[1;32m    339\u001b[0m     \u001b[39mif\u001b[39;00m end \u001b[39m!=\u001b[39m \u001b[39mlen\u001b[39m(s):\n",
      "File \u001b[0;32m~/.pyenv/versions/3.10.9/lib/python3.10/json/decoder.py:353\u001b[0m, in \u001b[0;36mJSONDecoder.raw_decode\u001b[0;34m(self, s, idx)\u001b[0m\n\u001b[1;32m    344\u001b[0m \u001b[39m\u001b[39m\u001b[39m\"\"\"Decode a JSON document from ``s`` (a ``str`` beginning with\u001b[39;00m\n\u001b[1;32m    345\u001b[0m \u001b[39ma JSON document) and return a 2-tuple of the Python\u001b[39;00m\n\u001b[1;32m    346\u001b[0m \u001b[39mrepresentation and the index in ``s`` where the document ended.\u001b[39;00m\n\u001b[0;32m   (...)\u001b[0m\n\u001b[1;32m    350\u001b[0m \n\u001b[1;32m    351\u001b[0m \u001b[39m\"\"\"\u001b[39;00m\n\u001b[1;32m    352\u001b[0m \u001b[39mtry\u001b[39;00m:\n\u001b[0;32m--> 353\u001b[0m     obj, end \u001b[39m=\u001b[39m \u001b[39mself\u001b[39;49m\u001b[39m.\u001b[39;49mscan_once(s, idx)\n\u001b[1;32m    354\u001b[0m \u001b[39mexcept\u001b[39;00m \u001b[39mStopIteration\u001b[39;00m \u001b[39mas\u001b[39;00m err:\n\u001b[1;32m    355\u001b[0m     \u001b[39mraise\u001b[39;00m JSONDecodeError(\u001b[39m\"\u001b[39m\u001b[39mExpecting value\u001b[39m\u001b[39m\"\u001b[39m, s, err\u001b[39m.\u001b[39mvalue) \u001b[39mfrom\u001b[39;00m \u001b[39mNone\u001b[39m\n",
      "\u001b[0;31mKeyboardInterrupt\u001b[0m: "
     ]
    }
   ],
   "source": [
    "# user query data taring + relationship catalog level data\n",
    "# date = 2024-01-08 - 2024-01-14\n",
    "query = \"\"\"\n",
    "    SELECT visit_date, visit_id,ISE_KEYWORD, product_id as productCode,\n",
    "    SUM(IF(event_name = 'product.display', 1, 0)) as nbDisplays,\n",
    "    SUM(IF(event_name = 'product.click', 1, 0)) as NbClicks\n",
    "    FROM `dfdp-customer-experience-prod.PianoAnalytics_BU001.events`\n",
    "    WHERE VISIT_DATE between \"2024-01-08\" and  \"2024-01-14\"\n",
    "    AND event_name IN ('product.display', 'product.click')\n",
    "    AND ise_keyword IS NOT NULL\n",
    "    GROUP BY 1, 2, 3, 4\n",
    "    \"\"\"\n",
    "df_piano_2 = pd.read_gbq(query=query, project_id=\"ccdp-transverse-data-dev\")"
   ]
  },
  {
   "cell_type": "code",
   "execution_count": null,
   "metadata": {},
   "outputs": [],
   "source": []
  },
  {
   "cell_type": "code",
   "execution_count": null,
   "metadata": {},
   "outputs": [],
   "source": [
    "# user query data taring + relationship catalog level data\n",
    "# date = 2024-01-08 - 2024-01-14\n",
    "filepath_3 = \"./datasets/piano_data_1_24_2.parquet\"\n",
    "if not os.path.isfile(filepath_3):\n",
    "\n",
    "    query = \"\"\"\n",
    "    SELECT visit_date, visit_id,ISE_KEYWORD, product_id as productCode,\n",
    "    SUM(IF(event_name = 'product.display', 1, 0)) as nbDisplays,\n",
    "    SUM(IF(event_name = 'product.click', 1, 0)) as NbClicks\n",
    "    FROM `dfdp-customer-experience-prod.PianoAnalytics_BU001.events`\n",
    "    WHERE VISIT_DATE between \"2024-01-08\" and  \"2024-01-14\"\n",
    "    AND event_name IN ('product.display', 'product.click')\n",
    "    AND ise_keyword IS NOT NULL\n",
    "    GROUP BY 1, 2, 3, 4\n",
    "    \"\"\"\n",
    "\n",
    "    dl_data = pd.read_gbq(query=query, project_id=\"ccdp-transverse-data-dev\")\n",
    "    dl_data.to_parquet(filepath_3)\n",
    "\n",
    "df_piano_2 = pd.read_parquet(filepath_3)\n",
    "df_piano_2['VISIT_DATE'].min()"
   ]
  },
  {
   "cell_type": "code",
   "execution_count": null,
   "metadata": {},
   "outputs": [],
   "source": [
    "df_piano_2['VISIT_DATE'].max()"
   ]
  },
  {
   "cell_type": "code",
   "execution_count": null,
   "metadata": {},
   "outputs": [],
   "source": [
    "# user query data taring + relationship catalog level data\n",
    "# date = 2024-01-15 - 2024-01-21\n",
    "filepath_4 = \"./datasets/piano_data_1_24_3.parquet\"\n",
    "if not os.path.isfile(filepath_4):\n",
    "\n",
    "    query = \"\"\"\n",
    "    SELECT visit_date, visit_id,ISE_KEYWORD, product_id as productCode,\n",
    "    SUM(IF(event_name = 'product.display', 1, 0)) as nbDisplays,\n",
    "    SUM(IF(event_name = 'product.click', 1, 0)) as NbClicks\n",
    "    FROM `dfdp-customer-experience-prod.PianoAnalytics_BU001.events`\n",
    "    WHERE VISIT_DATE between \"2024-01-15\" and  \"2024-01-21\"\n",
    "    AND event_name IN ('product.display', 'product.click')\n",
    "    AND ise_keyword IS NOT NULL\n",
    "    GROUP BY 1, 2, 3, 4\n",
    "    \"\"\"\n",
    "\n",
    "    dl_data = pd.read_gbq(query=query, project_id=\"ccdp-transverse-data-dev\")\n",
    "    dl_data.to_parquet(filepath_4)\n",
    "\n",
    "df_piano_3 = pd.read_parquet(filepath_4)\n",
    "df_piano_3['VISIT_DATE'].min()"
   ]
  },
  {
   "cell_type": "code",
   "execution_count": null,
   "metadata": {},
   "outputs": [],
   "source": [
    "df_piano_3['VISIT_DATE'].max()"
   ]
  },
  {
   "cell_type": "code",
   "execution_count": null,
   "metadata": {},
   "outputs": [],
   "source": [
    "# user query data taring + relationship catalog level data\n",
    "# date = 2024-01-22 - 2024-01-31\n",
    "filepath_5 = \"./datasets/piano_data_1_24_4.parquet\"\n",
    "if not os.path.isfile(filepath_5):\n",
    "\n",
    "    query = \"\"\"\n",
    "    SELECT visit_date, visit_id,ISE_KEYWORD, product_id as productCode,\n",
    "    SUM(IF(event_name = 'product.display', 1, 0)) as nbDisplays,\n",
    "    SUM(IF(event_name = 'product.click', 1, 0)) as NbClicks\n",
    "    FROM `dfdp-customer-experience-prod.PianoAnalytics_BU001.events`\n",
    "    WHERE VISIT_DATE between \"2024-01-22\" and  \"2024-01-31\"\n",
    "    AND event_name IN ('product.display', 'product.click')\n",
    "    AND ise_keyword IS NOT NULL\n",
    "    GROUP BY 1, 2, 3, 4\n",
    "    \"\"\"\n",
    "\n",
    "    dl_data = pd.read_gbq(query=query, project_id=\"ccdp-transverse-data-dev\")\n",
    "    dl_data.to_parquet(filepath_5)\n",
    "\n",
    "df_piano_4 = pd.read_parquet(filepath_5)\n",
    "df_piano_4['VISIT_DATE'].min()"
   ]
  },
  {
   "cell_type": "code",
   "execution_count": null,
   "metadata": {},
   "outputs": [],
   "source": [
    "df_piano_4['VISIT_DATE'].max()"
   ]
  },
  {
   "cell_type": "code",
   "execution_count": null,
   "metadata": {},
   "outputs": [],
   "source": [
    "#filepath_2 = \"./datasets/uq_concept_1_24.parquet\"\n",
    "#df_uq_r = pd.read_parquet(filepath_1)\n",
    "df_uq_r.head(3)"
   ]
  },
  {
   "cell_type": "code",
   "execution_count": null,
   "metadata": {},
   "outputs": [],
   "source": []
  },
  {
   "cell_type": "code",
   "execution_count": null,
   "metadata": {},
   "outputs": [],
   "source": []
  },
  {
   "cell_type": "code",
   "execution_count": null,
   "metadata": {},
   "outputs": [],
   "source": []
  },
  {
   "cell_type": "code",
   "execution_count": 27,
   "metadata": {},
   "outputs": [
    {
     "data": {
      "text/html": [
       "<div>\n",
       "<style scoped>\n",
       "    .dataframe tbody tr th:only-of-type {\n",
       "        vertical-align: middle;\n",
       "    }\n",
       "\n",
       "    .dataframe tbody tr th {\n",
       "        vertical-align: top;\n",
       "    }\n",
       "\n",
       "    .dataframe thead th {\n",
       "        text-align: right;\n",
       "    }\n",
       "</style>\n",
       "<table border=\"1\" class=\"dataframe\">\n",
       "  <thead>\n",
       "    <tr style=\"text-align: right;\">\n",
       "      <th></th>\n",
       "      <th>visit_date</th>\n",
       "      <th>visit_id</th>\n",
       "      <th>ISE_KEYWORD</th>\n",
       "      <th>productCode</th>\n",
       "      <th>nbDisplays</th>\n",
       "      <th>NbClicks</th>\n",
       "    </tr>\n",
       "  </thead>\n",
       "  <tbody>\n",
       "    <tr>\n",
       "      <th>0</th>\n",
       "      <td>2024-01-31</td>\n",
       "      <td>94C0314C90D253D684ECDF58F510E406</td>\n",
       "      <td>toile pour pergola en bois</td>\n",
       "      <td>86796966</td>\n",
       "      <td>1</td>\n",
       "      <td>0</td>\n",
       "    </tr>\n",
       "    <tr>\n",
       "      <th>1</th>\n",
       "      <td>2024-01-31</td>\n",
       "      <td>7946299E00955D3CA8608BAE81D0424F</td>\n",
       "      <td>carrelage salle de bain mural</td>\n",
       "      <td>82319156</td>\n",
       "      <td>1</td>\n",
       "      <td>0</td>\n",
       "    </tr>\n",
       "    <tr>\n",
       "      <th>2</th>\n",
       "      <td>2024-01-31</td>\n",
       "      <td>5ED42584A0D554DA843A84E44B44F768</td>\n",
       "      <td>tapis poils longs</td>\n",
       "      <td>86795673</td>\n",
       "      <td>1</td>\n",
       "      <td>0</td>\n",
       "    </tr>\n",
       "  </tbody>\n",
       "</table>\n",
       "</div>"
      ],
      "text/plain": [
       "   visit_date                          visit_id  \\\n",
       "0  2024-01-31  94C0314C90D253D684ECDF58F510E406   \n",
       "1  2024-01-31  7946299E00955D3CA8608BAE81D0424F   \n",
       "2  2024-01-31  5ED42584A0D554DA843A84E44B44F768   \n",
       "\n",
       "                     ISE_KEYWORD productCode  nbDisplays  NbClicks  \n",
       "0     toile pour pergola en bois    86796966           1         0  \n",
       "1  carrelage salle de bain mural    82319156           1         0  \n",
       "2              tapis poils longs    86795673           1         0  "
      ]
     },
     "execution_count": 27,
     "metadata": {},
     "output_type": "execute_result"
    }
   ],
   "source": [
    "#filepath_2 = \"./datasets/piano_data.parquet\"\n",
    "#df_piano = pd.read_parquet(filepath_2)\n",
    "df_piano.head(3)"
   ]
  },
  {
   "cell_type": "code",
   "execution_count": 28,
   "metadata": {},
   "outputs": [],
   "source": [
    "df_piano.columns = ['visit_date', 'visit_id', 'key_word', 'product_code', 'nb_display', 'nb_click']"
   ]
  },
  {
   "cell_type": "code",
   "execution_count": 29,
   "metadata": {},
   "outputs": [
    {
     "data": {
      "text/html": [
       "<div>\n",
       "<style scoped>\n",
       "    .dataframe tbody tr th:only-of-type {\n",
       "        vertical-align: middle;\n",
       "    }\n",
       "\n",
       "    .dataframe tbody tr th {\n",
       "        vertical-align: top;\n",
       "    }\n",
       "\n",
       "    .dataframe thead th {\n",
       "        text-align: right;\n",
       "    }\n",
       "</style>\n",
       "<table border=\"1\" class=\"dataframe\">\n",
       "  <thead>\n",
       "    <tr style=\"text-align: right;\">\n",
       "      <th></th>\n",
       "      <th>product_code</th>\n",
       "      <th>nb_display</th>\n",
       "      <th>nb_click</th>\n",
       "      <th>nb_visit</th>\n",
       "    </tr>\n",
       "  </thead>\n",
       "  <tbody>\n",
       "    <tr>\n",
       "      <th>0</th>\n",
       "      <td>10015831</td>\n",
       "      <td>3</td>\n",
       "      <td>0</td>\n",
       "      <td>3</td>\n",
       "    </tr>\n",
       "    <tr>\n",
       "      <th>1</th>\n",
       "      <td>10021445</td>\n",
       "      <td>19</td>\n",
       "      <td>2</td>\n",
       "      <td>17</td>\n",
       "    </tr>\n",
       "    <tr>\n",
       "      <th>2</th>\n",
       "      <td>10021515</td>\n",
       "      <td>3</td>\n",
       "      <td>0</td>\n",
       "      <td>3</td>\n",
       "    </tr>\n",
       "    <tr>\n",
       "      <th>3</th>\n",
       "      <td>10021522</td>\n",
       "      <td>2</td>\n",
       "      <td>0</td>\n",
       "      <td>2</td>\n",
       "    </tr>\n",
       "    <tr>\n",
       "      <th>4</th>\n",
       "      <td>10021564</td>\n",
       "      <td>18</td>\n",
       "      <td>0</td>\n",
       "      <td>17</td>\n",
       "    </tr>\n",
       "    <tr>\n",
       "      <th>...</th>\n",
       "      <td>...</td>\n",
       "      <td>...</td>\n",
       "      <td>...</td>\n",
       "      <td>...</td>\n",
       "    </tr>\n",
       "    <tr>\n",
       "      <th>978040</th>\n",
       "      <td>993342</td>\n",
       "      <td>13</td>\n",
       "      <td>0</td>\n",
       "      <td>11</td>\n",
       "    </tr>\n",
       "    <tr>\n",
       "      <th>978041</th>\n",
       "      <td>994833</td>\n",
       "      <td>26</td>\n",
       "      <td>0</td>\n",
       "      <td>20</td>\n",
       "    </tr>\n",
       "    <tr>\n",
       "      <th>978042</th>\n",
       "      <td>994840</td>\n",
       "      <td>40</td>\n",
       "      <td>4</td>\n",
       "      <td>34</td>\n",
       "    </tr>\n",
       "    <tr>\n",
       "      <th>978043</th>\n",
       "      <td>995442</td>\n",
       "      <td>5</td>\n",
       "      <td>0</td>\n",
       "      <td>5</td>\n",
       "    </tr>\n",
       "    <tr>\n",
       "      <th>978044</th>\n",
       "      <td>999502</td>\n",
       "      <td>1</td>\n",
       "      <td>0</td>\n",
       "      <td>1</td>\n",
       "    </tr>\n",
       "  </tbody>\n",
       "</table>\n",
       "<p>978045 rows × 4 columns</p>\n",
       "</div>"
      ],
      "text/plain": [
       "       product_code  nb_display  nb_click  nb_visit\n",
       "0          10015831           3         0         3\n",
       "1          10021445          19         2        17\n",
       "2          10021515           3         0         3\n",
       "3          10021522           2         0         2\n",
       "4          10021564          18         0        17\n",
       "...             ...         ...       ...       ...\n",
       "978040       993342          13         0        11\n",
       "978041       994833          26         0        20\n",
       "978042       994840          40         4        34\n",
       "978043       995442           5         0         5\n",
       "978044       999502           1         0         1\n",
       "\n",
       "[978045 rows x 4 columns]"
      ]
     },
     "execution_count": 29,
     "metadata": {},
     "output_type": "execute_result"
    }
   ],
   "source": [
    "df_piano_gr = df_piano.groupby('product_code').agg(nb_display=('nb_display', 'sum'), nb_click=('nb_click', 'sum'),\\\n",
    "                                                   nb_visit=('visit_id', 'nunique')).reset_index()\n",
    "df_piano_gr.head()"
   ]
  },
  {
   "cell_type": "code",
   "execution_count": 32,
   "metadata": {},
   "outputs": [
    {
     "data": {
      "text/html": [
       "<div>\n",
       "<style scoped>\n",
       "    .dataframe tbody tr th:only-of-type {\n",
       "        vertical-align: middle;\n",
       "    }\n",
       "\n",
       "    .dataframe tbody tr th {\n",
       "        vertical-align: top;\n",
       "    }\n",
       "\n",
       "    .dataframe thead th {\n",
       "        text-align: right;\n",
       "    }\n",
       "</style>\n",
       "<table border=\"1\" class=\"dataframe\">\n",
       "  <thead>\n",
       "    <tr style=\"text-align: right;\">\n",
       "      <th></th>\n",
       "      <th>product_code</th>\n",
       "      <th>concept_code</th>\n",
       "      <th>nb_q</th>\n",
       "      <th>nb_display</th>\n",
       "      <th>nb_click</th>\n",
       "      <th>nb_visit</th>\n",
       "    </tr>\n",
       "  </thead>\n",
       "  <tbody>\n",
       "    <tr>\n",
       "      <th>0</th>\n",
       "      <td>85854594</td>\n",
       "      <td>https://opus-adeo.poolparty.biz/COMMONTAXO/4070</td>\n",
       "      <td>75</td>\n",
       "      <td>22</td>\n",
       "      <td>1</td>\n",
       "      <td>21.0</td>\n",
       "    </tr>\n",
       "    <tr>\n",
       "      <th>1</th>\n",
       "      <td>84596631</td>\n",
       "      <td>https://opus-adeo.poolparty.biz/COMMONTAXO/16478</td>\n",
       "      <td>83</td>\n",
       "      <td>44</td>\n",
       "      <td>0</td>\n",
       "      <td>41.0</td>\n",
       "    </tr>\n",
       "    <tr>\n",
       "      <th>2</th>\n",
       "      <td>85559622</td>\n",
       "      <td>https://opus-adeo.poolparty.biz/COMMONTAXO/2929</td>\n",
       "      <td>31</td>\n",
       "      <td>19</td>\n",
       "      <td>0</td>\n",
       "      <td>18.0</td>\n",
       "    </tr>\n",
       "  </tbody>\n",
       "</table>\n",
       "</div>"
      ],
      "text/plain": [
       "  product_code                                      concept_code  nb_q  \\\n",
       "0     85854594   https://opus-adeo.poolparty.biz/COMMONTAXO/4070    75   \n",
       "1     84596631  https://opus-adeo.poolparty.biz/COMMONTAXO/16478    83   \n",
       "2     85559622   https://opus-adeo.poolparty.biz/COMMONTAXO/2929    31   \n",
       "\n",
       "   nb_display  nb_click  nb_visit  \n",
       "0          22         1      21.0  \n",
       "1          44         0      41.0  \n",
       "2          19         0      18.0  "
      ]
     },
     "execution_count": 32,
     "metadata": {},
     "output_type": "execute_result"
    }
   ],
   "source": [
    "df_uq_pr_act = df_uq_r.merge(df_piano_gr, left_on = 'product_code', right_on='product_code', how='left')\n",
    "df_uq_pr_act.head(3)"
   ]
  },
  {
   "cell_type": "code",
   "execution_count": 33,
   "metadata": {},
   "outputs": [
    {
     "data": {
      "text/html": [
       "<div>\n",
       "<style scoped>\n",
       "    .dataframe tbody tr th:only-of-type {\n",
       "        vertical-align: middle;\n",
       "    }\n",
       "\n",
       "    .dataframe tbody tr th {\n",
       "        vertical-align: top;\n",
       "    }\n",
       "\n",
       "    .dataframe thead th {\n",
       "        text-align: right;\n",
       "    }\n",
       "</style>\n",
       "<table border=\"1\" class=\"dataframe\">\n",
       "  <thead>\n",
       "    <tr style=\"text-align: right;\">\n",
       "      <th></th>\n",
       "      <th>product_code</th>\n",
       "      <th>concept_code</th>\n",
       "      <th>nb_q</th>\n",
       "      <th>nb_display</th>\n",
       "      <th>nb_click</th>\n",
       "      <th>nb_visit</th>\n",
       "      <th>ctr</th>\n",
       "    </tr>\n",
       "  </thead>\n",
       "  <tbody>\n",
       "    <tr>\n",
       "      <th>0</th>\n",
       "      <td>85854594</td>\n",
       "      <td>https://opus-adeo.poolparty.biz/COMMONTAXO/4070</td>\n",
       "      <td>75</td>\n",
       "      <td>22</td>\n",
       "      <td>1</td>\n",
       "      <td>21.0</td>\n",
       "      <td>0.05</td>\n",
       "    </tr>\n",
       "    <tr>\n",
       "      <th>1</th>\n",
       "      <td>84596631</td>\n",
       "      <td>https://opus-adeo.poolparty.biz/COMMONTAXO/16478</td>\n",
       "      <td>83</td>\n",
       "      <td>44</td>\n",
       "      <td>0</td>\n",
       "      <td>41.0</td>\n",
       "      <td>0.0</td>\n",
       "    </tr>\n",
       "    <tr>\n",
       "      <th>2</th>\n",
       "      <td>85559622</td>\n",
       "      <td>https://opus-adeo.poolparty.biz/COMMONTAXO/2929</td>\n",
       "      <td>31</td>\n",
       "      <td>19</td>\n",
       "      <td>0</td>\n",
       "      <td>18.0</td>\n",
       "      <td>0.0</td>\n",
       "    </tr>\n",
       "  </tbody>\n",
       "</table>\n",
       "</div>"
      ],
      "text/plain": [
       "  product_code                                      concept_code  nb_q  \\\n",
       "0     85854594   https://opus-adeo.poolparty.biz/COMMONTAXO/4070    75   \n",
       "1     84596631  https://opus-adeo.poolparty.biz/COMMONTAXO/16478    83   \n",
       "2     85559622   https://opus-adeo.poolparty.biz/COMMONTAXO/2929    31   \n",
       "\n",
       "   nb_display  nb_click  nb_visit   ctr  \n",
       "0          22         1      21.0  0.05  \n",
       "1          44         0      41.0   0.0  \n",
       "2          19         0      18.0   0.0  "
      ]
     },
     "execution_count": 33,
     "metadata": {},
     "output_type": "execute_result"
    }
   ],
   "source": [
    "df_uq_pr_act['ctr'] = (df_uq_pr_act['nb_click'] / df_uq_pr_act['nb_display']).round(2)\n",
    "df_uq_pr_act.head(3)"
   ]
  },
  {
   "cell_type": "code",
   "execution_count": 34,
   "metadata": {},
   "outputs": [
    {
     "data": {
      "text/plain": [
       "8677177"
      ]
     },
     "execution_count": 34,
     "metadata": {},
     "output_type": "execute_result"
    }
   ],
   "source": [
    "df_uq_pr_act.shape[0]"
   ]
  },
  {
   "cell_type": "code",
   "execution_count": 35,
   "metadata": {},
   "outputs": [
    {
     "data": {
      "text/plain": [
       "3637"
      ]
     },
     "execution_count": 35,
     "metadata": {},
     "output_type": "execute_result"
    }
   ],
   "source": [
    "df_uq_pr_act[df_uq_pr_act['nb_display']<df_uq_pr_act['nb_click']].shape[0]"
   ]
  },
  {
   "cell_type": "code",
   "execution_count": 36,
   "metadata": {},
   "outputs": [
    {
     "data": {
      "text/plain": [
       "6581396"
      ]
     },
     "execution_count": 36,
     "metadata": {},
     "output_type": "execute_result"
    }
   ],
   "source": [
    "df_uq_pr_act[df_uq_pr_act['nb_display']>df_uq_pr_act['nb_click']].shape[0]"
   ]
  },
  {
   "cell_type": "code",
   "execution_count": 37,
   "metadata": {},
   "outputs": [
    {
     "data": {
      "text/plain": [
       "2073857"
      ]
     },
     "execution_count": 37,
     "metadata": {},
     "output_type": "execute_result"
    }
   ],
   "source": [
    "df_uq_pr_act[df_uq_pr_act['nb_display'].isna()].shape[0]"
   ]
  },
  {
   "attachments": {},
   "cell_type": "markdown",
   "metadata": {},
   "source": [
    "There are 3 type of data:  \n",
    "1. correct : nb_display >= nb_click  \n",
    "2. not correct : nb_display < nb_click  \n",
    "3. no user activity data in piano  \n",
    "--> use only data with user activity from piano"
   ]
  },
  {
   "cell_type": "code",
   "execution_count": 38,
   "metadata": {},
   "outputs": [
    {
     "data": {
      "text/plain": [
       "6599683"
      ]
     },
     "execution_count": 38,
     "metadata": {},
     "output_type": "execute_result"
    }
   ],
   "source": [
    "#df with clean user activity data\n",
    "df_uq_pr_act = df_uq_pr_act[df_uq_pr_act['nb_display']>=df_uq_pr_act['nb_click']]\n",
    "df_uq_pr_act.shape[0]"
   ]
  },
  {
   "cell_type": "code",
   "execution_count": 39,
   "metadata": {},
   "outputs": [
    {
     "data": {
      "text/html": [
       "<div>\n",
       "<style scoped>\n",
       "    .dataframe tbody tr th:only-of-type {\n",
       "        vertical-align: middle;\n",
       "    }\n",
       "\n",
       "    .dataframe tbody tr th {\n",
       "        vertical-align: top;\n",
       "    }\n",
       "\n",
       "    .dataframe thead th {\n",
       "        text-align: right;\n",
       "    }\n",
       "</style>\n",
       "<table border=\"1\" class=\"dataframe\">\n",
       "  <thead>\n",
       "    <tr style=\"text-align: right;\">\n",
       "      <th></th>\n",
       "      <th>product_code</th>\n",
       "      <th>concept_code</th>\n",
       "      <th>nb_q</th>\n",
       "      <th>nb_display</th>\n",
       "      <th>nb_click</th>\n",
       "      <th>nb_visit</th>\n",
       "      <th>ctr</th>\n",
       "    </tr>\n",
       "  </thead>\n",
       "  <tbody>\n",
       "    <tr>\n",
       "      <th>0</th>\n",
       "      <td>85854594</td>\n",
       "      <td>https://opus-adeo.poolparty.biz/COMMONTAXO/4070</td>\n",
       "      <td>75</td>\n",
       "      <td>22</td>\n",
       "      <td>1</td>\n",
       "      <td>21.0</td>\n",
       "      <td>0.05</td>\n",
       "    </tr>\n",
       "    <tr>\n",
       "      <th>1</th>\n",
       "      <td>84596631</td>\n",
       "      <td>https://opus-adeo.poolparty.biz/COMMONTAXO/16478</td>\n",
       "      <td>83</td>\n",
       "      <td>44</td>\n",
       "      <td>0</td>\n",
       "      <td>41.0</td>\n",
       "      <td>0.0</td>\n",
       "    </tr>\n",
       "  </tbody>\n",
       "</table>\n",
       "</div>"
      ],
      "text/plain": [
       "  product_code                                      concept_code  nb_q  \\\n",
       "0     85854594   https://opus-adeo.poolparty.biz/COMMONTAXO/4070    75   \n",
       "1     84596631  https://opus-adeo.poolparty.biz/COMMONTAXO/16478    83   \n",
       "\n",
       "   nb_display  nb_click  nb_visit   ctr  \n",
       "0          22         1      21.0  0.05  \n",
       "1          44         0      41.0   0.0  "
      ]
     },
     "execution_count": 39,
     "metadata": {},
     "output_type": "execute_result"
    }
   ],
   "source": [
    "df_uq_pr_act.head(2)"
   ]
  },
  {
   "attachments": {},
   "cell_type": "markdown",
   "metadata": {},
   "source": [
    "For some concepts there are strange nb of products in the search data. Check the example with concept https://opus-adeo.poolparty.biz/COMMONTAXO/1239"
   ]
  },
  {
   "cell_type": "code",
   "execution_count": 59,
   "metadata": {},
   "outputs": [
    {
     "data": {
      "text/html": [
       "<div>\n",
       "<style scoped>\n",
       "    .dataframe tbody tr th:only-of-type {\n",
       "        vertical-align: middle;\n",
       "    }\n",
       "\n",
       "    .dataframe tbody tr th {\n",
       "        vertical-align: top;\n",
       "    }\n",
       "\n",
       "    .dataframe thead th {\n",
       "        text-align: right;\n",
       "    }\n",
       "</style>\n",
       "<table border=\"1\" class=\"dataframe\">\n",
       "  <thead>\n",
       "    <tr style=\"text-align: right;\">\n",
       "      <th></th>\n",
       "      <th>concept_code</th>\n",
       "      <th>product_code</th>\n",
       "    </tr>\n",
       "  </thead>\n",
       "  <tbody>\n",
       "    <tr>\n",
       "      <th>0</th>\n",
       "      <td>https://opus-adeo.poolparty.biz/COMMONTAXO/1239</td>\n",
       "      <td>48</td>\n",
       "    </tr>\n",
       "  </tbody>\n",
       "</table>\n",
       "</div>"
      ],
      "text/plain": [
       "                                      concept_code  product_code\n",
       "0  https://opus-adeo.poolparty.biz/COMMONTAXO/1239            48"
      ]
     },
     "execution_count": 59,
     "metadata": {},
     "output_type": "execute_result"
    }
   ],
   "source": [
    "df_uq_pr_act[df_uq_pr_act['concept_code']=='https://opus-adeo.poolparty.biz/COMMONTAXO/1239']\\\n",
    "    .groupby('concept_code')['product_code'].nunique().reset_index()"
   ]
  },
  {
   "cell_type": "code",
   "execution_count": 60,
   "metadata": {},
   "outputs": [
    {
     "data": {
      "text/html": [
       "<div>\n",
       "<style scoped>\n",
       "    .dataframe tbody tr th:only-of-type {\n",
       "        vertical-align: middle;\n",
       "    }\n",
       "\n",
       "    .dataframe tbody tr th {\n",
       "        vertical-align: top;\n",
       "    }\n",
       "\n",
       "    .dataframe thead th {\n",
       "        text-align: right;\n",
       "    }\n",
       "</style>\n",
       "<table border=\"1\" class=\"dataframe\">\n",
       "  <thead>\n",
       "    <tr style=\"text-align: right;\">\n",
       "      <th></th>\n",
       "      <th>concept_code</th>\n",
       "      <th>product_code</th>\n",
       "    </tr>\n",
       "  </thead>\n",
       "  <tbody>\n",
       "    <tr>\n",
       "      <th>0</th>\n",
       "      <td>https://opus-adeo.poolparty.biz/COMMONTAXO/1239</td>\n",
       "      <td>5</td>\n",
       "    </tr>\n",
       "  </tbody>\n",
       "</table>\n",
       "</div>"
      ],
      "text/plain": [
       "                                      concept_code  product_code\n",
       "0  https://opus-adeo.poolparty.biz/COMMONTAXO/1239             5"
      ]
     },
     "execution_count": 60,
     "metadata": {},
     "output_type": "execute_result"
    }
   ],
   "source": [
    "df_pr_conc[df_pr_conc['concept_code']=='https://opus-adeo.poolparty.biz/COMMONTAXO/1239']\\\n",
    "    .groupby('concept_code')['product_code'].nunique().reset_index()"
   ]
  },
  {
   "attachments": {},
   "cell_type": "markdown",
   "metadata": {},
   "source": [
    "Looks like in search data there are more products linked to the concept --> filter only products with correct concept according to the KG info"
   ]
  },
  {
   "attachments": {},
   "cell_type": "markdown",
   "metadata": {},
   "source": [
    "SELECT date, productCode, concepts.code  \n",
    "FROM `opus-prod.frlm_opus_knowledge_graph.CONCEPT_CODES_CONTAINING_PRODUCT`,  \n",
    "unnest (concepts) as concepts  \n",
    "where concepts.code like '%/1239'  \n",
    "order by date desc, productCode desc  "
   ]
  },
  {
   "cell_type": "code",
   "execution_count": 64,
   "metadata": {},
   "outputs": [
    {
     "data": {
      "text/html": [
       "<div>\n",
       "<style scoped>\n",
       "    .dataframe tbody tr th:only-of-type {\n",
       "        vertical-align: middle;\n",
       "    }\n",
       "\n",
       "    .dataframe tbody tr th {\n",
       "        vertical-align: top;\n",
       "    }\n",
       "\n",
       "    .dataframe thead th {\n",
       "        text-align: right;\n",
       "    }\n",
       "</style>\n",
       "<table border=\"1\" class=\"dataframe\">\n",
       "  <thead>\n",
       "    <tr style=\"text-align: right;\">\n",
       "      <th></th>\n",
       "      <th>pr_c</th>\n",
       "      <th>d</th>\n",
       "      <th>conc_c</th>\n",
       "    </tr>\n",
       "  </thead>\n",
       "  <tbody>\n",
       "    <tr>\n",
       "      <th>0</th>\n",
       "      <td>89959659</td>\n",
       "      <td>2024-01-12 21:48:19.027</td>\n",
       "      <td>https://opus-adeo.poolparty.biz/COMMONTAXO/3387</td>\n",
       "    </tr>\n",
       "    <tr>\n",
       "      <th>1</th>\n",
       "      <td>89963789</td>\n",
       "      <td>2024-01-10 04:24:06.630</td>\n",
       "      <td>https://opus-adeo.poolparty.biz/COMMONTAXO/3387</td>\n",
       "    </tr>\n",
       "  </tbody>\n",
       "</table>\n",
       "</div>"
      ],
      "text/plain": [
       "       pr_c                       d  \\\n",
       "0  89959659 2024-01-12 21:48:19.027   \n",
       "1  89963789 2024-01-10 04:24:06.630   \n",
       "\n",
       "                                            conc_c  \n",
       "0  https://opus-adeo.poolparty.biz/COMMONTAXO/3387  \n",
       "1  https://opus-adeo.poolparty.biz/COMMONTAXO/3387  "
      ]
     },
     "execution_count": 64,
     "metadata": {},
     "output_type": "execute_result"
    }
   ],
   "source": [
    "df_pr_conc_2 = df_pr_conc.copy()\n",
    "df_pr_conc_2.columns = ['pr_c','d','conc_c']\n",
    "df_pr_conc_2.head(2)"
   ]
  },
  {
   "cell_type": "code",
   "execution_count": 65,
   "metadata": {},
   "outputs": [
    {
     "data": {
      "text/plain": [
       "6599683"
      ]
     },
     "execution_count": 65,
     "metadata": {},
     "output_type": "execute_result"
    }
   ],
   "source": [
    "df_uq_pr_act.shape[0]"
   ]
  },
  {
   "cell_type": "code",
   "execution_count": 68,
   "metadata": {},
   "outputs": [
    {
     "data": {
      "text/html": [
       "<div>\n",
       "<style scoped>\n",
       "    .dataframe tbody tr th:only-of-type {\n",
       "        vertical-align: middle;\n",
       "    }\n",
       "\n",
       "    .dataframe tbody tr th {\n",
       "        vertical-align: top;\n",
       "    }\n",
       "\n",
       "    .dataframe thead th {\n",
       "        text-align: right;\n",
       "    }\n",
       "</style>\n",
       "<table border=\"1\" class=\"dataframe\">\n",
       "  <thead>\n",
       "    <tr style=\"text-align: right;\">\n",
       "      <th></th>\n",
       "      <th>product_code</th>\n",
       "      <th>concept_code</th>\n",
       "      <th>nb_q</th>\n",
       "      <th>nb_display</th>\n",
       "      <th>nb_click</th>\n",
       "      <th>nb_visit</th>\n",
       "      <th>ctr</th>\n",
       "      <th>pr_c</th>\n",
       "      <th>d</th>\n",
       "      <th>conc_c</th>\n",
       "    </tr>\n",
       "  </thead>\n",
       "  <tbody>\n",
       "    <tr>\n",
       "      <th>0</th>\n",
       "      <td>85854594</td>\n",
       "      <td>https://opus-adeo.poolparty.biz/COMMONTAXO/4070</td>\n",
       "      <td>75</td>\n",
       "      <td>22</td>\n",
       "      <td>1</td>\n",
       "      <td>21.0</td>\n",
       "      <td>0.05</td>\n",
       "      <td>85854594</td>\n",
       "      <td>2022-10-13 09:49:21.937</td>\n",
       "      <td>https://opus-adeo.poolparty.biz/COMMONTAXO/4070</td>\n",
       "    </tr>\n",
       "    <tr>\n",
       "      <th>1</th>\n",
       "      <td>84596631</td>\n",
       "      <td>https://opus-adeo.poolparty.biz/COMMONTAXO/16478</td>\n",
       "      <td>83</td>\n",
       "      <td>44</td>\n",
       "      <td>0</td>\n",
       "      <td>41.0</td>\n",
       "      <td>0.0</td>\n",
       "      <td>NaN</td>\n",
       "      <td>NaT</td>\n",
       "      <td>NaN</td>\n",
       "    </tr>\n",
       "    <tr>\n",
       "      <th>2</th>\n",
       "      <td>85559622</td>\n",
       "      <td>https://opus-adeo.poolparty.biz/COMMONTAXO/2929</td>\n",
       "      <td>31</td>\n",
       "      <td>19</td>\n",
       "      <td>0</td>\n",
       "      <td>18.0</td>\n",
       "      <td>0.0</td>\n",
       "      <td>85559622</td>\n",
       "      <td>2024-01-25 09:04:06.320</td>\n",
       "      <td>https://opus-adeo.poolparty.biz/COMMONTAXO/2929</td>\n",
       "    </tr>\n",
       "    <tr>\n",
       "      <th>3</th>\n",
       "      <td>83306604</td>\n",
       "      <td>https://opus-adeo.poolparty.biz/COMMONTAXO/2258</td>\n",
       "      <td>51</td>\n",
       "      <td>21</td>\n",
       "      <td>1</td>\n",
       "      <td>20.0</td>\n",
       "      <td>0.05</td>\n",
       "      <td>83306604</td>\n",
       "      <td>2022-10-10 19:09:34.156</td>\n",
       "      <td>https://opus-adeo.poolparty.biz/COMMONTAXO/2258</td>\n",
       "    </tr>\n",
       "    <tr>\n",
       "      <th>4</th>\n",
       "      <td>88280281</td>\n",
       "      <td>https://opus-adeo.poolparty.biz/COMMONTAXO/3045</td>\n",
       "      <td>22</td>\n",
       "      <td>6</td>\n",
       "      <td>1</td>\n",
       "      <td>6.0</td>\n",
       "      <td>0.17</td>\n",
       "      <td>88280281</td>\n",
       "      <td>2022-08-02 12:49:04.833</td>\n",
       "      <td>https://opus-adeo.poolparty.biz/COMMONTAXO/3045</td>\n",
       "    </tr>\n",
       "  </tbody>\n",
       "</table>\n",
       "</div>"
      ],
      "text/plain": [
       "  product_code                                      concept_code  nb_q  \\\n",
       "0     85854594   https://opus-adeo.poolparty.biz/COMMONTAXO/4070    75   \n",
       "1     84596631  https://opus-adeo.poolparty.biz/COMMONTAXO/16478    83   \n",
       "2     85559622   https://opus-adeo.poolparty.biz/COMMONTAXO/2929    31   \n",
       "3     83306604   https://opus-adeo.poolparty.biz/COMMONTAXO/2258    51   \n",
       "4     88280281   https://opus-adeo.poolparty.biz/COMMONTAXO/3045    22   \n",
       "\n",
       "   nb_display  nb_click  nb_visit   ctr      pr_c                       d  \\\n",
       "0          22         1      21.0  0.05  85854594 2022-10-13 09:49:21.937   \n",
       "1          44         0      41.0   0.0       NaN                     NaT   \n",
       "2          19         0      18.0   0.0  85559622 2024-01-25 09:04:06.320   \n",
       "3          21         1      20.0  0.05  83306604 2022-10-10 19:09:34.156   \n",
       "4           6         1       6.0  0.17  88280281 2022-08-02 12:49:04.833   \n",
       "\n",
       "                                            conc_c  \n",
       "0  https://opus-adeo.poolparty.biz/COMMONTAXO/4070  \n",
       "1                                              NaN  \n",
       "2  https://opus-adeo.poolparty.biz/COMMONTAXO/2929  \n",
       "3  https://opus-adeo.poolparty.biz/COMMONTAXO/2258  \n",
       "4  https://opus-adeo.poolparty.biz/COMMONTAXO/3045  "
      ]
     },
     "execution_count": 68,
     "metadata": {},
     "output_type": "execute_result"
    }
   ],
   "source": [
    "df_uq_pr_act = df_uq_pr_act.merge(df_pr_conc_2[['pr_c','d','conc_c']], left_on=['product_code','concept_code'],\\\n",
    "                                    right_on=['pr_c','conc_c'], how='left')\n",
    "df_uq_pr_act.head()"
   ]
  },
  {
   "cell_type": "code",
   "execution_count": 82,
   "metadata": {},
   "outputs": [],
   "source": [
    "def pr_c(df):\n",
    "    if df['pr_c']==df['product_code']:\n",
    "        return 1\n",
    "    else:\n",
    "        return 0"
   ]
  },
  {
   "cell_type": "code",
   "execution_count": 83,
   "metadata": {},
   "outputs": [
    {
     "data": {
      "text/html": [
       "<div>\n",
       "<style scoped>\n",
       "    .dataframe tbody tr th:only-of-type {\n",
       "        vertical-align: middle;\n",
       "    }\n",
       "\n",
       "    .dataframe tbody tr th {\n",
       "        vertical-align: top;\n",
       "    }\n",
       "\n",
       "    .dataframe thead th {\n",
       "        text-align: right;\n",
       "    }\n",
       "</style>\n",
       "<table border=\"1\" class=\"dataframe\">\n",
       "  <thead>\n",
       "    <tr style=\"text-align: right;\">\n",
       "      <th></th>\n",
       "      <th>product_code</th>\n",
       "      <th>concept_code</th>\n",
       "      <th>nb_q</th>\n",
       "      <th>nb_display</th>\n",
       "      <th>nb_click</th>\n",
       "      <th>nb_visit</th>\n",
       "      <th>ctr</th>\n",
       "      <th>pr_c</th>\n",
       "      <th>d</th>\n",
       "      <th>conc_c</th>\n",
       "      <th>pr_check</th>\n",
       "    </tr>\n",
       "  </thead>\n",
       "  <tbody>\n",
       "    <tr>\n",
       "      <th>0</th>\n",
       "      <td>85854594</td>\n",
       "      <td>https://opus-adeo.poolparty.biz/COMMONTAXO/4070</td>\n",
       "      <td>75</td>\n",
       "      <td>22</td>\n",
       "      <td>1</td>\n",
       "      <td>21.0</td>\n",
       "      <td>0.05</td>\n",
       "      <td>85854594</td>\n",
       "      <td>2022-10-13 09:49:21.937</td>\n",
       "      <td>https://opus-adeo.poolparty.biz/COMMONTAXO/4070</td>\n",
       "      <td>1</td>\n",
       "    </tr>\n",
       "    <tr>\n",
       "      <th>1</th>\n",
       "      <td>84596631</td>\n",
       "      <td>https://opus-adeo.poolparty.biz/COMMONTAXO/16478</td>\n",
       "      <td>83</td>\n",
       "      <td>44</td>\n",
       "      <td>0</td>\n",
       "      <td>41.0</td>\n",
       "      <td>0.0</td>\n",
       "      <td>NaN</td>\n",
       "      <td>NaT</td>\n",
       "      <td>NaN</td>\n",
       "      <td>0</td>\n",
       "    </tr>\n",
       "    <tr>\n",
       "      <th>2</th>\n",
       "      <td>85559622</td>\n",
       "      <td>https://opus-adeo.poolparty.biz/COMMONTAXO/2929</td>\n",
       "      <td>31</td>\n",
       "      <td>19</td>\n",
       "      <td>0</td>\n",
       "      <td>18.0</td>\n",
       "      <td>0.0</td>\n",
       "      <td>85559622</td>\n",
       "      <td>2024-01-25 09:04:06.320</td>\n",
       "      <td>https://opus-adeo.poolparty.biz/COMMONTAXO/2929</td>\n",
       "      <td>1</td>\n",
       "    </tr>\n",
       "    <tr>\n",
       "      <th>3</th>\n",
       "      <td>83306604</td>\n",
       "      <td>https://opus-adeo.poolparty.biz/COMMONTAXO/2258</td>\n",
       "      <td>51</td>\n",
       "      <td>21</td>\n",
       "      <td>1</td>\n",
       "      <td>20.0</td>\n",
       "      <td>0.05</td>\n",
       "      <td>83306604</td>\n",
       "      <td>2022-10-10 19:09:34.156</td>\n",
       "      <td>https://opus-adeo.poolparty.biz/COMMONTAXO/2258</td>\n",
       "      <td>1</td>\n",
       "    </tr>\n",
       "    <tr>\n",
       "      <th>4</th>\n",
       "      <td>88280281</td>\n",
       "      <td>https://opus-adeo.poolparty.biz/COMMONTAXO/3045</td>\n",
       "      <td>22</td>\n",
       "      <td>6</td>\n",
       "      <td>1</td>\n",
       "      <td>6.0</td>\n",
       "      <td>0.17</td>\n",
       "      <td>88280281</td>\n",
       "      <td>2022-08-02 12:49:04.833</td>\n",
       "      <td>https://opus-adeo.poolparty.biz/COMMONTAXO/3045</td>\n",
       "      <td>1</td>\n",
       "    </tr>\n",
       "  </tbody>\n",
       "</table>\n",
       "</div>"
      ],
      "text/plain": [
       "  product_code                                      concept_code  nb_q  \\\n",
       "0     85854594   https://opus-adeo.poolparty.biz/COMMONTAXO/4070    75   \n",
       "1     84596631  https://opus-adeo.poolparty.biz/COMMONTAXO/16478    83   \n",
       "2     85559622   https://opus-adeo.poolparty.biz/COMMONTAXO/2929    31   \n",
       "3     83306604   https://opus-adeo.poolparty.biz/COMMONTAXO/2258    51   \n",
       "4     88280281   https://opus-adeo.poolparty.biz/COMMONTAXO/3045    22   \n",
       "\n",
       "   nb_display  nb_click  nb_visit   ctr      pr_c                       d  \\\n",
       "0          22         1      21.0  0.05  85854594 2022-10-13 09:49:21.937   \n",
       "1          44         0      41.0   0.0       NaN                     NaT   \n",
       "2          19         0      18.0   0.0  85559622 2024-01-25 09:04:06.320   \n",
       "3          21         1      20.0  0.05  83306604 2022-10-10 19:09:34.156   \n",
       "4           6         1       6.0  0.17  88280281 2022-08-02 12:49:04.833   \n",
       "\n",
       "                                            conc_c  pr_check  \n",
       "0  https://opus-adeo.poolparty.biz/COMMONTAXO/4070         1  \n",
       "1                                              NaN         0  \n",
       "2  https://opus-adeo.poolparty.biz/COMMONTAXO/2929         1  \n",
       "3  https://opus-adeo.poolparty.biz/COMMONTAXO/2258         1  \n",
       "4  https://opus-adeo.poolparty.biz/COMMONTAXO/3045         1  "
      ]
     },
     "execution_count": 83,
     "metadata": {},
     "output_type": "execute_result"
    }
   ],
   "source": [
    "df_uq_pr_act['pr_check'] = df_uq_pr_act.apply(pr_c, axis=1)\n",
    "df_uq_pr_act.head()"
   ]
  },
  {
   "cell_type": "code",
   "execution_count": 84,
   "metadata": {},
   "outputs": [
    {
     "data": {
      "text/html": [
       "<div>\n",
       "<style scoped>\n",
       "    .dataframe tbody tr th:only-of-type {\n",
       "        vertical-align: middle;\n",
       "    }\n",
       "\n",
       "    .dataframe tbody tr th {\n",
       "        vertical-align: top;\n",
       "    }\n",
       "\n",
       "    .dataframe thead th {\n",
       "        text-align: right;\n",
       "    }\n",
       "</style>\n",
       "<table border=\"1\" class=\"dataframe\">\n",
       "  <thead>\n",
       "    <tr style=\"text-align: right;\">\n",
       "      <th></th>\n",
       "      <th>pr_check</th>\n",
       "      <th>product_code</th>\n",
       "    </tr>\n",
       "  </thead>\n",
       "  <tbody>\n",
       "    <tr>\n",
       "      <th>0</th>\n",
       "      <td>0</td>\n",
       "      <td>787535</td>\n",
       "    </tr>\n",
       "    <tr>\n",
       "      <th>1</th>\n",
       "      <td>1</td>\n",
       "      <td>794846</td>\n",
       "    </tr>\n",
       "  </tbody>\n",
       "</table>\n",
       "</div>"
      ],
      "text/plain": [
       "   pr_check  product_code\n",
       "0         0        787535\n",
       "1         1        794846"
      ]
     },
     "execution_count": 84,
     "metadata": {},
     "output_type": "execute_result"
    }
   ],
   "source": [
    "df_uq_pr_act.groupby('pr_check')['product_code'].nunique().reset_index()"
   ]
  },
  {
   "cell_type": "code",
   "execution_count": 85,
   "metadata": {},
   "outputs": [],
   "source": [
    "df_uq_pr_act = df_uq_pr_act[df_uq_pr_act['pr_check']==1]"
   ]
  },
  {
   "attachments": {},
   "cell_type": "markdown",
   "metadata": {},
   "source": [
    "Concept metrics"
   ]
  },
  {
   "cell_type": "code",
   "execution_count": 86,
   "metadata": {},
   "outputs": [
    {
     "data": {
      "text/html": [
       "<div>\n",
       "<style scoped>\n",
       "    .dataframe tbody tr th:only-of-type {\n",
       "        vertical-align: middle;\n",
       "    }\n",
       "\n",
       "    .dataframe tbody tr th {\n",
       "        vertical-align: top;\n",
       "    }\n",
       "\n",
       "    .dataframe thead th {\n",
       "        text-align: right;\n",
       "    }\n",
       "</style>\n",
       "<table border=\"1\" class=\"dataframe\">\n",
       "  <thead>\n",
       "    <tr style=\"text-align: right;\">\n",
       "      <th></th>\n",
       "      <th>concept_code</th>\n",
       "      <th>nb_pr_in_uq</th>\n",
       "      <th>nb_q</th>\n",
       "      <th>nb_display</th>\n",
       "      <th>nb_click</th>\n",
       "      <th>nb_visit</th>\n",
       "      <th>avg_ctr</th>\n",
       "    </tr>\n",
       "  </thead>\n",
       "  <tbody>\n",
       "    <tr>\n",
       "      <th>0</th>\n",
       "      <td>https://opus-adeo.poolparty.biz/COMMONTAXO/10</td>\n",
       "      <td>27</td>\n",
       "      <td>116</td>\n",
       "      <td>598</td>\n",
       "      <td>19</td>\n",
       "      <td>503.0</td>\n",
       "      <td>0.011481</td>\n",
       "    </tr>\n",
       "    <tr>\n",
       "      <th>1</th>\n",
       "      <td>https://opus-adeo.poolparty.biz/COMMONTAXO/100</td>\n",
       "      <td>567</td>\n",
       "      <td>9781</td>\n",
       "      <td>4161</td>\n",
       "      <td>245</td>\n",
       "      <td>3510.0</td>\n",
       "      <td>0.037884</td>\n",
       "    </tr>\n",
       "    <tr>\n",
       "      <th>2</th>\n",
       "      <td>https://opus-adeo.poolparty.biz/COMMONTAXO/1000</td>\n",
       "      <td>48</td>\n",
       "      <td>240</td>\n",
       "      <td>1007</td>\n",
       "      <td>36</td>\n",
       "      <td>860.0</td>\n",
       "      <td>0.031875</td>\n",
       "    </tr>\n",
       "  </tbody>\n",
       "</table>\n",
       "</div>"
      ],
      "text/plain": [
       "                                      concept_code  nb_pr_in_uq  nb_q  \\\n",
       "0    https://opus-adeo.poolparty.biz/COMMONTAXO/10           27   116   \n",
       "1   https://opus-adeo.poolparty.biz/COMMONTAXO/100          567  9781   \n",
       "2  https://opus-adeo.poolparty.biz/COMMONTAXO/1000           48   240   \n",
       "\n",
       "   nb_display  nb_click  nb_visit   avg_ctr  \n",
       "0         598        19     503.0  0.011481  \n",
       "1        4161       245    3510.0  0.037884  \n",
       "2        1007        36     860.0  0.031875  "
      ]
     },
     "execution_count": 86,
     "metadata": {},
     "output_type": "execute_result"
    }
   ],
   "source": [
    "df_uq_concept_ctr = df_uq_pr_act.groupby('concept_code').agg({'product_code': 'nunique', 'nb_q': 'sum',\\\n",
    "                                                              'nb_display': 'sum', 'nb_click': 'sum',\\\n",
    "                                                              'nb_visit': 'sum', 'ctr': 'mean'}).reset_index()\n",
    "df_uq_concept_ctr.columns = ['concept_code', 'nb_pr_in_uq', 'nb_q', 'nb_display', 'nb_click', 'nb_visit', 'avg_ctr']\n",
    "df_uq_concept_ctr.head(3)"
   ]
  },
  {
   "attachments": {},
   "cell_type": "markdown",
   "metadata": {},
   "source": [
    "Create the table with number of products in the concept"
   ]
  },
  {
   "cell_type": "code",
   "execution_count": 87,
   "metadata": {},
   "outputs": [
    {
     "data": {
      "text/html": [
       "<div>\n",
       "<style scoped>\n",
       "    .dataframe tbody tr th:only-of-type {\n",
       "        vertical-align: middle;\n",
       "    }\n",
       "\n",
       "    .dataframe tbody tr th {\n",
       "        vertical-align: top;\n",
       "    }\n",
       "\n",
       "    .dataframe thead th {\n",
       "        text-align: right;\n",
       "    }\n",
       "</style>\n",
       "<table border=\"1\" class=\"dataframe\">\n",
       "  <thead>\n",
       "    <tr style=\"text-align: right;\">\n",
       "      <th></th>\n",
       "      <th>product_code</th>\n",
       "      <th>date</th>\n",
       "      <th>concept_code</th>\n",
       "    </tr>\n",
       "  </thead>\n",
       "  <tbody>\n",
       "    <tr>\n",
       "      <th>0</th>\n",
       "      <td>89959659</td>\n",
       "      <td>2024-01-12 21:48:19.027</td>\n",
       "      <td>https://opus-adeo.poolparty.biz/COMMONTAXO/3387</td>\n",
       "    </tr>\n",
       "    <tr>\n",
       "      <th>1</th>\n",
       "      <td>89963789</td>\n",
       "      <td>2024-01-10 04:24:06.630</td>\n",
       "      <td>https://opus-adeo.poolparty.biz/COMMONTAXO/3387</td>\n",
       "    </tr>\n",
       "  </tbody>\n",
       "</table>\n",
       "</div>"
      ],
      "text/plain": [
       "  product_code                    date  \\\n",
       "0     89959659 2024-01-12 21:48:19.027   \n",
       "1     89963789 2024-01-10 04:24:06.630   \n",
       "\n",
       "                                      concept_code  \n",
       "0  https://opus-adeo.poolparty.biz/COMMONTAXO/3387  \n",
       "1  https://opus-adeo.poolparty.biz/COMMONTAXO/3387  "
      ]
     },
     "execution_count": 87,
     "metadata": {},
     "output_type": "execute_result"
    }
   ],
   "source": [
    "df_pr_conc.head(2)"
   ]
  },
  {
   "cell_type": "code",
   "execution_count": 88,
   "metadata": {},
   "outputs": [
    {
     "data": {
      "text/html": [
       "<div>\n",
       "<style scoped>\n",
       "    .dataframe tbody tr th:only-of-type {\n",
       "        vertical-align: middle;\n",
       "    }\n",
       "\n",
       "    .dataframe tbody tr th {\n",
       "        vertical-align: top;\n",
       "    }\n",
       "\n",
       "    .dataframe thead th {\n",
       "        text-align: right;\n",
       "    }\n",
       "</style>\n",
       "<table border=\"1\" class=\"dataframe\">\n",
       "  <thead>\n",
       "    <tr style=\"text-align: right;\">\n",
       "      <th></th>\n",
       "      <th>concept_code</th>\n",
       "      <th>nb_pr</th>\n",
       "    </tr>\n",
       "  </thead>\n",
       "  <tbody>\n",
       "    <tr>\n",
       "      <th>0</th>\n",
       "      <td>https://opus-adeo.poolparty.biz/COMMONTAXO/1</td>\n",
       "      <td>53964</td>\n",
       "    </tr>\n",
       "    <tr>\n",
       "      <th>1</th>\n",
       "      <td>https://opus-adeo.poolparty.biz/COMMONTAXO/10</td>\n",
       "      <td>107</td>\n",
       "    </tr>\n",
       "    <tr>\n",
       "      <th>2</th>\n",
       "      <td>https://opus-adeo.poolparty.biz/COMMONTAXO/100</td>\n",
       "      <td>1904</td>\n",
       "    </tr>\n",
       "    <tr>\n",
       "      <th>3</th>\n",
       "      <td>https://opus-adeo.poolparty.biz/COMMONTAXO/1000</td>\n",
       "      <td>797</td>\n",
       "    </tr>\n",
       "    <tr>\n",
       "      <th>4</th>\n",
       "      <td>https://opus-adeo.poolparty.biz/COMMONTAXO/1001</td>\n",
       "      <td>29</td>\n",
       "    </tr>\n",
       "  </tbody>\n",
       "</table>\n",
       "</div>"
      ],
      "text/plain": [
       "                                      concept_code  nb_pr\n",
       "0     https://opus-adeo.poolparty.biz/COMMONTAXO/1  53964\n",
       "1    https://opus-adeo.poolparty.biz/COMMONTAXO/10    107\n",
       "2   https://opus-adeo.poolparty.biz/COMMONTAXO/100   1904\n",
       "3  https://opus-adeo.poolparty.biz/COMMONTAXO/1000    797\n",
       "4  https://opus-adeo.poolparty.biz/COMMONTAXO/1001     29"
      ]
     },
     "execution_count": 88,
     "metadata": {},
     "output_type": "execute_result"
    }
   ],
   "source": [
    "df_concept_gr = df_pr_conc.groupby('concept_code')['product_code'].nunique().reset_index()\n",
    "df_concept_gr.columns = ['concept_code','nb_pr']\n",
    "df_concept_gr.head()"
   ]
  },
  {
   "cell_type": "code",
   "execution_count": 89,
   "metadata": {},
   "outputs": [
    {
     "data": {
      "text/html": [
       "<div>\n",
       "<style scoped>\n",
       "    .dataframe tbody tr th:only-of-type {\n",
       "        vertical-align: middle;\n",
       "    }\n",
       "\n",
       "    .dataframe tbody tr th {\n",
       "        vertical-align: top;\n",
       "    }\n",
       "\n",
       "    .dataframe thead th {\n",
       "        text-align: right;\n",
       "    }\n",
       "</style>\n",
       "<table border=\"1\" class=\"dataframe\">\n",
       "  <thead>\n",
       "    <tr style=\"text-align: right;\">\n",
       "      <th></th>\n",
       "      <th>concept_code</th>\n",
       "      <th>nb_pr_in_uq</th>\n",
       "      <th>nb_q</th>\n",
       "      <th>nb_display</th>\n",
       "      <th>nb_click</th>\n",
       "      <th>nb_visit</th>\n",
       "      <th>avg_ctr</th>\n",
       "      <th>nb_pr</th>\n",
       "    </tr>\n",
       "  </thead>\n",
       "  <tbody>\n",
       "    <tr>\n",
       "      <th>0</th>\n",
       "      <td>https://opus-adeo.poolparty.biz/COMMONTAXO/10</td>\n",
       "      <td>27</td>\n",
       "      <td>116</td>\n",
       "      <td>598</td>\n",
       "      <td>19</td>\n",
       "      <td>503.0</td>\n",
       "      <td>0.011481</td>\n",
       "      <td>107</td>\n",
       "    </tr>\n",
       "    <tr>\n",
       "      <th>1</th>\n",
       "      <td>https://opus-adeo.poolparty.biz/COMMONTAXO/100</td>\n",
       "      <td>567</td>\n",
       "      <td>9781</td>\n",
       "      <td>4161</td>\n",
       "      <td>245</td>\n",
       "      <td>3510.0</td>\n",
       "      <td>0.037884</td>\n",
       "      <td>1904</td>\n",
       "    </tr>\n",
       "    <tr>\n",
       "      <th>2</th>\n",
       "      <td>https://opus-adeo.poolparty.biz/COMMONTAXO/1000</td>\n",
       "      <td>48</td>\n",
       "      <td>240</td>\n",
       "      <td>1007</td>\n",
       "      <td>36</td>\n",
       "      <td>860.0</td>\n",
       "      <td>0.031875</td>\n",
       "      <td>797</td>\n",
       "    </tr>\n",
       "  </tbody>\n",
       "</table>\n",
       "</div>"
      ],
      "text/plain": [
       "                                      concept_code  nb_pr_in_uq  nb_q  \\\n",
       "0    https://opus-adeo.poolparty.biz/COMMONTAXO/10           27   116   \n",
       "1   https://opus-adeo.poolparty.biz/COMMONTAXO/100          567  9781   \n",
       "2  https://opus-adeo.poolparty.biz/COMMONTAXO/1000           48   240   \n",
       "\n",
       "   nb_display  nb_click  nb_visit   avg_ctr  nb_pr  \n",
       "0         598        19     503.0  0.011481    107  \n",
       "1        4161       245    3510.0  0.037884   1904  \n",
       "2        1007        36     860.0  0.031875    797  "
      ]
     },
     "execution_count": 89,
     "metadata": {},
     "output_type": "execute_result"
    }
   ],
   "source": [
    "df_concept_metrics_1 = df_uq_concept_ctr.merge(df_concept_gr, left_on='concept_code', right_on='concept_code', how='left')\n",
    "df_concept_metrics_1.head(3)"
   ]
  },
  {
   "attachments": {},
   "cell_type": "markdown",
   "metadata": {},
   "source": [
    "Create the table with rating of the concept according to the user activity"
   ]
  },
  {
   "cell_type": "code",
   "execution_count": 90,
   "metadata": {},
   "outputs": [
    {
     "data": {
      "text/html": [
       "<div>\n",
       "<style scoped>\n",
       "    .dataframe tbody tr th:only-of-type {\n",
       "        vertical-align: middle;\n",
       "    }\n",
       "\n",
       "    .dataframe tbody tr th {\n",
       "        vertical-align: top;\n",
       "    }\n",
       "\n",
       "    .dataframe thead th {\n",
       "        text-align: right;\n",
       "    }\n",
       "</style>\n",
       "<table border=\"1\" class=\"dataframe\">\n",
       "  <thead>\n",
       "    <tr style=\"text-align: right;\">\n",
       "      <th></th>\n",
       "      <th>product_code</th>\n",
       "      <th>concept_code</th>\n",
       "      <th>nb_q</th>\n",
       "    </tr>\n",
       "  </thead>\n",
       "  <tbody>\n",
       "    <tr>\n",
       "      <th>0</th>\n",
       "      <td>85854594</td>\n",
       "      <td>https://opus-adeo.poolparty.biz/COMMONTAXO/4070</td>\n",
       "      <td>75</td>\n",
       "    </tr>\n",
       "    <tr>\n",
       "      <th>1</th>\n",
       "      <td>84596631</td>\n",
       "      <td>https://opus-adeo.poolparty.biz/COMMONTAXO/16478</td>\n",
       "      <td>83</td>\n",
       "    </tr>\n",
       "  </tbody>\n",
       "</table>\n",
       "</div>"
      ],
      "text/plain": [
       "  product_code                                      concept_code  nb_q\n",
       "0     85854594   https://opus-adeo.poolparty.biz/COMMONTAXO/4070    75\n",
       "1     84596631  https://opus-adeo.poolparty.biz/COMMONTAXO/16478    83"
      ]
     },
     "execution_count": 90,
     "metadata": {},
     "output_type": "execute_result"
    }
   ],
   "source": [
    "df_uq_r.head(2)"
   ]
  },
  {
   "cell_type": "code",
   "execution_count": 91,
   "metadata": {},
   "outputs": [
    {
     "data": {
      "text/html": [
       "<div>\n",
       "<style scoped>\n",
       "    .dataframe tbody tr th:only-of-type {\n",
       "        vertical-align: middle;\n",
       "    }\n",
       "\n",
       "    .dataframe tbody tr th {\n",
       "        vertical-align: top;\n",
       "    }\n",
       "\n",
       "    .dataframe thead th {\n",
       "        text-align: right;\n",
       "    }\n",
       "</style>\n",
       "<table border=\"1\" class=\"dataframe\">\n",
       "  <thead>\n",
       "    <tr style=\"text-align: right;\">\n",
       "      <th></th>\n",
       "      <th>index</th>\n",
       "      <th>concept_code</th>\n",
       "      <th>nb_q</th>\n",
       "      <th>rating</th>\n",
       "    </tr>\n",
       "  </thead>\n",
       "  <tbody>\n",
       "    <tr>\n",
       "      <th>0</th>\n",
       "      <td>4073</td>\n",
       "      <td>https://opus-adeo.poolparty.biz/COMMONTAXO/3097</td>\n",
       "      <td>1309001</td>\n",
       "      <td>0</td>\n",
       "    </tr>\n",
       "    <tr>\n",
       "      <th>1</th>\n",
       "      <td>4409</td>\n",
       "      <td>https://opus-adeo.poolparty.biz/COMMONTAXO/3474</td>\n",
       "      <td>1292345</td>\n",
       "      <td>1</td>\n",
       "    </tr>\n",
       "    <tr>\n",
       "      <th>2</th>\n",
       "      <td>7386</td>\n",
       "      <td>https://opus-adeo.poolparty.biz/COMMONTAXO/8600</td>\n",
       "      <td>1278194</td>\n",
       "      <td>2</td>\n",
       "    </tr>\n",
       "    <tr>\n",
       "      <th>3</th>\n",
       "      <td>3845</td>\n",
       "      <td>https://opus-adeo.poolparty.biz/COMMONTAXO/2864</td>\n",
       "      <td>1119003</td>\n",
       "      <td>3</td>\n",
       "    </tr>\n",
       "    <tr>\n",
       "      <th>4</th>\n",
       "      <td>3125</td>\n",
       "      <td>https://opus-adeo.poolparty.biz/COMMONTAXO/23050</td>\n",
       "      <td>1104999</td>\n",
       "      <td>4</td>\n",
       "    </tr>\n",
       "  </tbody>\n",
       "</table>\n",
       "</div>"
      ],
      "text/plain": [
       "   index                                      concept_code     nb_q  rating\n",
       "0   4073   https://opus-adeo.poolparty.biz/COMMONTAXO/3097  1309001       0\n",
       "1   4409   https://opus-adeo.poolparty.biz/COMMONTAXO/3474  1292345       1\n",
       "2   7386   https://opus-adeo.poolparty.biz/COMMONTAXO/8600  1278194       2\n",
       "3   3845   https://opus-adeo.poolparty.biz/COMMONTAXO/2864  1119003       3\n",
       "4   3125  https://opus-adeo.poolparty.biz/COMMONTAXO/23050  1104999       4"
      ]
     },
     "execution_count": 91,
     "metadata": {},
     "output_type": "execute_result"
    }
   ],
   "source": [
    "df_uq_gr = df_uq_r.groupby('concept_code')['nb_q'].sum().reset_index()\n",
    "# del df_uq_gr['index']\n",
    "df_uq_gr = df_uq_gr.sort_values(by='nb_q', ascending=False).reset_index()\n",
    "df_uq_gr['rating'] = df_uq_gr.index\n",
    "df_uq_gr.head()"
   ]
  },
  {
   "attachments": {},
   "cell_type": "markdown",
   "metadata": {},
   "source": [
    "!!! there are not the same numbers for the nb of uwer queries for rating and in the table with the metrics because in the table with the metrics there are only products with data in piano"
   ]
  },
  {
   "cell_type": "code",
   "execution_count": 92,
   "metadata": {},
   "outputs": [
    {
     "data": {
      "text/html": [
       "<div>\n",
       "<style scoped>\n",
       "    .dataframe tbody tr th:only-of-type {\n",
       "        vertical-align: middle;\n",
       "    }\n",
       "\n",
       "    .dataframe tbody tr th {\n",
       "        vertical-align: top;\n",
       "    }\n",
       "\n",
       "    .dataframe thead th {\n",
       "        text-align: right;\n",
       "    }\n",
       "</style>\n",
       "<table border=\"1\" class=\"dataframe\">\n",
       "  <thead>\n",
       "    <tr style=\"text-align: right;\">\n",
       "      <th></th>\n",
       "      <th>concept_code</th>\n",
       "      <th>nb_pr_in_uq</th>\n",
       "      <th>nb_q</th>\n",
       "      <th>nb_display</th>\n",
       "      <th>nb_click</th>\n",
       "      <th>nb_visit</th>\n",
       "      <th>avg_ctr</th>\n",
       "      <th>nb_pr</th>\n",
       "      <th>rating</th>\n",
       "    </tr>\n",
       "  </thead>\n",
       "  <tbody>\n",
       "    <tr>\n",
       "      <th>0</th>\n",
       "      <td>https://opus-adeo.poolparty.biz/COMMONTAXO/10</td>\n",
       "      <td>27</td>\n",
       "      <td>116</td>\n",
       "      <td>598</td>\n",
       "      <td>19</td>\n",
       "      <td>503.0</td>\n",
       "      <td>0.011481</td>\n",
       "      <td>107</td>\n",
       "      <td>5250</td>\n",
       "    </tr>\n",
       "    <tr>\n",
       "      <th>1</th>\n",
       "      <td>https://opus-adeo.poolparty.biz/COMMONTAXO/100</td>\n",
       "      <td>567</td>\n",
       "      <td>9781</td>\n",
       "      <td>4161</td>\n",
       "      <td>245</td>\n",
       "      <td>3510.0</td>\n",
       "      <td>0.037884</td>\n",
       "      <td>1904</td>\n",
       "      <td>666</td>\n",
       "    </tr>\n",
       "    <tr>\n",
       "      <th>2</th>\n",
       "      <td>https://opus-adeo.poolparty.biz/COMMONTAXO/1000</td>\n",
       "      <td>48</td>\n",
       "      <td>240</td>\n",
       "      <td>1007</td>\n",
       "      <td>36</td>\n",
       "      <td>860.0</td>\n",
       "      <td>0.031875</td>\n",
       "      <td>797</td>\n",
       "      <td>5568</td>\n",
       "    </tr>\n",
       "    <tr>\n",
       "      <th>3</th>\n",
       "      <td>https://opus-adeo.poolparty.biz/COMMONTAXO/1001</td>\n",
       "      <td>16</td>\n",
       "      <td>360</td>\n",
       "      <td>627</td>\n",
       "      <td>19</td>\n",
       "      <td>516.0</td>\n",
       "      <td>0.0375</td>\n",
       "      <td>29</td>\n",
       "      <td>4228</td>\n",
       "    </tr>\n",
       "    <tr>\n",
       "      <th>4</th>\n",
       "      <td>https://opus-adeo.poolparty.biz/COMMONTAXO/1004</td>\n",
       "      <td>21</td>\n",
       "      <td>4651</td>\n",
       "      <td>2291</td>\n",
       "      <td>122</td>\n",
       "      <td>1846.0</td>\n",
       "      <td>0.036667</td>\n",
       "      <td>23</td>\n",
       "      <td>1079</td>\n",
       "    </tr>\n",
       "  </tbody>\n",
       "</table>\n",
       "</div>"
      ],
      "text/plain": [
       "                                      concept_code  nb_pr_in_uq  nb_q  \\\n",
       "0    https://opus-adeo.poolparty.biz/COMMONTAXO/10           27   116   \n",
       "1   https://opus-adeo.poolparty.biz/COMMONTAXO/100          567  9781   \n",
       "2  https://opus-adeo.poolparty.biz/COMMONTAXO/1000           48   240   \n",
       "3  https://opus-adeo.poolparty.biz/COMMONTAXO/1001           16   360   \n",
       "4  https://opus-adeo.poolparty.biz/COMMONTAXO/1004           21  4651   \n",
       "\n",
       "   nb_display  nb_click  nb_visit   avg_ctr  nb_pr  rating  \n",
       "0         598        19     503.0  0.011481    107    5250  \n",
       "1        4161       245    3510.0  0.037884   1904     666  \n",
       "2        1007        36     860.0  0.031875    797    5568  \n",
       "3         627        19     516.0    0.0375     29    4228  \n",
       "4        2291       122    1846.0  0.036667     23    1079  "
      ]
     },
     "execution_count": 92,
     "metadata": {},
     "output_type": "execute_result"
    }
   ],
   "source": [
    "df_concept_metrics = df_concept_metrics_1.merge(df_uq_gr[['concept_code', 'rating']], left_on='concept_code',\\\n",
    "                                                  right_on = 'concept_code', how='left')\n",
    "df_concept_metrics.head()"
   ]
  },
  {
   "cell_type": "code",
   "execution_count": 93,
   "metadata": {},
   "outputs": [
    {
     "data": {
      "text/html": [
       "<div>\n",
       "<style scoped>\n",
       "    .dataframe tbody tr th:only-of-type {\n",
       "        vertical-align: middle;\n",
       "    }\n",
       "\n",
       "    .dataframe tbody tr th {\n",
       "        vertical-align: top;\n",
       "    }\n",
       "\n",
       "    .dataframe thead th {\n",
       "        text-align: right;\n",
       "    }\n",
       "</style>\n",
       "<table border=\"1\" class=\"dataframe\">\n",
       "  <thead>\n",
       "    <tr style=\"text-align: right;\">\n",
       "      <th></th>\n",
       "      <th>concept_code</th>\n",
       "      <th>nb_pr_in_uq</th>\n",
       "      <th>nb_q</th>\n",
       "      <th>nb_display</th>\n",
       "      <th>nb_click</th>\n",
       "      <th>nb_visit</th>\n",
       "      <th>avg_ctr</th>\n",
       "      <th>nb_pr</th>\n",
       "      <th>rating</th>\n",
       "      <th>perc_q_pr</th>\n",
       "    </tr>\n",
       "  </thead>\n",
       "  <tbody>\n",
       "    <tr>\n",
       "      <th>6061</th>\n",
       "      <td>https://opus-adeo.poolparty.biz/COMMONTAXO/999</td>\n",
       "      <td>3</td>\n",
       "      <td>29</td>\n",
       "      <td>24</td>\n",
       "      <td>0</td>\n",
       "      <td>22.0</td>\n",
       "      <td>0.0</td>\n",
       "      <td>3</td>\n",
       "      <td>5878</td>\n",
       "      <td>1.00</td>\n",
       "    </tr>\n",
       "    <tr>\n",
       "      <th>2852</th>\n",
       "      <td>https://opus-adeo.poolparty.biz/COMMONTAXO/3041</td>\n",
       "      <td>6</td>\n",
       "      <td>79</td>\n",
       "      <td>38</td>\n",
       "      <td>0</td>\n",
       "      <td>38.0</td>\n",
       "      <td>0.0</td>\n",
       "      <td>12</td>\n",
       "      <td>3551</td>\n",
       "      <td>0.50</td>\n",
       "    </tr>\n",
       "    <tr>\n",
       "      <th>2861</th>\n",
       "      <td>https://opus-adeo.poolparty.biz/COMMONTAXO/305</td>\n",
       "      <td>3</td>\n",
       "      <td>9</td>\n",
       "      <td>3</td>\n",
       "      <td>0</td>\n",
       "      <td>3.0</td>\n",
       "      <td>0.0</td>\n",
       "      <td>7</td>\n",
       "      <td>1787</td>\n",
       "      <td>0.43</td>\n",
       "    </tr>\n",
       "    <tr>\n",
       "      <th>2868</th>\n",
       "      <td>https://opus-adeo.poolparty.biz/COMMONTAXO/3057</td>\n",
       "      <td>13</td>\n",
       "      <td>76</td>\n",
       "      <td>58</td>\n",
       "      <td>0</td>\n",
       "      <td>51.0</td>\n",
       "      <td>0.0</td>\n",
       "      <td>18</td>\n",
       "      <td>5453</td>\n",
       "      <td>0.72</td>\n",
       "    </tr>\n",
       "    <tr>\n",
       "      <th>2869</th>\n",
       "      <td>https://opus-adeo.poolparty.biz/COMMONTAXO/306</td>\n",
       "      <td>1</td>\n",
       "      <td>5</td>\n",
       "      <td>10</td>\n",
       "      <td>0</td>\n",
       "      <td>10.0</td>\n",
       "      <td>0.0</td>\n",
       "      <td>3</td>\n",
       "      <td>5830</td>\n",
       "      <td>0.33</td>\n",
       "    </tr>\n",
       "  </tbody>\n",
       "</table>\n",
       "</div>"
      ],
      "text/plain": [
       "                                         concept_code  nb_pr_in_uq  nb_q  \\\n",
       "6061   https://opus-adeo.poolparty.biz/COMMONTAXO/999            3    29   \n",
       "2852  https://opus-adeo.poolparty.biz/COMMONTAXO/3041            6    79   \n",
       "2861   https://opus-adeo.poolparty.biz/COMMONTAXO/305            3     9   \n",
       "2868  https://opus-adeo.poolparty.biz/COMMONTAXO/3057           13    76   \n",
       "2869   https://opus-adeo.poolparty.biz/COMMONTAXO/306            1     5   \n",
       "\n",
       "      nb_display  nb_click  nb_visit  avg_ctr  nb_pr  rating  perc_q_pr  \n",
       "6061          24         0      22.0      0.0      3    5878       1.00  \n",
       "2852          38         0      38.0      0.0     12    3551       0.50  \n",
       "2861           3         0       3.0      0.0      7    1787       0.43  \n",
       "2868          58         0      51.0      0.0     18    5453       0.72  \n",
       "2869          10         0      10.0      0.0      3    5830       0.33  "
      ]
     },
     "execution_count": 93,
     "metadata": {},
     "output_type": "execute_result"
    }
   ],
   "source": [
    "df_concept_metrics['perc_q_pr'] = (df_concept_metrics['nb_pr_in_uq'] / df_concept_metrics['nb_pr']).round(2)\n",
    "df_concept_metrics = df_concept_metrics.sort_values(by='avg_ctr')\n",
    "df_concept_metrics.head()"
   ]
  },
  {
   "cell_type": "raw",
   "metadata": {},
   "source": [
    "from google.cloud import bigquery\n",
    "\n",
    "# Initialize the BigQuery client\n",
    "client = bigquery.Client(project=project_id)\n",
    "\n",
    "table_ref = client.dataset(dataset_id).table(table_target_2)\n",
    "table = bigquery.Table(table_ref)\n",
    "\n",
    "# Load the DataFrame into BigQuery\n",
    "job_config = bigquery.LoadJobConfig()\n",
    "job_config.write_disposition = bigquery.WriteDisposition.WRITE_TRUNCATE\n",
    "# OR\n",
    "# job_config.write_disposition = bigquery.WriteDisposition.WRITE_APPEND\n",
    "\n",
    "client.load_table_from_dataframe(df_concept_metrics, table, job_config=job_config).result()"
   ]
  },
  {
   "attachments": {},
   "cell_type": "markdown",
   "metadata": {},
   "source": [
    "#### With these metrics it is possible to check the concepts"
   ]
  },
  {
   "attachments": {},
   "cell_type": "markdown",
   "metadata": {},
   "source": [
    "Check concept with a lot of products, low ctr and high rating"
   ]
  },
  {
   "cell_type": "code",
   "execution_count": 101,
   "metadata": {},
   "outputs": [
    {
     "data": {
      "text/html": [
       "<div>\n",
       "<style scoped>\n",
       "    .dataframe tbody tr th:only-of-type {\n",
       "        vertical-align: middle;\n",
       "    }\n",
       "\n",
       "    .dataframe tbody tr th {\n",
       "        vertical-align: top;\n",
       "    }\n",
       "\n",
       "    .dataframe thead th {\n",
       "        text-align: right;\n",
       "    }\n",
       "</style>\n",
       "<table border=\"1\" class=\"dataframe\">\n",
       "  <thead>\n",
       "    <tr style=\"text-align: right;\">\n",
       "      <th></th>\n",
       "      <th>concept_code</th>\n",
       "      <th>nb_pr_in_uq</th>\n",
       "      <th>nb_q</th>\n",
       "      <th>nb_display</th>\n",
       "      <th>nb_click</th>\n",
       "      <th>nb_visit</th>\n",
       "      <th>avg_ctr</th>\n",
       "      <th>nb_pr</th>\n",
       "      <th>rating</th>\n",
       "      <th>perc_q_pr</th>\n",
       "    </tr>\n",
       "  </thead>\n",
       "  <tbody>\n",
       "    <tr>\n",
       "      <th>3148</th>\n",
       "      <td>https://opus-adeo.poolparty.biz/COMMONTAXO/3387</td>\n",
       "      <td>4889</td>\n",
       "      <td>16253</td>\n",
       "      <td>409049</td>\n",
       "      <td>22405</td>\n",
       "      <td>335963.0</td>\n",
       "      <td>0.033506</td>\n",
       "      <td>1041761</td>\n",
       "      <td>1436</td>\n",
       "      <td>0.00</td>\n",
       "    </tr>\n",
       "    <tr>\n",
       "      <th>4820</th>\n",
       "      <td>https://opus-adeo.poolparty.biz/COMMONTAXO/5333</td>\n",
       "      <td>10562</td>\n",
       "      <td>46984</td>\n",
       "      <td>314715</td>\n",
       "      <td>14528</td>\n",
       "      <td>268653.0</td>\n",
       "      <td>0.031558</td>\n",
       "      <td>907375</td>\n",
       "      <td>444</td>\n",
       "      <td>0.01</td>\n",
       "    </tr>\n",
       "    <tr>\n",
       "      <th>3153</th>\n",
       "      <td>https://opus-adeo.poolparty.biz/COMMONTAXO/3391</td>\n",
       "      <td>38912</td>\n",
       "      <td>618434</td>\n",
       "      <td>915296</td>\n",
       "      <td>46145</td>\n",
       "      <td>776930.0</td>\n",
       "      <td>0.030241</td>\n",
       "      <td>804707</td>\n",
       "      <td>10</td>\n",
       "      <td>0.05</td>\n",
       "    </tr>\n",
       "    <tr>\n",
       "      <th>5848</th>\n",
       "      <td>https://opus-adeo.poolparty.biz/COMMONTAXO/840</td>\n",
       "      <td>16569</td>\n",
       "      <td>90017</td>\n",
       "      <td>545743</td>\n",
       "      <td>26651</td>\n",
       "      <td>453068.0</td>\n",
       "      <td>0.030861</td>\n",
       "      <td>562981</td>\n",
       "      <td>327</td>\n",
       "      <td>0.03</td>\n",
       "    </tr>\n",
       "    <tr>\n",
       "      <th>5034</th>\n",
       "      <td>https://opus-adeo.poolparty.biz/COMMONTAXO/5592</td>\n",
       "      <td>31960</td>\n",
       "      <td>528862</td>\n",
       "      <td>524367</td>\n",
       "      <td>23337</td>\n",
       "      <td>456229.0</td>\n",
       "      <td>0.028551</td>\n",
       "      <td>328283</td>\n",
       "      <td>22</td>\n",
       "      <td>0.10</td>\n",
       "    </tr>\n",
       "    <tr>\n",
       "      <th>...</th>\n",
       "      <td>...</td>\n",
       "      <td>...</td>\n",
       "      <td>...</td>\n",
       "      <td>...</td>\n",
       "      <td>...</td>\n",
       "      <td>...</td>\n",
       "      <td>...</td>\n",
       "      <td>...</td>\n",
       "      <td>...</td>\n",
       "      <td>...</td>\n",
       "    </tr>\n",
       "    <tr>\n",
       "      <th>4771</th>\n",
       "      <td>https://opus-adeo.poolparty.biz/COMMONTAXO/5280</td>\n",
       "      <td>1</td>\n",
       "      <td>2</td>\n",
       "      <td>17</td>\n",
       "      <td>1</td>\n",
       "      <td>15.0</td>\n",
       "      <td>0.06</td>\n",
       "      <td>1</td>\n",
       "      <td>6894</td>\n",
       "      <td>1.00</td>\n",
       "    </tr>\n",
       "    <tr>\n",
       "      <th>948</th>\n",
       "      <td>https://opus-adeo.poolparty.biz/COMMONTAXO/1681</td>\n",
       "      <td>1</td>\n",
       "      <td>2</td>\n",
       "      <td>22</td>\n",
       "      <td>0</td>\n",
       "      <td>22.0</td>\n",
       "      <td>0.0</td>\n",
       "      <td>1</td>\n",
       "      <td>7283</td>\n",
       "      <td>1.00</td>\n",
       "    </tr>\n",
       "    <tr>\n",
       "      <th>945</th>\n",
       "      <td>https://opus-adeo.poolparty.biz/COMMONTAXO/16800</td>\n",
       "      <td>1</td>\n",
       "      <td>1</td>\n",
       "      <td>3</td>\n",
       "      <td>0</td>\n",
       "      <td>3.0</td>\n",
       "      <td>0.0</td>\n",
       "      <td>1</td>\n",
       "      <td>7058</td>\n",
       "      <td>1.00</td>\n",
       "    </tr>\n",
       "    <tr>\n",
       "      <th>889</th>\n",
       "      <td>https://opus-adeo.poolparty.biz/COMMONTAXO/1670</td>\n",
       "      <td>1</td>\n",
       "      <td>3</td>\n",
       "      <td>9</td>\n",
       "      <td>0</td>\n",
       "      <td>7.0</td>\n",
       "      <td>0.0</td>\n",
       "      <td>1</td>\n",
       "      <td>7455</td>\n",
       "      <td>1.00</td>\n",
       "    </tr>\n",
       "    <tr>\n",
       "      <th>4764</th>\n",
       "      <td>https://opus-adeo.poolparty.biz/COMMONTAXO/5273</td>\n",
       "      <td>1</td>\n",
       "      <td>5</td>\n",
       "      <td>5</td>\n",
       "      <td>0</td>\n",
       "      <td>4.0</td>\n",
       "      <td>0.0</td>\n",
       "      <td>1</td>\n",
       "      <td>7137</td>\n",
       "      <td>1.00</td>\n",
       "    </tr>\n",
       "  </tbody>\n",
       "</table>\n",
       "<p>6062 rows × 10 columns</p>\n",
       "</div>"
      ],
      "text/plain": [
       "                                          concept_code  nb_pr_in_uq    nb_q  \\\n",
       "3148   https://opus-adeo.poolparty.biz/COMMONTAXO/3387         4889   16253   \n",
       "4820   https://opus-adeo.poolparty.biz/COMMONTAXO/5333        10562   46984   \n",
       "3153   https://opus-adeo.poolparty.biz/COMMONTAXO/3391        38912  618434   \n",
       "5848    https://opus-adeo.poolparty.biz/COMMONTAXO/840        16569   90017   \n",
       "5034   https://opus-adeo.poolparty.biz/COMMONTAXO/5592        31960  528862   \n",
       "...                                                ...          ...     ...   \n",
       "4771   https://opus-adeo.poolparty.biz/COMMONTAXO/5280            1       2   \n",
       "948    https://opus-adeo.poolparty.biz/COMMONTAXO/1681            1       2   \n",
       "945   https://opus-adeo.poolparty.biz/COMMONTAXO/16800            1       1   \n",
       "889    https://opus-adeo.poolparty.biz/COMMONTAXO/1670            1       3   \n",
       "4764   https://opus-adeo.poolparty.biz/COMMONTAXO/5273            1       5   \n",
       "\n",
       "      nb_display  nb_click  nb_visit   avg_ctr    nb_pr  rating  perc_q_pr  \n",
       "3148      409049     22405  335963.0  0.033506  1041761    1436       0.00  \n",
       "4820      314715     14528  268653.0  0.031558   907375     444       0.01  \n",
       "3153      915296     46145  776930.0  0.030241   804707      10       0.05  \n",
       "5848      545743     26651  453068.0  0.030861   562981     327       0.03  \n",
       "5034      524367     23337  456229.0  0.028551   328283      22       0.10  \n",
       "...          ...       ...       ...       ...      ...     ...        ...  \n",
       "4771          17         1      15.0      0.06        1    6894       1.00  \n",
       "948           22         0      22.0       0.0        1    7283       1.00  \n",
       "945            3         0       3.0       0.0        1    7058       1.00  \n",
       "889            9         0       7.0       0.0        1    7455       1.00  \n",
       "4764           5         0       4.0       0.0        1    7137       1.00  \n",
       "\n",
       "[6062 rows x 10 columns]"
      ]
     },
     "execution_count": 101,
     "metadata": {},
     "output_type": "execute_result"
    }
   ],
   "source": [
    "df_concept_metrics.sort_values(by='nb_pr', ascending=False)"
   ]
  },
  {
   "cell_type": "code",
   "execution_count": 103,
   "metadata": {},
   "outputs": [
    {
     "data": {
      "image/png": "[encoded data removed]",
      "text/plain": [
       "<Figure size 2000x500 with 1 Axes>"
      ]
     },
     "metadata": {
      "image/png": {
       "height": 465,
       "width": 1587
      }
     },
     "output_type": "display_data"
    }
   ],
   "source": [
    "df_concept_metrics[df_concept_metrics['nb_pr']>100000].hist(column='nb_pr', bins = 30, figsize=(20,5));"
   ]
  },
  {
   "cell_type": "code",
   "execution_count": 105,
   "metadata": {},
   "outputs": [
    {
     "data": {
      "text/html": [
       "<div>\n",
       "<style scoped>\n",
       "    .dataframe tbody tr th:only-of-type {\n",
       "        vertical-align: middle;\n",
       "    }\n",
       "\n",
       "    .dataframe tbody tr th {\n",
       "        vertical-align: top;\n",
       "    }\n",
       "\n",
       "    .dataframe thead th {\n",
       "        text-align: right;\n",
       "    }\n",
       "</style>\n",
       "<table border=\"1\" class=\"dataframe\">\n",
       "  <thead>\n",
       "    <tr style=\"text-align: right;\">\n",
       "      <th></th>\n",
       "      <th>concept_code</th>\n",
       "      <th>nb_pr_in_uq</th>\n",
       "      <th>nb_q</th>\n",
       "      <th>nb_display</th>\n",
       "      <th>nb_click</th>\n",
       "      <th>nb_visit</th>\n",
       "      <th>avg_ctr</th>\n",
       "      <th>nb_pr</th>\n",
       "      <th>rating</th>\n",
       "      <th>perc_q_pr</th>\n",
       "    </tr>\n",
       "  </thead>\n",
       "  <tbody>\n",
       "    <tr>\n",
       "      <th>4902</th>\n",
       "      <td>https://opus-adeo.poolparty.biz/COMMONTAXO/5444</td>\n",
       "      <td>1219</td>\n",
       "      <td>6484</td>\n",
       "      <td>5073</td>\n",
       "      <td>125</td>\n",
       "      <td>4571.0</td>\n",
       "      <td>0.012084</td>\n",
       "      <td>164223</td>\n",
       "      <td>627</td>\n",
       "      <td>0.01</td>\n",
       "    </tr>\n",
       "    <tr>\n",
       "      <th>4921</th>\n",
       "      <td>https://opus-adeo.poolparty.biz/COMMONTAXO/5466</td>\n",
       "      <td>3722</td>\n",
       "      <td>26311</td>\n",
       "      <td>11427</td>\n",
       "      <td>269</td>\n",
       "      <td>10464.0</td>\n",
       "      <td>0.013463</td>\n",
       "      <td>248713</td>\n",
       "      <td>461</td>\n",
       "      <td>0.01</td>\n",
       "    </tr>\n",
       "    <tr>\n",
       "      <th>4904</th>\n",
       "      <td>https://opus-adeo.poolparty.biz/COMMONTAXO/5446</td>\n",
       "      <td>1356</td>\n",
       "      <td>12141</td>\n",
       "      <td>5286</td>\n",
       "      <td>130</td>\n",
       "      <td>4833.0</td>\n",
       "      <td>0.014174</td>\n",
       "      <td>149516</td>\n",
       "      <td>1475</td>\n",
       "      <td>0.01</td>\n",
       "    </tr>\n",
       "    <tr>\n",
       "      <th>3247</th>\n",
       "      <td>https://opus-adeo.poolparty.biz/COMMONTAXO/3510</td>\n",
       "      <td>6984</td>\n",
       "      <td>144523</td>\n",
       "      <td>38623</td>\n",
       "      <td>1651</td>\n",
       "      <td>34586.0</td>\n",
       "      <td>0.020113</td>\n",
       "      <td>108872</td>\n",
       "      <td>149</td>\n",
       "      <td>0.06</td>\n",
       "    </tr>\n",
       "    <tr>\n",
       "      <th>441</th>\n",
       "      <td>https://opus-adeo.poolparty.biz/COMMONTAXO/15263</td>\n",
       "      <td>7404</td>\n",
       "      <td>148450</td>\n",
       "      <td>37555</td>\n",
       "      <td>1660</td>\n",
       "      <td>33554.0</td>\n",
       "      <td>0.024148</td>\n",
       "      <td>150362</td>\n",
       "      <td>151</td>\n",
       "      <td>0.05</td>\n",
       "    </tr>\n",
       "    <tr>\n",
       "      <th>3276</th>\n",
       "      <td>https://opus-adeo.poolparty.biz/COMMONTAXO/3555</td>\n",
       "      <td>4374</td>\n",
       "      <td>147937</td>\n",
       "      <td>38047</td>\n",
       "      <td>1512</td>\n",
       "      <td>34112.0</td>\n",
       "      <td>0.02415</td>\n",
       "      <td>115414</td>\n",
       "      <td>198</td>\n",
       "      <td>0.04</td>\n",
       "    </tr>\n",
       "    <tr>\n",
       "      <th>5296</th>\n",
       "      <td>https://opus-adeo.poolparty.biz/COMMONTAXO/591</td>\n",
       "      <td>5643</td>\n",
       "      <td>25426</td>\n",
       "      <td>109367</td>\n",
       "      <td>5570</td>\n",
       "      <td>91435.0</td>\n",
       "      <td>0.027914</td>\n",
       "      <td>102063</td>\n",
       "      <td>732</td>\n",
       "      <td>0.06</td>\n",
       "    </tr>\n",
       "    <tr>\n",
       "      <th>5034</th>\n",
       "      <td>https://opus-adeo.poolparty.biz/COMMONTAXO/5592</td>\n",
       "      <td>31960</td>\n",
       "      <td>528862</td>\n",
       "      <td>524367</td>\n",
       "      <td>23337</td>\n",
       "      <td>456229.0</td>\n",
       "      <td>0.028551</td>\n",
       "      <td>328283</td>\n",
       "      <td>22</td>\n",
       "      <td>0.10</td>\n",
       "    </tr>\n",
       "    <tr>\n",
       "      <th>3153</th>\n",
       "      <td>https://opus-adeo.poolparty.biz/COMMONTAXO/3391</td>\n",
       "      <td>38912</td>\n",
       "      <td>618434</td>\n",
       "      <td>915296</td>\n",
       "      <td>46145</td>\n",
       "      <td>776930.0</td>\n",
       "      <td>0.030241</td>\n",
       "      <td>804707</td>\n",
       "      <td>10</td>\n",
       "      <td>0.05</td>\n",
       "    </tr>\n",
       "    <tr>\n",
       "      <th>4838</th>\n",
       "      <td>https://opus-adeo.poolparty.biz/COMMONTAXO/5358</td>\n",
       "      <td>17897</td>\n",
       "      <td>342000</td>\n",
       "      <td>84369</td>\n",
       "      <td>3691</td>\n",
       "      <td>74292.0</td>\n",
       "      <td>0.03081</td>\n",
       "      <td>306990</td>\n",
       "      <td>48</td>\n",
       "      <td>0.06</td>\n",
       "    </tr>\n",
       "  </tbody>\n",
       "</table>\n",
       "</div>"
      ],
      "text/plain": [
       "                                          concept_code  nb_pr_in_uq    nb_q  \\\n",
       "4902   https://opus-adeo.poolparty.biz/COMMONTAXO/5444         1219    6484   \n",
       "4921   https://opus-adeo.poolparty.biz/COMMONTAXO/5466         3722   26311   \n",
       "4904   https://opus-adeo.poolparty.biz/COMMONTAXO/5446         1356   12141   \n",
       "3247   https://opus-adeo.poolparty.biz/COMMONTAXO/3510         6984  144523   \n",
       "441   https://opus-adeo.poolparty.biz/COMMONTAXO/15263         7404  148450   \n",
       "3276   https://opus-adeo.poolparty.biz/COMMONTAXO/3555         4374  147937   \n",
       "5296    https://opus-adeo.poolparty.biz/COMMONTAXO/591         5643   25426   \n",
       "5034   https://opus-adeo.poolparty.biz/COMMONTAXO/5592        31960  528862   \n",
       "3153   https://opus-adeo.poolparty.biz/COMMONTAXO/3391        38912  618434   \n",
       "4838   https://opus-adeo.poolparty.biz/COMMONTAXO/5358        17897  342000   \n",
       "\n",
       "      nb_display  nb_click  nb_visit   avg_ctr   nb_pr  rating  perc_q_pr  \n",
       "4902        5073       125    4571.0  0.012084  164223     627       0.01  \n",
       "4921       11427       269   10464.0  0.013463  248713     461       0.01  \n",
       "4904        5286       130    4833.0  0.014174  149516    1475       0.01  \n",
       "3247       38623      1651   34586.0  0.020113  108872     149       0.06  \n",
       "441        37555      1660   33554.0  0.024148  150362     151       0.05  \n",
       "3276       38047      1512   34112.0   0.02415  115414     198       0.04  \n",
       "5296      109367      5570   91435.0  0.027914  102063     732       0.06  \n",
       "5034      524367     23337  456229.0  0.028551  328283      22       0.10  \n",
       "3153      915296     46145  776930.0  0.030241  804707      10       0.05  \n",
       "4838       84369      3691   74292.0   0.03081  306990      48       0.06  "
      ]
     },
     "execution_count": 105,
     "metadata": {},
     "output_type": "execute_result"
    }
   ],
   "source": [
    "df_concept_metrics[df_concept_metrics['nb_pr']>100000].sort_values(by=['avg_ctr','rating'], ascending = [True, True]).head(10)"
   ]
  },
  {
   "cell_type": "code",
   "execution_count": 106,
   "metadata": {},
   "outputs": [
    {
     "data": {
      "text/plain": [
       "0.07093368525239195"
      ]
     },
     "execution_count": 106,
     "metadata": {},
     "output_type": "execute_result"
    }
   ],
   "source": [
    "df_concept_metrics[df_concept_metrics['avg_ctr']==0]['concept_code'].nunique()/df_concept_metrics['concept_code'].nunique()"
   ]
  },
  {
   "cell_type": "code",
   "execution_count": 107,
   "metadata": {},
   "outputs": [
    {
     "data": {
      "text/plain": [
       "430"
      ]
     },
     "execution_count": 107,
     "metadata": {},
     "output_type": "execute_result"
    }
   ],
   "source": [
    "df_concept_metrics[df_concept_metrics['avg_ctr']==0]['concept_code'].nunique()"
   ]
  },
  {
   "attachments": {},
   "cell_type": "markdown",
   "metadata": {},
   "source": [
    "7 %  (430 concepts on 31/01/2024) of concepts have 0 ctr"
   ]
  },
  {
   "cell_type": "code",
   "execution_count": 112,
   "metadata": {},
   "outputs": [
    {
     "data": {
      "image/png": "[encoded data removed]",
      "text/plain": [
       "<Figure size 2000x300 with 1 Axes>"
      ]
     },
     "metadata": {
      "image/png": {
       "height": 294,
       "width": 1610
      }
     },
     "output_type": "display_data"
    }
   ],
   "source": [
    "df_concept_metrics.hist(column='avg_ctr', bins = 30, figsize=(20,3));"
   ]
  },
  {
   "cell_type": "code",
   "execution_count": 113,
   "metadata": {},
   "outputs": [
    {
     "data": {
      "image/png": "[encoded data removed]",
      "text/plain": [
       "<Figure size 2000x300 with 1 Axes>"
      ]
     },
     "metadata": {
      "image/png": {
       "height": 294,
       "width": 1602
      }
     },
     "output_type": "display_data"
    }
   ],
   "source": [
    "df_concept_metrics[df_concept_metrics['avg_ctr']<0.1].hist(column='avg_ctr', bins = 30, figsize=(20,3));"
   ]
  },
  {
   "cell_type": "code",
   "execution_count": 139,
   "metadata": {},
   "outputs": [
    {
     "data": {
      "image/png": "[encoded data removed]",
      "text/plain": [
       "<Figure size 1500x1000 with 1 Axes>"
      ]
     },
     "metadata": {
      "image/png": {
       "height": 846,
       "width": 1231
      }
     },
     "output_type": "display_data"
    }
   ],
   "source": [
    "plt.figure(figsize=(15,10))\n",
    "sns.scatterplot(data=df_concept_metrics, x='avg_ctr', y=\"nb_q\",  hue=\"nb_pr\", size = \"nb_pr\", palette=\"husl\", edgecolors=\"black\",\\\n",
    "     alpha=1, sizes=(20, 400))\n",
    "plt.show()\n",
    "# size=\"pop\","
   ]
  },
  {
   "attachments": {},
   "cell_type": "markdown",
   "metadata": {},
   "source": [
    "There are 3 concepts with low ctr, huge number of user queries and number of products in the concepts. So, it is hypothesis to deep dive.  \n",
    "--> Incrise the sample to 1 month\n",
    "--> deep dive into the concept"
   ]
  }
 ],
 "metadata": {
  "kernelspec": {
   "display_name": "cashing-scoring-env",
   "language": "python",
   "name": "python3"
  },
  "language_info": {
   "codemirror_mode": {
    "name": "ipython",
    "version": 3
   },
   "file_extension": ".py",
   "mimetype": "text/x-python",
   "name": "python",
   "nbconvert_exporter": "python",
   "pygments_lexer": "ipython3",
   "version": "3.10.9"
  },
  "orig_nbformat": 4,
  "vscode": {
   "interpreter": {
    "hash": "5932c71fae83f54b051fd5cdef704798997082f1902f53297518df8c2923f49d"
   }
  }
 },
 "nbformat": 4,
 "nbformat_minor": 2
}
